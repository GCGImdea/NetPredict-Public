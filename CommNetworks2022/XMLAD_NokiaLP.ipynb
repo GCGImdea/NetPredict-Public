{
 "cells": [
  {
   "cell_type": "markdown",
   "id": "35d9a749",
   "metadata": {},
   "source": [
    "# XMLAD methodology python implementation"
   ]
  },
  {
   "cell_type": "markdown",
   "id": "18c8a536",
   "metadata": {},
   "source": [
    "## Import libraries"
   ]
  },
  {
   "cell_type": "code",
   "execution_count": 1,
   "id": "1962bfa3",
   "metadata": {},
   "outputs": [],
   "source": [
    "import sys\n",
    "sys.path.append('attribute_name_files')\n",
    "sys.path.append('src')\n",
    "\n",
    "# General libraries\n",
    "import pandas as pd\n",
    "import numpy as np\n",
    "\n",
    "# Ploting libraries\n",
    "import matplotlib.pyplot as plt\n",
    "import matplotlib as mpl\n",
    "from matplotlib.ticker import FormatStrFormatter\n",
    "import seaborn as sn\n",
    "import graphviz\n",
    "plt.rc('font', family='sans-serif')\n",
    "\n",
    "# Scikit learn support functions\n",
    "from sklearn.manifold import MDS\n",
    "from sklearn.metrics import pairwise_distances_argmin_min\n",
    "from sklearn.preprocessing import StandardScaler\n",
    "from sklearn import metrics\n",
    "\n",
    "# Scikit learn models\n",
    "from sklearn.preprocessing import KBinsDiscretizer\n",
    "from sklearn.tree import DecisionTreeClassifier\n",
    "from sklearn import tree\n",
    "\n",
    "# Miscoding libraries\n",
    "from nescience.miscoding import Miscoding\n",
    "from nescience.classifier import Classifier\n",
    "\n",
    "# File with the selected attributes\n",
    "from nokia_data_attributes import attributes\n",
    "import preprocessing as xmlad_pre\n",
    "import models as xmlad_mod\n",
    "from models import GMMclustering\n",
    "import ploting as xmlad_plt\n",
    "\n",
    "visualization = True\n",
    "save_figures  = True"
   ]
  },
  {
   "cell_type": "markdown",
   "id": "7d8733b2",
   "metadata": {},
   "source": [
    "## Load dataset"
   ]
  },
  {
   "cell_type": "code",
   "execution_count": 2,
   "id": "4042f496",
   "metadata": {},
   "outputs": [
    {
     "name": "stderr",
     "output_type": "stream",
     "text": [
      "/home/juan/anaconda3/lib/python3.9/site-packages/IPython/core/interactiveshell.py:3444: DtypeWarning: Columns (41,44,177,179,182,185,195,230,1036,1041,1042,1061,1062) have mixed types.Specify dtype option on import or set low_memory=False.\n",
      "  exec(code_obj, self.user_global_ns, self.user_ns)\n"
     ]
    },
    {
     "name": "stdout",
     "output_type": "stream",
     "text": [
      "['HTTP Static Kepler 0s' 'HTTP Static Kepler 30s'\n",
      " 'HTTPS Live Barclays.co.uk' 'HTTPS Live Bbc.co.uk'\n",
      " 'HTTPS Live Ebay.co.uk' 'HTTPS Live Reddit.com'\n",
      " 'HTTPS Live Telegraph.co.uk' 'HTTPS Live Tripadvisor.co.uk'\n",
      " 'HTTPS Live Wikipedia.org' 'HTTPS Live google.com'\n",
      " 'HTTPS Live instagram.com' 'HTTPS Static Kepler 0s'\n",
      " 'HTTPS Static Kepler 30s'] [1321 1037 1138 1285 1309    1 1193 1197 1373    1 1319 1113 1208]\n",
      "(1208, 1326)\n"
     ]
    }
   ],
   "source": [
    "data = pd.read_csv(\"../../../data/IMDEA.Umlaut.Q1.single.row.csv\", encoding = \"ISO-8859-1\", sep=\";\", decimal=',')\n",
    "#data = data[data['Test.Type'] == 'HTTP FILE DL']\n",
    "data = data[data['Test.Type'] == 'HTTP LIVE PAGE DL']\n",
    "\n",
    "page_vector = data['Task.Name']\n",
    "pages, num_smpl = np.unique(page_vector, return_counts=True)\n",
    "\n",
    "print(pages, num_smpl)\n",
    "print(data[data['Task.Name']=='HTTPS Static Kepler 30s'].shape)\n",
    "\n",
    "\n",
    "data = data[data['Task.Name']=='HTTPS Static Kepler 30s']\n",
    "#data = data[data['Test.Qualifier'] == 'QUALIFIED']\n",
    "#data = data[data[\"Technology\"] == \"LTE\"]\n",
    "data = data[attributes]\n",
    "data = data.select_dtypes(['number'])\n",
    "data.columns= data.columns.str.lower()\n",
    "data = data.loc[~data['session.duration.s'].isna()]\n",
    "kpi_aux = data['session.duration.s']\n",
    "\n",
    "data = data.loc[:, data.columns != 'total_packets_b2a']\n",
    "data = data.loc[:, data.columns != 'sacks_sent_a2b']\n",
    "data = data.loc[:, data.columns != 'pure_acks_sent_a2b']\n",
    "data = data.loc[:, data.columns != 'service.access.sinr.start.dB']\n",
    "\n",
    "original_feat = list(data.columns)\n",
    "for i in range(len(original_feat)):\n",
    "    #print(original_feat[i])\n",
    "    data.rename(columns={original_feat[i]: original_feat[i].replace('_','.')}, inplace=True)\n",
    "    \n",
    "target_kpi = 'session.duration.s'"
   ]
  },
  {
   "cell_type": "markdown",
   "id": "7536119c",
   "metadata": {},
   "source": [
    "## Data Preprocessing stage"
   ]
  },
  {
   "cell_type": "code",
   "execution_count": 3,
   "id": "897715cf",
   "metadata": {},
   "outputs": [
    {
     "name": "stdout",
     "output_type": "stream",
     "text": [
      "Preprocessing stage 1. Data size: (1185, 54)\n",
      "Preprocessing stage 2. Data size: (1185, 29)\n",
      "Preprocessing stage 3. Data size: (1185, 22)\n"
     ]
    }
   ],
   "source": [
    "# Remove features with a large number of null cell (Nans)\n",
    "data = xmlad_pre.null_cell_cleaning(data)\n",
    "print('Preprocessing stage 1. Data size: (%d, %d)'%(data.shape[0], data.shape[1]))\n",
    "\n",
    "# Remove features with low variability\n",
    "data = xmlad_pre.low_variability_cleaning(data)\n",
    "print('Preprocessing stage 2. Data size: (%d, %d)'%(data.shape[0], data.shape[1]))\n",
    "\n",
    "# Remove features with a large number of outliers\n",
    "data = xmlad_pre.outlier_cleaning(data, 'cols')\n",
    "print('Preprocessing stage 3. Data size: (%d, %d)'%(data.shape[0], data.shape[1]))\n",
    "\n",
    "data[target_kpi] = kpi_aux"
   ]
  },
  {
   "cell_type": "code",
   "execution_count": 4,
   "id": "88f247f5",
   "metadata": {},
   "outputs": [
    {
     "name": "stdout",
     "output_type": "stream",
     "text": [
      "['ack.pkts.sent.a2b' 'adv.wind.scale.a2b' 'avg.win.adv.a2b'\n",
      " 'dsack.pkts.sent.a2b' 'end.rssi.dbm' 'max.sack.blks.ack.a2b'\n",
      " 'max.segm.size.b2a' 'max.win.adv.a2b' 'min.segm.size.b2a'\n",
      " 'min.win.adv.a2b' 'rexmt.data.bytes.b2a' 'rexmt.data.pkts.b2a'\n",
      " 'rtt.from.3whs.a2b' 'sack.pkts.sent.a2b' 'segs.cum.acked.a2b'\n",
      " 'service.access.rssi.start.dbm' 'session.duration.s' 'start.rssi.dbm'\n",
      " 'tcp.first.sec.volume.dl' 'tcp.first.sec.volume.ul'\n",
      " 'time.to.first.byte.s' 'truncated.data.b2a' 'truncated.packets.b2a']\n"
     ]
    }
   ],
   "source": [
    "if (visualization == True):\n",
    "    print(np.unique(np.array(data.columns)))"
   ]
  },
  {
   "cell_type": "markdown",
   "id": "3969ccd7",
   "metadata": {},
   "source": [
    "## Training set preparation"
   ]
  },
  {
   "cell_type": "markdown",
   "id": "691a3451",
   "metadata": {},
   "source": [
    "### Discards experiments with a large number of outliers"
   ]
  },
  {
   "cell_type": "code",
   "execution_count": 5,
   "id": "66cbc220",
   "metadata": {},
   "outputs": [
    {
     "name": "stdout",
     "output_type": "stream",
     "text": [
      "Training set preparation stage 1. Data size: (1091, 23)\n"
     ]
    }
   ],
   "source": [
    "# Discard rows with high number of outliers (This dataset shall be used to TRAIN the decision tree)\n",
    "data_non_outliers = xmlad_pre.outlier_cleaning(data, 'rows')\n",
    "print('Training set preparation stage 1. Data size: (%d, %d)'%(data_non_outliers.shape[0], data_non_outliers.shape[1]))"
   ]
  },
  {
   "cell_type": "markdown",
   "id": "b8ef96e6",
   "metadata": {},
   "source": [
    "### Feature selection based on model-based clustering"
   ]
  },
  {
   "cell_type": "code",
   "execution_count": 6,
   "id": "d2141082",
   "metadata": {},
   "outputs": [],
   "source": [
    "data_non_outliers  = data_non_outliers.loc[:, (data_non_outliers.std(axis=0) != 0).values]\n",
    "correlation_matrix = 1 - data_non_outliers.corr(method=\"pearson\").abs()\n",
    "projected_samples  = MDS(n_components=2, \n",
    "                         dissimilarity='precomputed', \n",
    "                         random_state=42).fit_transform(correlation_matrix)\n",
    "\n",
    "# 2D Clustering\n",
    "cov_type       = 'spherical'\n",
    "cluster2dmodel = GMMclustering(projected_samples)\n",
    "cluster2d      = cluster2dmodel.predict(int(correlation_matrix.shape[0]/2), 1234, cov_type)\n",
    "\n",
    "# Feature selection\n",
    "clusters     = cluster2d.clusters_\n",
    "centroids    = cluster2d.centroids_\n",
    "classes      = np.unique(clusters)\n",
    "closest      = [pairwise_distances_argmin_min(centroids[:][int(n_class)].reshape(1, -1), projected_samples[np.where(clusters == n_class)])[0] for n_class in classes] \n",
    "corr_columns = np.array(correlation_matrix.columns.values)\n",
    "train_cols   = [corr_columns[np.where(clusters == n_class)][int(closest[index])] for index, n_class in enumerate(classes)]\n",
    "train_cols   = np.delete(train_cols, clusters[corr_columns==target_kpi])"
   ]
  },
  {
   "cell_type": "markdown",
   "id": "e424e3ed",
   "metadata": {},
   "source": [
    "#### Visualization of the 2D clustering (optional)"
   ]
  },
  {
   "cell_type": "code",
   "execution_count": 7,
   "id": "a3a8bd15",
   "metadata": {},
   "outputs": [
    {
     "data": {
      "image/png": "[encoded data removed]",
      "text/plain": [
       "<Figure size 600x400 with 1 Axes>"
      ]
     },
     "metadata": {
      "needs_background": "light"
     },
     "output_type": "display_data"
    }
   ],
   "source": [
    "if (visualization == True):\n",
    "    covariances = cluster2d.covariances_\n",
    "    xmlad_plt.plot_cluster2d(projected_samples, clusters, centroids, covariances, cov_type)\n",
    "    if (save_figures == True):\n",
    "        plt.savefig('images/nokia_dataset/LP_clustering2D.png', \n",
    "                    format = 'png',\n",
    "                    bbox_inches='tight', \n",
    "                    pad_inches=0)\n",
    "    plt.show()"
   ]
  },
  {
   "cell_type": "markdown",
   "id": "cfdd5108",
   "metadata": {},
   "source": [
    "### KPI discretization"
   ]
  },
  {
   "cell_type": "code",
   "execution_count": 8,
   "id": "e0d24feb",
   "metadata": {},
   "outputs": [],
   "source": [
    "y_train = data_non_outliers[target_kpi].values.reshape(-1, 1)\n",
    "n_bins  = int(np.log2(len(y_train))/2)\n",
    "\n",
    "discretization_model = KBinsDiscretizer(n_bins=n_bins, encode='ordinal', strategy='kmeans').fit(y_train)\n",
    "yd = discretization_model.transform(y_train)[:,0]\n",
    "val, count = np.unique(yd, return_counts=True)\n",
    "labels = ['Very good', 'Good', 'Fair', 'Bad', 'Very bad']"
   ]
  },
  {
   "cell_type": "markdown",
   "id": "ff510f68",
   "metadata": {},
   "source": [
    "#### Visualization discretization (optional)"
   ]
  },
  {
   "cell_type": "code",
   "execution_count": 9,
   "id": "32e0dc90",
   "metadata": {},
   "outputs": [
    {
     "data": {
      "image/png": "[encoded data removed]",
      "text/plain": [
       "<Figure size 600x400 with 1 Axes>"
      ]
     },
     "metadata": {
      "needs_background": "light"
     },
     "output_type": "display_data"
    }
   ],
   "source": [
    "if (visualization == True):\n",
    "    xmlad_plt.hist_discretization(val, count, labels)\n",
    "    if (save_figures == True):\n",
    "        plt.savefig('images/nokia_dataset/LP_discretization.png', \n",
    "                    format='png',\n",
    "                    bbox_inches='tight', \n",
    "                    pad_inches=0)\n",
    "    plt.show()"
   ]
  },
  {
   "cell_type": "markdown",
   "id": "de9196ec",
   "metadata": {},
   "source": [
    "## Training of the anomaly detection engine"
   ]
  },
  {
   "cell_type": "code",
   "execution_count": 10,
   "id": "6da87bfe",
   "metadata": {},
   "outputs": [],
   "source": [
    "X_train  = data_non_outliers[train_cols].copy()\n",
    "vl, cnts = np.unique(yd, return_counts=True)\n",
    "knowledge, scores, ccp_alphas, best_alpha = xmlad_mod.build_decision_tree(n_bins, 5, X_train, yd, np.min(cnts))"
   ]
  },
  {
   "cell_type": "markdown",
   "id": "ef19920e",
   "metadata": {},
   "source": [
    "#### Decision tree optimization (optional)"
   ]
  },
  {
   "cell_type": "code",
   "execution_count": 11,
   "id": "6b0ef93b",
   "metadata": {},
   "outputs": [
    {
     "data": {
      "image/png": "[encoded data removed]",
      "text/plain": [
       "<Figure size 600x400 with 1 Axes>"
      ]
     },
     "metadata": {
      "needs_background": "light"
     },
     "output_type": "display_data"
    }
   ],
   "source": [
    "if (visualization == True):\n",
    "    xmlad_plt.plot_pruning(ccp_alphas, scores)\n",
    "    if (save_figures == True):\n",
    "        plt.savefig('images/nokia_dataset/LP_model1_optimization.png', \n",
    "                    format = 'png',\n",
    "                    bbox_inches='tight', \n",
    "                    pad_inches=0)\n",
    "    plt.show()"
   ]
  },
  {
   "cell_type": "markdown",
   "id": "83fd7b7b",
   "metadata": {},
   "source": [
    "### Display decision tree structure"
   ]
  },
  {
   "cell_type": "code",
   "execution_count": 12,
   "id": "c4b48c2a",
   "metadata": {},
   "outputs": [
    {
     "data": {
      "image/svg+xml": [
       "<?xml version=\"1.0\" encoding=\"UTF-8\" standalone=\"no\"?>\n",
       "<!DOCTYPE svg PUBLIC \"-//W3C//DTD SVG 1.1//EN\"\n",
       " \"http://www.w3.org/Graphics/SVG/1.1/DTD/svg11.dtd\">\n",
       "<!-- Generated by graphviz version 2.43.0 (0)\n",
       " -->\n",
       "<!-- Title: Tree Pages: 1 -->\n",
       "<svg width=\"1525pt\" height=\"671pt\"\n",
       " viewBox=\"0.00 0.00 1524.50 671.00\" xmlns=\"http://www.w3.org/2000/svg\" xmlns:xlink=\"http://www.w3.org/1999/xlink\">\n",
       "<g id=\"graph0\" class=\"graph\" transform=\"scale(1 1) rotate(0) translate(4 667)\">\n",
       "<title>Tree</title>\n",
       "<polygon fill=\"white\" stroke=\"transparent\" points=\"-4,4 -4,-667 1520.5,-667 1520.5,4 -4,4\"/>\n",
       "<!-- 0 -->\n",
       "<g id=\"node1\" class=\"node\">\n",
       "<title>0</title>\n",
       "<path fill=\"#fcfffe\" stroke=\"black\" d=\"M1045.5,-663C1045.5,-663 818.5,-663 818.5,-663 812.5,-663 806.5,-657 806.5,-651 806.5,-651 806.5,-592 806.5,-592 806.5,-586 812.5,-580 818.5,-580 818.5,-580 1045.5,-580 1045.5,-580 1051.5,-580 1057.5,-586 1057.5,-592 1057.5,-592 1057.5,-651 1057.5,-651 1057.5,-657 1051.5,-663 1045.5,-663\"/>\n",
       "<text text-anchor=\"start\" x=\"814.5\" y=\"-647.8\" font-family=\"Helvetica,sans-Serif\" font-size=\"14.00\">tcp.first.sec.volume.ul ≤ 54532.5</text>\n",
       "<text text-anchor=\"start\" x=\"892.5\" y=\"-632.8\" font-family=\"Helvetica,sans-Serif\" font-size=\"14.00\">gini = 0.69</text>\n",
       "<text text-anchor=\"start\" x=\"874.5\" y=\"-617.8\" font-family=\"Helvetica,sans-Serif\" font-size=\"14.00\">samples = 1091</text>\n",
       "<text text-anchor=\"start\" x=\"820.5\" y=\"-602.8\" font-family=\"Helvetica,sans-Serif\" font-size=\"14.00\">value = [62, 197, 410, 23, 399]</text>\n",
       "<text text-anchor=\"start\" x=\"886\" y=\"-587.8\" font-family=\"Helvetica,sans-Serif\" font-size=\"14.00\">class = Good</text>\n",
       "</g>\n",
       "<!-- 1 -->\n",
       "<g id=\"node2\" class=\"node\">\n",
       "<title>1</title>\n",
       "<path fill=\"#e7fcf8\" stroke=\"black\" d=\"M923.5,-544C923.5,-544 696.5,-544 696.5,-544 690.5,-544 684.5,-538 684.5,-532 684.5,-532 684.5,-473 684.5,-473 684.5,-467 690.5,-461 696.5,-461 696.5,-461 923.5,-461 923.5,-461 929.5,-461 935.5,-467 935.5,-473 935.5,-473 935.5,-532 935.5,-532 935.5,-538 929.5,-544 923.5,-544\"/>\n",
       "<text text-anchor=\"start\" x=\"692.5\" y=\"-528.8\" font-family=\"Helvetica,sans-Serif\" font-size=\"14.00\">tcp.first.sec.volume.ul ≤ 44214.5</text>\n",
       "<text text-anchor=\"start\" x=\"770.5\" y=\"-513.8\" font-family=\"Helvetica,sans-Serif\" font-size=\"14.00\">gini = 0.69</text>\n",
       "<text text-anchor=\"start\" x=\"757\" y=\"-498.8\" font-family=\"Helvetica,sans-Serif\" font-size=\"14.00\">samples = 578</text>\n",
       "<text text-anchor=\"start\" x=\"703\" y=\"-483.8\" font-family=\"Helvetica,sans-Serif\" font-size=\"14.00\">value = [61, 197, 243, 22, 55]</text>\n",
       "<text text-anchor=\"start\" x=\"764\" y=\"-468.8\" font-family=\"Helvetica,sans-Serif\" font-size=\"14.00\">class = Good</text>\n",
       "</g>\n",
       "<!-- 0&#45;&gt;1 -->\n",
       "<g id=\"edge1\" class=\"edge\">\n",
       "<title>0&#45;&gt;1</title>\n",
       "<path fill=\"none\" stroke=\"black\" d=\"M889.67,-579.91C880.02,-570.65 869.68,-560.73 859.75,-551.21\"/>\n",
       "<polygon fill=\"black\" stroke=\"black\" points=\"861.89,-548.42 852.25,-544.02 857.05,-553.47 861.89,-548.42\"/>\n",
       "<text text-anchor=\"middle\" x=\"852.78\" y=\"-565.32\" font-family=\"Helvetica,sans-Serif\" font-size=\"14.00\">True</text>\n",
       "</g>\n",
       "<!-- 16 -->\n",
       "<g id=\"node17\" class=\"node\">\n",
       "<title>16</title>\n",
       "<path fill=\"#f29adf\" stroke=\"black\" d=\"M1144.5,-544C1144.5,-544 965.5,-544 965.5,-544 959.5,-544 953.5,-538 953.5,-532 953.5,-532 953.5,-473 953.5,-473 953.5,-467 959.5,-461 965.5,-461 965.5,-461 1144.5,-461 1144.5,-461 1150.5,-461 1156.5,-467 1156.5,-473 1156.5,-473 1156.5,-532 1156.5,-532 1156.5,-538 1150.5,-544 1144.5,-544\"/>\n",
       "<text text-anchor=\"start\" x=\"964.5\" y=\"-528.8\" font-family=\"Helvetica,sans-Serif\" font-size=\"14.00\">time.to.first.byte.s ≤ 0.25</text>\n",
       "<text text-anchor=\"start\" x=\"1015.5\" y=\"-513.8\" font-family=\"Helvetica,sans-Serif\" font-size=\"14.00\">gini = 0.44</text>\n",
       "<text text-anchor=\"start\" x=\"1002\" y=\"-498.8\" font-family=\"Helvetica,sans-Serif\" font-size=\"14.00\">samples = 513</text>\n",
       "<text text-anchor=\"start\" x=\"961.5\" y=\"-483.8\" font-family=\"Helvetica,sans-Serif\" font-size=\"14.00\">value = [1, 0, 167, 1, 344]</text>\n",
       "<text text-anchor=\"start\" x=\"991.5\" y=\"-468.8\" font-family=\"Helvetica,sans-Serif\" font-size=\"14.00\">class = Very good</text>\n",
       "</g>\n",
       "<!-- 0&#45;&gt;16 -->\n",
       "<g id=\"edge16\" class=\"edge\">\n",
       "<title>0&#45;&gt;16</title>\n",
       "<path fill=\"none\" stroke=\"black\" d=\"M974.67,-579.91C984.5,-570.56 995.04,-560.54 1005.14,-550.93\"/>\n",
       "<polygon fill=\"black\" stroke=\"black\" points=\"1007.57,-553.45 1012.4,-544.02 1002.74,-548.38 1007.57,-553.45\"/>\n",
       "<text text-anchor=\"middle\" x=\"1011.78\" y=\"-565.31\" font-family=\"Helvetica,sans-Serif\" font-size=\"14.00\">False</text>\n",
       "</g>\n",
       "<!-- 2 -->\n",
       "<g id=\"node3\" class=\"node\">\n",
       "<title>2</title>\n",
       "<path fill=\"#d4f7be\" stroke=\"black\" d=\"M692,-425C692,-425 474,-425 474,-425 468,-425 462,-419 462,-413 462,-413 462,-354 462,-354 462,-348 468,-342 474,-342 474,-342 692,-342 692,-342 698,-342 704,-348 704,-354 704,-354 704,-413 704,-413 704,-419 698,-425 692,-425\"/>\n",
       "<text text-anchor=\"start\" x=\"470\" y=\"-409.8\" font-family=\"Helvetica,sans-Serif\" font-size=\"14.00\">tcp.first.sec.volume.ul ≤ 2639.0</text>\n",
       "<text text-anchor=\"start\" x=\"543.5\" y=\"-394.8\" font-family=\"Helvetica,sans-Serif\" font-size=\"14.00\">gini = 0.71</text>\n",
       "<text text-anchor=\"start\" x=\"530\" y=\"-379.8\" font-family=\"Helvetica,sans-Serif\" font-size=\"14.00\">samples = 388</text>\n",
       "<text text-anchor=\"start\" x=\"480.5\" y=\"-364.8\" font-family=\"Helvetica,sans-Serif\" font-size=\"14.00\">value = [61, 177, 75, 21, 54]</text>\n",
       "<text text-anchor=\"start\" x=\"542\" y=\"-349.8\" font-family=\"Helvetica,sans-Serif\" font-size=\"14.00\">class = Fair</text>\n",
       "</g>\n",
       "<!-- 1&#45;&gt;2 -->\n",
       "<g id=\"edge2\" class=\"edge\">\n",
       "<title>1&#45;&gt;2</title>\n",
       "<path fill=\"none\" stroke=\"black\" d=\"M731.24,-460.91C711.7,-450.83 690.63,-439.98 670.69,-429.7\"/>\n",
       "<polygon fill=\"black\" stroke=\"black\" points=\"672.11,-426.49 661.62,-425.02 668.9,-432.71 672.11,-426.49\"/>\n",
       "</g>\n",
       "<!-- 15 -->\n",
       "<g id=\"node16\" class=\"node\">\n",
       "<title>15</title>\n",
       "<path fill=\"#53e8cd\" stroke=\"black\" d=\"M904,-417.5C904,-417.5 734,-417.5 734,-417.5 728,-417.5 722,-411.5 722,-405.5 722,-405.5 722,-361.5 722,-361.5 722,-355.5 728,-349.5 734,-349.5 734,-349.5 904,-349.5 904,-349.5 910,-349.5 916,-355.5 916,-361.5 916,-361.5 916,-405.5 916,-405.5 916,-411.5 910,-417.5 904,-417.5\"/>\n",
       "<text text-anchor=\"start\" x=\"779.5\" y=\"-402.3\" font-family=\"Helvetica,sans-Serif\" font-size=\"14.00\">gini = 0.21</text>\n",
       "<text text-anchor=\"start\" x=\"766\" y=\"-387.3\" font-family=\"Helvetica,sans-Serif\" font-size=\"14.00\">samples = 190</text>\n",
       "<text text-anchor=\"start\" x=\"730\" y=\"-372.3\" font-family=\"Helvetica,sans-Serif\" font-size=\"14.00\">value = [0, 20, 168, 1, 1]</text>\n",
       "<text text-anchor=\"start\" x=\"773\" y=\"-357.3\" font-family=\"Helvetica,sans-Serif\" font-size=\"14.00\">class = Good</text>\n",
       "</g>\n",
       "<!-- 1&#45;&gt;15 -->\n",
       "<g id=\"edge15\" class=\"edge\">\n",
       "<title>1&#45;&gt;15</title>\n",
       "<path fill=\"none\" stroke=\"black\" d=\"M813.12,-460.91C813.95,-450.2 814.84,-438.62 815.67,-427.78\"/>\n",
       "<polygon fill=\"black\" stroke=\"black\" points=\"819.17,-427.91 816.45,-417.67 812.19,-427.37 819.17,-427.91\"/>\n",
       "</g>\n",
       "<!-- 3 -->\n",
       "<g id=\"node4\" class=\"node\">\n",
       "<title>3</title>\n",
       "<path fill=\"#fbe2f6\" stroke=\"black\" d=\"M397.5,-306C397.5,-306 218.5,-306 218.5,-306 212.5,-306 206.5,-300 206.5,-294 206.5,-294 206.5,-235 206.5,-235 206.5,-229 212.5,-223 218.5,-223 218.5,-223 397.5,-223 397.5,-223 403.5,-223 409.5,-229 409.5,-235 409.5,-235 409.5,-294 409.5,-294 409.5,-300 403.5,-306 397.5,-306\"/>\n",
       "<text text-anchor=\"start\" x=\"217.5\" y=\"-290.8\" font-family=\"Helvetica,sans-Serif\" font-size=\"14.00\">time.to.first.byte.s ≤ 0.22</text>\n",
       "<text text-anchor=\"start\" x=\"268.5\" y=\"-275.8\" font-family=\"Helvetica,sans-Serif\" font-size=\"14.00\">gini = 0.71</text>\n",
       "<text text-anchor=\"start\" x=\"255\" y=\"-260.8\" font-family=\"Helvetica,sans-Serif\" font-size=\"14.00\">samples = 136</text>\n",
       "<text text-anchor=\"start\" x=\"214.5\" y=\"-245.8\" font-family=\"Helvetica,sans-Serif\" font-size=\"14.00\">value = [11, 28, 40, 3, 54]</text>\n",
       "<text text-anchor=\"start\" x=\"244.5\" y=\"-230.8\" font-family=\"Helvetica,sans-Serif\" font-size=\"14.00\">class = Very good</text>\n",
       "</g>\n",
       "<!-- 2&#45;&gt;3 -->\n",
       "<g id=\"edge3\" class=\"edge\">\n",
       "<title>2&#45;&gt;3</title>\n",
       "<path fill=\"none\" stroke=\"black\" d=\"M487.59,-341.91C463.38,-331.61 437.24,-320.49 412.6,-310\"/>\n",
       "<polygon fill=\"black\" stroke=\"black\" points=\"413.81,-306.72 403.24,-306.02 411.07,-313.16 413.81,-306.72\"/>\n",
       "</g>\n",
       "<!-- 8 -->\n",
       "<g id=\"node9\" class=\"node\">\n",
       "<title>8</title>\n",
       "<path fill=\"#bef29e\" stroke=\"black\" d=\"M725.5,-306C725.5,-306 498.5,-306 498.5,-306 492.5,-306 486.5,-300 486.5,-294 486.5,-294 486.5,-235 486.5,-235 486.5,-229 492.5,-223 498.5,-223 498.5,-223 725.5,-223 725.5,-223 731.5,-223 737.5,-229 737.5,-235 737.5,-235 737.5,-294 737.5,-294 737.5,-300 731.5,-306 725.5,-306\"/>\n",
       "<text text-anchor=\"start\" x=\"494.5\" y=\"-290.8\" font-family=\"Helvetica,sans-Serif\" font-size=\"14.00\">tcp.first.sec.volume.ul ≤ 36229.5</text>\n",
       "<text text-anchor=\"start\" x=\"572.5\" y=\"-275.8\" font-family=\"Helvetica,sans-Serif\" font-size=\"14.00\">gini = 0.59</text>\n",
       "<text text-anchor=\"start\" x=\"559\" y=\"-260.8\" font-family=\"Helvetica,sans-Serif\" font-size=\"14.00\">samples = 252</text>\n",
       "<text text-anchor=\"start\" x=\"514\" y=\"-245.8\" font-family=\"Helvetica,sans-Serif\" font-size=\"14.00\">value = [50, 149, 35, 18, 0]</text>\n",
       "<text text-anchor=\"start\" x=\"571\" y=\"-230.8\" font-family=\"Helvetica,sans-Serif\" font-size=\"14.00\">class = Fair</text>\n",
       "</g>\n",
       "<!-- 2&#45;&gt;8 -->\n",
       "<g id=\"edge8\" class=\"edge\">\n",
       "<title>2&#45;&gt;8</title>\n",
       "<path fill=\"none\" stroke=\"black\" d=\"M593.06,-341.91C595.15,-333.47 597.38,-324.48 599.55,-315.74\"/>\n",
       "<polygon fill=\"black\" stroke=\"black\" points=\"602.95,-316.57 601.96,-306.02 596.15,-314.89 602.95,-316.57\"/>\n",
       "</g>\n",
       "<!-- 4 -->\n",
       "<g id=\"node5\" class=\"node\">\n",
       "<title>4</title>\n",
       "<path fill=\"#eb63ce\" stroke=\"black\" d=\"M164,-179.5C164,-179.5 12,-179.5 12,-179.5 6,-179.5 0,-173.5 0,-167.5 0,-167.5 0,-123.5 0,-123.5 0,-117.5 6,-111.5 12,-111.5 12,-111.5 164,-111.5 164,-111.5 170,-111.5 176,-117.5 176,-123.5 176,-123.5 176,-167.5 176,-167.5 176,-173.5 170,-179.5 164,-179.5\"/>\n",
       "<text text-anchor=\"start\" x=\"48.5\" y=\"-164.3\" font-family=\"Helvetica,sans-Serif\" font-size=\"14.00\">gini = 0.32</text>\n",
       "<text text-anchor=\"start\" x=\"39.5\" y=\"-149.3\" font-family=\"Helvetica,sans-Serif\" font-size=\"14.00\">samples = 32</text>\n",
       "<text text-anchor=\"start\" x=\"8\" y=\"-134.3\" font-family=\"Helvetica,sans-Serif\" font-size=\"14.00\">value = [0, 4, 2, 0, 26]</text>\n",
       "<text text-anchor=\"start\" x=\"24.5\" y=\"-119.3\" font-family=\"Helvetica,sans-Serif\" font-size=\"14.00\">class = Very good</text>\n",
       "</g>\n",
       "<!-- 3&#45;&gt;4 -->\n",
       "<g id=\"edge4\" class=\"edge\">\n",
       "<title>3&#45;&gt;4</title>\n",
       "<path fill=\"none\" stroke=\"black\" d=\"M231.67,-222.91C208.23,-210.44 182.52,-196.77 159.42,-184.48\"/>\n",
       "<polygon fill=\"black\" stroke=\"black\" points=\"160.84,-181.27 150.37,-179.67 157.55,-187.45 160.84,-181.27\"/>\n",
       "</g>\n",
       "<!-- 5 -->\n",
       "<g id=\"node6\" class=\"node\">\n",
       "<title>5</title>\n",
       "<path fill=\"#e5fcf7\" stroke=\"black\" d=\"M409.5,-187C409.5,-187 206.5,-187 206.5,-187 200.5,-187 194.5,-181 194.5,-175 194.5,-175 194.5,-116 194.5,-116 194.5,-110 200.5,-104 206.5,-104 206.5,-104 409.5,-104 409.5,-104 415.5,-104 421.5,-110 421.5,-116 421.5,-116 421.5,-175 421.5,-175 421.5,-181 415.5,-187 409.5,-187\"/>\n",
       "<text text-anchor=\"start\" x=\"202.5\" y=\"-171.8\" font-family=\"Helvetica,sans-Serif\" font-size=\"14.00\">rexmt.data.bytes.b2a ≤ 249.5</text>\n",
       "<text text-anchor=\"start\" x=\"268.5\" y=\"-156.8\" font-family=\"Helvetica,sans-Serif\" font-size=\"14.00\">gini = 0.73</text>\n",
       "<text text-anchor=\"start\" x=\"255\" y=\"-141.8\" font-family=\"Helvetica,sans-Serif\" font-size=\"14.00\">samples = 104</text>\n",
       "<text text-anchor=\"start\" x=\"214.5\" y=\"-126.8\" font-family=\"Helvetica,sans-Serif\" font-size=\"14.00\">value = [11, 24, 38, 3, 28]</text>\n",
       "<text text-anchor=\"start\" x=\"262\" y=\"-111.8\" font-family=\"Helvetica,sans-Serif\" font-size=\"14.00\">class = Good</text>\n",
       "</g>\n",
       "<!-- 3&#45;&gt;5 -->\n",
       "<g id=\"edge5\" class=\"edge\">\n",
       "<title>3&#45;&gt;5</title>\n",
       "<path fill=\"none\" stroke=\"black\" d=\"M308,-222.91C308,-214.65 308,-205.86 308,-197.3\"/>\n",
       "<polygon fill=\"black\" stroke=\"black\" points=\"311.5,-197.02 308,-187.02 304.5,-197.02 311.5,-197.02\"/>\n",
       "</g>\n",
       "<!-- 6 -->\n",
       "<g id=\"node7\" class=\"node\">\n",
       "<title>6</title>\n",
       "<path fill=\"#d7faf3\" stroke=\"black\" d=\"M190,-68C190,-68 20,-68 20,-68 14,-68 8,-62 8,-56 8,-56 8,-12 8,-12 8,-6 14,0 20,0 20,0 190,0 190,0 196,0 202,-6 202,-12 202,-12 202,-56 202,-56 202,-62 196,-68 190,-68\"/>\n",
       "<text text-anchor=\"start\" x=\"65.5\" y=\"-52.8\" font-family=\"Helvetica,sans-Serif\" font-size=\"14.00\">gini = 0.66</text>\n",
       "<text text-anchor=\"start\" x=\"56.5\" y=\"-37.8\" font-family=\"Helvetica,sans-Serif\" font-size=\"14.00\">samples = 81</text>\n",
       "<text text-anchor=\"start\" x=\"16\" y=\"-22.8\" font-family=\"Helvetica,sans-Serif\" font-size=\"14.00\">value = [4, 14, 37, 0, 26]</text>\n",
       "<text text-anchor=\"start\" x=\"59\" y=\"-7.8\" font-family=\"Helvetica,sans-Serif\" font-size=\"14.00\">class = Good</text>\n",
       "</g>\n",
       "<!-- 5&#45;&gt;6 -->\n",
       "<g id=\"edge6\" class=\"edge\">\n",
       "<title>5&#45;&gt;6</title>\n",
       "<path fill=\"none\" stroke=\"black\" d=\"M232.7,-103.88C213.89,-93.73 193.79,-82.89 175.23,-72.88\"/>\n",
       "<polygon fill=\"black\" stroke=\"black\" points=\"176.72,-69.71 166.26,-68.04 173.4,-75.87 176.72,-69.71\"/>\n",
       "</g>\n",
       "<!-- 7 -->\n",
       "<g id=\"node8\" class=\"node\">\n",
       "<title>7</title>\n",
       "<path fill=\"#e6fada\" stroke=\"black\" d=\"M384,-68C384,-68 232,-68 232,-68 226,-68 220,-62 220,-56 220,-56 220,-12 220,-12 220,-6 226,0 232,0 232,0 384,0 384,0 390,0 396,-6 396,-12 396,-12 396,-56 396,-56 396,-62 390,-68 384,-68\"/>\n",
       "<text text-anchor=\"start\" x=\"268.5\" y=\"-52.8\" font-family=\"Helvetica,sans-Serif\" font-size=\"14.00\">gini = 0.69</text>\n",
       "<text text-anchor=\"start\" x=\"259.5\" y=\"-37.8\" font-family=\"Helvetica,sans-Serif\" font-size=\"14.00\">samples = 23</text>\n",
       "<text text-anchor=\"start\" x=\"228\" y=\"-22.8\" font-family=\"Helvetica,sans-Serif\" font-size=\"14.00\">value = [7, 10, 1, 3, 2]</text>\n",
       "<text text-anchor=\"start\" x=\"267\" y=\"-7.8\" font-family=\"Helvetica,sans-Serif\" font-size=\"14.00\">class = Fair</text>\n",
       "</g>\n",
       "<!-- 5&#45;&gt;7 -->\n",
       "<g id=\"edge7\" class=\"edge\">\n",
       "<title>5&#45;&gt;7</title>\n",
       "<path fill=\"none\" stroke=\"black\" d=\"M308,-103.73C308,-95.52 308,-86.86 308,-78.56\"/>\n",
       "<polygon fill=\"black\" stroke=\"black\" points=\"311.5,-78.3 308,-68.3 304.5,-78.3 311.5,-78.3\"/>\n",
       "</g>\n",
       "<!-- 9 -->\n",
       "<g id=\"node10\" class=\"node\">\n",
       "<title>9</title>\n",
       "<path fill=\"#fdf7f2\" stroke=\"black\" d=\"M711,-187C711,-187 513,-187 513,-187 507,-187 501,-181 501,-175 501,-175 501,-116 501,-116 501,-110 507,-104 513,-104 513,-104 711,-104 711,-104 717,-104 723,-110 723,-116 723,-116 723,-175 723,-175 723,-181 717,-187 711,-187\"/>\n",
       "<text text-anchor=\"start\" x=\"509\" y=\"-171.8\" font-family=\"Helvetica,sans-Serif\" font-size=\"14.00\">max.segm.size.b2a ≤ 5164.5</text>\n",
       "<text text-anchor=\"start\" x=\"572.5\" y=\"-156.8\" font-family=\"Helvetica,sans-Serif\" font-size=\"14.00\">gini = 0.63</text>\n",
       "<text text-anchor=\"start\" x=\"559\" y=\"-141.8\" font-family=\"Helvetica,sans-Serif\" font-size=\"14.00\">samples = 104</text>\n",
       "<text text-anchor=\"start\" x=\"523\" y=\"-126.8\" font-family=\"Helvetica,sans-Serif\" font-size=\"14.00\">value = [45, 41, 2, 16, 0]</text>\n",
       "<text text-anchor=\"start\" x=\"570.5\" y=\"-111.8\" font-family=\"Helvetica,sans-Serif\" font-size=\"14.00\">class = Bad</text>\n",
       "</g>\n",
       "<!-- 8&#45;&gt;9 -->\n",
       "<g id=\"edge9\" class=\"edge\">\n",
       "<title>8&#45;&gt;9</title>\n",
       "<path fill=\"none\" stroke=\"black\" d=\"M612,-222.91C612,-214.65 612,-205.86 612,-197.3\"/>\n",
       "<polygon fill=\"black\" stroke=\"black\" points=\"615.5,-197.02 612,-187.02 608.5,-197.02 615.5,-197.02\"/>\n",
       "</g>\n",
       "<!-- 12 -->\n",
       "<g id=\"node13\" class=\"node\">\n",
       "<title>12</title>\n",
       "<path fill=\"#a9ee7e\" stroke=\"black\" d=\"M1011,-187C1011,-187 813,-187 813,-187 807,-187 801,-181 801,-175 801,-175 801,-116 801,-116 801,-110 807,-104 813,-104 813,-104 1011,-104 1011,-104 1017,-104 1023,-110 1023,-116 1023,-116 1023,-175 1023,-175 1023,-181 1017,-187 1011,-187\"/>\n",
       "<text text-anchor=\"start\" x=\"809\" y=\"-171.8\" font-family=\"Helvetica,sans-Serif\" font-size=\"14.00\">max.segm.size.b2a ≤ 5928.0</text>\n",
       "<text text-anchor=\"start\" x=\"872.5\" y=\"-156.8\" font-family=\"Helvetica,sans-Serif\" font-size=\"14.00\">gini = 0.42</text>\n",
       "<text text-anchor=\"start\" x=\"859\" y=\"-141.8\" font-family=\"Helvetica,sans-Serif\" font-size=\"14.00\">samples = 148</text>\n",
       "<text text-anchor=\"start\" x=\"823\" y=\"-126.8\" font-family=\"Helvetica,sans-Serif\" font-size=\"14.00\">value = [5, 108, 33, 2, 0]</text>\n",
       "<text text-anchor=\"start\" x=\"871\" y=\"-111.8\" font-family=\"Helvetica,sans-Serif\" font-size=\"14.00\">class = Fair</text>\n",
       "</g>\n",
       "<!-- 8&#45;&gt;12 -->\n",
       "<g id=\"edge12\" class=\"edge\">\n",
       "<title>8&#45;&gt;12</title>\n",
       "<path fill=\"none\" stroke=\"black\" d=\"M716.08,-222.91C742.73,-212.52 771.51,-201.29 798.6,-190.73\"/>\n",
       "<polygon fill=\"black\" stroke=\"black\" points=\"800.06,-193.92 808.1,-187.02 797.51,-187.39 800.06,-193.92\"/>\n",
       "</g>\n",
       "<!-- 10 -->\n",
       "<g id=\"node11\" class=\"node\">\n",
       "<title>10</title>\n",
       "<path fill=\"#f7d6bf\" stroke=\"black\" d=\"M586.5,-68C586.5,-68 425.5,-68 425.5,-68 419.5,-68 413.5,-62 413.5,-56 413.5,-56 413.5,-12 413.5,-12 413.5,-6 419.5,0 425.5,0 425.5,0 586.5,0 586.5,0 592.5,0 598.5,-6 598.5,-12 598.5,-12 598.5,-56 598.5,-56 598.5,-62 592.5,-68 586.5,-68\"/>\n",
       "<text text-anchor=\"start\" x=\"466.5\" y=\"-52.8\" font-family=\"Helvetica,sans-Serif\" font-size=\"14.00\">gini = 0.62</text>\n",
       "<text text-anchor=\"start\" x=\"457.5\" y=\"-37.8\" font-family=\"Helvetica,sans-Serif\" font-size=\"14.00\">samples = 52</text>\n",
       "<text text-anchor=\"start\" x=\"421.5\" y=\"-22.8\" font-family=\"Helvetica,sans-Serif\" font-size=\"14.00\">value = [27, 8, 2, 15, 0]</text>\n",
       "<text text-anchor=\"start\" x=\"464.5\" y=\"-7.8\" font-family=\"Helvetica,sans-Serif\" font-size=\"14.00\">class = Bad</text>\n",
       "</g>\n",
       "<!-- 9&#45;&gt;10 -->\n",
       "<g id=\"edge10\" class=\"edge\">\n",
       "<title>9&#45;&gt;10</title>\n",
       "<path fill=\"none\" stroke=\"black\" d=\"M572.53,-103.73C563.61,-94.51 554.15,-84.74 545.24,-75.53\"/>\n",
       "<polygon fill=\"black\" stroke=\"black\" points=\"547.71,-73.05 538.24,-68.3 542.68,-77.92 547.71,-73.05\"/>\n",
       "</g>\n",
       "<!-- 11 -->\n",
       "<g id=\"node12\" class=\"node\">\n",
       "<title>11</title>\n",
       "<path fill=\"#c5f4a8\" stroke=\"black\" d=\"M789.5,-68C789.5,-68 628.5,-68 628.5,-68 622.5,-68 616.5,-62 616.5,-56 616.5,-56 616.5,-12 616.5,-12 616.5,-6 622.5,0 628.5,0 628.5,0 789.5,0 789.5,0 795.5,0 801.5,-6 801.5,-12 801.5,-12 801.5,-56 801.5,-56 801.5,-62 795.5,-68 789.5,-68\"/>\n",
       "<text text-anchor=\"start\" x=\"669.5\" y=\"-52.8\" font-family=\"Helvetica,sans-Serif\" font-size=\"14.00\">gini = 0.48</text>\n",
       "<text text-anchor=\"start\" x=\"660.5\" y=\"-37.8\" font-family=\"Helvetica,sans-Serif\" font-size=\"14.00\">samples = 52</text>\n",
       "<text text-anchor=\"start\" x=\"624.5\" y=\"-22.8\" font-family=\"Helvetica,sans-Serif\" font-size=\"14.00\">value = [18, 33, 0, 1, 0]</text>\n",
       "<text text-anchor=\"start\" x=\"668\" y=\"-7.8\" font-family=\"Helvetica,sans-Serif\" font-size=\"14.00\">class = Fair</text>\n",
       "</g>\n",
       "<!-- 9&#45;&gt;11 -->\n",
       "<g id=\"edge11\" class=\"edge\">\n",
       "<title>9&#45;&gt;11</title>\n",
       "<path fill=\"none\" stroke=\"black\" d=\"M648.12,-103.73C656.2,-94.61 664.77,-84.93 672.85,-75.81\"/>\n",
       "<polygon fill=\"black\" stroke=\"black\" points=\"675.49,-78.11 679.5,-68.3 670.25,-73.46 675.49,-78.11\"/>\n",
       "</g>\n",
       "<!-- 13 -->\n",
       "<g id=\"node14\" class=\"node\">\n",
       "<title>13</title>\n",
       "<path fill=\"#94ea5f\" stroke=\"black\" d=\"M992.5,-68C992.5,-68 831.5,-68 831.5,-68 825.5,-68 819.5,-62 819.5,-56 819.5,-56 819.5,-12 819.5,-12 819.5,-6 825.5,0 831.5,0 831.5,0 992.5,0 992.5,0 998.5,0 1004.5,-6 1004.5,-12 1004.5,-12 1004.5,-56 1004.5,-56 1004.5,-62 998.5,-68 992.5,-68\"/>\n",
       "<text text-anchor=\"start\" x=\"872.5\" y=\"-52.8\" font-family=\"Helvetica,sans-Serif\" font-size=\"14.00\">gini = 0.29</text>\n",
       "<text text-anchor=\"start\" x=\"859\" y=\"-37.8\" font-family=\"Helvetica,sans-Serif\" font-size=\"14.00\">samples = 119</text>\n",
       "<text text-anchor=\"start\" x=\"827.5\" y=\"-22.8\" font-family=\"Helvetica,sans-Serif\" font-size=\"14.00\">value = [4, 99, 14, 2, 0]</text>\n",
       "<text text-anchor=\"start\" x=\"871\" y=\"-7.8\" font-family=\"Helvetica,sans-Serif\" font-size=\"14.00\">class = Fair</text>\n",
       "</g>\n",
       "<!-- 12&#45;&gt;13 -->\n",
       "<g id=\"edge13\" class=\"edge\">\n",
       "<title>12&#45;&gt;13</title>\n",
       "<path fill=\"none\" stroke=\"black\" d=\"M912,-103.73C912,-95.52 912,-86.86 912,-78.56\"/>\n",
       "<polygon fill=\"black\" stroke=\"black\" points=\"915.5,-78.3 912,-68.3 908.5,-78.3 915.5,-78.3\"/>\n",
       "</g>\n",
       "<!-- 14 -->\n",
       "<g id=\"node15\" class=\"node\">\n",
       "<title>14</title>\n",
       "<path fill=\"#9cf2e2\" stroke=\"black\" d=\"M1186,-68C1186,-68 1034,-68 1034,-68 1028,-68 1022,-62 1022,-56 1022,-56 1022,-12 1022,-12 1022,-6 1028,0 1034,0 1034,0 1186,0 1186,0 1192,0 1198,-6 1198,-12 1198,-12 1198,-56 1198,-56 1198,-62 1192,-68 1186,-68\"/>\n",
       "<text text-anchor=\"start\" x=\"1070.5\" y=\"-52.8\" font-family=\"Helvetica,sans-Serif\" font-size=\"14.00\">gini = 0.47</text>\n",
       "<text text-anchor=\"start\" x=\"1061.5\" y=\"-37.8\" font-family=\"Helvetica,sans-Serif\" font-size=\"14.00\">samples = 29</text>\n",
       "<text text-anchor=\"start\" x=\"1030\" y=\"-22.8\" font-family=\"Helvetica,sans-Serif\" font-size=\"14.00\">value = [1, 9, 19, 0, 0]</text>\n",
       "<text text-anchor=\"start\" x=\"1064\" y=\"-7.8\" font-family=\"Helvetica,sans-Serif\" font-size=\"14.00\">class = Good</text>\n",
       "</g>\n",
       "<!-- 12&#45;&gt;14 -->\n",
       "<g id=\"edge14\" class=\"edge\">\n",
       "<title>12&#45;&gt;14</title>\n",
       "<path fill=\"none\" stroke=\"black\" d=\"M985.45,-103.88C1003.79,-93.73 1023.4,-82.89 1041.5,-72.88\"/>\n",
       "<polygon fill=\"black\" stroke=\"black\" points=\"1043.19,-75.95 1050.25,-68.04 1039.81,-69.82 1043.19,-75.95\"/>\n",
       "</g>\n",
       "<!-- 17 -->\n",
       "<g id=\"node18\" class=\"node\">\n",
       "<title>17</title>\n",
       "<path fill=\"#e95acb\" stroke=\"black\" d=\"M1132,-417.5C1132,-417.5 962,-417.5 962,-417.5 956,-417.5 950,-411.5 950,-405.5 950,-405.5 950,-361.5 950,-361.5 950,-355.5 956,-349.5 962,-349.5 962,-349.5 1132,-349.5 1132,-349.5 1138,-349.5 1144,-355.5 1144,-361.5 1144,-361.5 1144,-405.5 1144,-405.5 1144,-411.5 1138,-417.5 1132,-417.5\"/>\n",
       "<text text-anchor=\"start\" x=\"1007.5\" y=\"-402.3\" font-family=\"Helvetica,sans-Serif\" font-size=\"14.00\">gini = 0.25</text>\n",
       "<text text-anchor=\"start\" x=\"994\" y=\"-387.3\" font-family=\"Helvetica,sans-Serif\" font-size=\"14.00\">samples = 235</text>\n",
       "<text text-anchor=\"start\" x=\"958\" y=\"-372.3\" font-family=\"Helvetica,sans-Serif\" font-size=\"14.00\">value = [1, 0, 33, 0, 201]</text>\n",
       "<text text-anchor=\"start\" x=\"983.5\" y=\"-357.3\" font-family=\"Helvetica,sans-Serif\" font-size=\"14.00\">class = Very good</text>\n",
       "</g>\n",
       "<!-- 16&#45;&gt;17 -->\n",
       "<g id=\"edge17\" class=\"edge\">\n",
       "<title>16&#45;&gt;17</title>\n",
       "<path fill=\"none\" stroke=\"black\" d=\"M1052.22,-460.91C1051.49,-450.2 1050.7,-438.62 1049.96,-427.78\"/>\n",
       "<polygon fill=\"black\" stroke=\"black\" points=\"1053.44,-427.4 1049.27,-417.67 1046.46,-427.88 1053.44,-427.4\"/>\n",
       "</g>\n",
       "<!-- 18 -->\n",
       "<g id=\"node19\" class=\"node\">\n",
       "<title>18</title>\n",
       "<path fill=\"#fdf3fb\" stroke=\"black\" d=\"M1368,-425C1368,-425 1174,-425 1174,-425 1168,-425 1162,-419 1162,-413 1162,-413 1162,-354 1162,-354 1162,-348 1168,-342 1174,-342 1174,-342 1368,-342 1368,-342 1374,-342 1380,-348 1380,-354 1380,-354 1380,-413 1380,-413 1380,-419 1374,-425 1368,-425\"/>\n",
       "<text text-anchor=\"start\" x=\"1170\" y=\"-409.8\" font-family=\"Helvetica,sans-Serif\" font-size=\"14.00\">rexmt.data.bytes.b2a ≤ 78.0</text>\n",
       "<text text-anchor=\"start\" x=\"1236\" y=\"-394.8\" font-family=\"Helvetica,sans-Serif\" font-size=\"14.00\">gini = 0.5</text>\n",
       "<text text-anchor=\"start\" x=\"1218\" y=\"-379.8\" font-family=\"Helvetica,sans-Serif\" font-size=\"14.00\">samples = 278</text>\n",
       "<text text-anchor=\"start\" x=\"1177.5\" y=\"-364.8\" font-family=\"Helvetica,sans-Serif\" font-size=\"14.00\">value = [0, 0, 134, 1, 143]</text>\n",
       "<text text-anchor=\"start\" x=\"1207.5\" y=\"-349.8\" font-family=\"Helvetica,sans-Serif\" font-size=\"14.00\">class = Very good</text>\n",
       "</g>\n",
       "<!-- 16&#45;&gt;18 -->\n",
       "<g id=\"edge18\" class=\"edge\">\n",
       "<title>16&#45;&gt;18</title>\n",
       "<path fill=\"none\" stroke=\"black\" d=\"M1129.94,-460.91C1148.45,-450.88 1168.4,-440.07 1187.3,-429.84\"/>\n",
       "<polygon fill=\"black\" stroke=\"black\" points=\"1189.07,-432.86 1196.19,-425.02 1185.73,-426.71 1189.07,-432.86\"/>\n",
       "</g>\n",
       "<!-- 19 -->\n",
       "<g id=\"node20\" class=\"node\">\n",
       "<title>19</title>\n",
       "<path fill=\"#f8cdef\" stroke=\"black\" d=\"M1301.5,-306C1301.5,-306 1128.5,-306 1128.5,-306 1122.5,-306 1116.5,-300 1116.5,-294 1116.5,-294 1116.5,-235 1116.5,-235 1116.5,-229 1122.5,-223 1128.5,-223 1128.5,-223 1301.5,-223 1301.5,-223 1307.5,-223 1313.5,-229 1313.5,-235 1313.5,-235 1313.5,-294 1313.5,-294 1313.5,-300 1307.5,-306 1301.5,-306\"/>\n",
       "<text text-anchor=\"start\" x=\"1124.5\" y=\"-290.8\" font-family=\"Helvetica,sans-Serif\" font-size=\"14.00\">time.to.first.byte.s ≤ 0.32</text>\n",
       "<text text-anchor=\"start\" x=\"1175.5\" y=\"-275.8\" font-family=\"Helvetica,sans-Serif\" font-size=\"14.00\">gini = 0.49</text>\n",
       "<text text-anchor=\"start\" x=\"1162\" y=\"-260.8\" font-family=\"Helvetica,sans-Serif\" font-size=\"14.00\">samples = 228</text>\n",
       "<text text-anchor=\"start\" x=\"1126\" y=\"-245.8\" font-family=\"Helvetica,sans-Serif\" font-size=\"14.00\">value = [0, 0, 97, 1, 130]</text>\n",
       "<text text-anchor=\"start\" x=\"1151.5\" y=\"-230.8\" font-family=\"Helvetica,sans-Serif\" font-size=\"14.00\">class = Very good</text>\n",
       "</g>\n",
       "<!-- 18&#45;&gt;19 -->\n",
       "<g id=\"edge19\" class=\"edge\">\n",
       "<title>18&#45;&gt;19</title>\n",
       "<path fill=\"none\" stroke=\"black\" d=\"M1251.57,-341.91C1247.44,-333.29 1243.04,-324.09 1238.78,-315.17\"/>\n",
       "<polygon fill=\"black\" stroke=\"black\" points=\"1241.87,-313.53 1234.39,-306.02 1235.55,-316.55 1241.87,-313.53\"/>\n",
       "</g>\n",
       "<!-- 22 -->\n",
       "<g id=\"node23\" class=\"node\">\n",
       "<title>22</title>\n",
       "<path fill=\"#7feed9\" stroke=\"black\" d=\"M1504.5,-298.5C1504.5,-298.5 1343.5,-298.5 1343.5,-298.5 1337.5,-298.5 1331.5,-292.5 1331.5,-286.5 1331.5,-286.5 1331.5,-242.5 1331.5,-242.5 1331.5,-236.5 1337.5,-230.5 1343.5,-230.5 1343.5,-230.5 1504.5,-230.5 1504.5,-230.5 1510.5,-230.5 1516.5,-236.5 1516.5,-242.5 1516.5,-242.5 1516.5,-286.5 1516.5,-286.5 1516.5,-292.5 1510.5,-298.5 1504.5,-298.5\"/>\n",
       "<text text-anchor=\"start\" x=\"1384.5\" y=\"-283.3\" font-family=\"Helvetica,sans-Serif\" font-size=\"14.00\">gini = 0.38</text>\n",
       "<text text-anchor=\"start\" x=\"1375.5\" y=\"-268.3\" font-family=\"Helvetica,sans-Serif\" font-size=\"14.00\">samples = 50</text>\n",
       "<text text-anchor=\"start\" x=\"1339.5\" y=\"-253.3\" font-family=\"Helvetica,sans-Serif\" font-size=\"14.00\">value = [0, 0, 37, 0, 13]</text>\n",
       "<text text-anchor=\"start\" x=\"1378\" y=\"-238.3\" font-family=\"Helvetica,sans-Serif\" font-size=\"14.00\">class = Good</text>\n",
       "</g>\n",
       "<!-- 18&#45;&gt;22 -->\n",
       "<g id=\"edge22\" class=\"edge\">\n",
       "<title>18&#45;&gt;22</title>\n",
       "<path fill=\"none\" stroke=\"black\" d=\"M1324.08,-341.91C1339.81,-329.88 1357,-316.73 1372.62,-304.79\"/>\n",
       "<polygon fill=\"black\" stroke=\"black\" points=\"1374.81,-307.52 1380.63,-298.67 1370.56,-301.96 1374.81,-307.52\"/>\n",
       "</g>\n",
       "<!-- 20 -->\n",
       "<g id=\"node21\" class=\"node\">\n",
       "<title>20</title>\n",
       "<path fill=\"#f193dd\" stroke=\"black\" d=\"M1267.5,-179.5C1267.5,-179.5 1106.5,-179.5 1106.5,-179.5 1100.5,-179.5 1094.5,-173.5 1094.5,-167.5 1094.5,-167.5 1094.5,-123.5 1094.5,-123.5 1094.5,-117.5 1100.5,-111.5 1106.5,-111.5 1106.5,-111.5 1267.5,-111.5 1267.5,-111.5 1273.5,-111.5 1279.5,-117.5 1279.5,-123.5 1279.5,-123.5 1279.5,-167.5 1279.5,-167.5 1279.5,-173.5 1273.5,-179.5 1267.5,-179.5\"/>\n",
       "<text text-anchor=\"start\" x=\"1147.5\" y=\"-164.3\" font-family=\"Helvetica,sans-Serif\" font-size=\"14.00\">gini = 0.44</text>\n",
       "<text text-anchor=\"start\" x=\"1134\" y=\"-149.3\" font-family=\"Helvetica,sans-Serif\" font-size=\"14.00\">samples = 124</text>\n",
       "<text text-anchor=\"start\" x=\"1102.5\" y=\"-134.3\" font-family=\"Helvetica,sans-Serif\" font-size=\"14.00\">value = [0, 0, 38, 1, 85]</text>\n",
       "<text text-anchor=\"start\" x=\"1123.5\" y=\"-119.3\" font-family=\"Helvetica,sans-Serif\" font-size=\"14.00\">class = Very good</text>\n",
       "</g>\n",
       "<!-- 19&#45;&gt;20 -->\n",
       "<g id=\"edge20\" class=\"edge\">\n",
       "<title>19&#45;&gt;20</title>\n",
       "<path fill=\"none\" stroke=\"black\" d=\"M1205.29,-222.91C1202.7,-212.09 1199.89,-200.38 1197.28,-189.44\"/>\n",
       "<polygon fill=\"black\" stroke=\"black\" points=\"1200.67,-188.58 1194.94,-179.67 1193.86,-190.21 1200.67,-188.58\"/>\n",
       "</g>\n",
       "<!-- 21 -->\n",
       "<g id=\"node22\" class=\"node\">\n",
       "<title>21</title>\n",
       "<path fill=\"#d0f9f1\" stroke=\"black\" d=\"M1470.5,-179.5C1470.5,-179.5 1309.5,-179.5 1309.5,-179.5 1303.5,-179.5 1297.5,-173.5 1297.5,-167.5 1297.5,-167.5 1297.5,-123.5 1297.5,-123.5 1297.5,-117.5 1303.5,-111.5 1309.5,-111.5 1309.5,-111.5 1470.5,-111.5 1470.5,-111.5 1476.5,-111.5 1482.5,-117.5 1482.5,-123.5 1482.5,-123.5 1482.5,-167.5 1482.5,-167.5 1482.5,-173.5 1476.5,-179.5 1470.5,-179.5\"/>\n",
       "<text text-anchor=\"start\" x=\"1350.5\" y=\"-164.3\" font-family=\"Helvetica,sans-Serif\" font-size=\"14.00\">gini = 0.49</text>\n",
       "<text text-anchor=\"start\" x=\"1337\" y=\"-149.3\" font-family=\"Helvetica,sans-Serif\" font-size=\"14.00\">samples = 104</text>\n",
       "<text text-anchor=\"start\" x=\"1305.5\" y=\"-134.3\" font-family=\"Helvetica,sans-Serif\" font-size=\"14.00\">value = [0, 0, 59, 0, 45]</text>\n",
       "<text text-anchor=\"start\" x=\"1344\" y=\"-119.3\" font-family=\"Helvetica,sans-Serif\" font-size=\"14.00\">class = Good</text>\n",
       "</g>\n",
       "<!-- 19&#45;&gt;21 -->\n",
       "<g id=\"edge21\" class=\"edge\">\n",
       "<title>19&#45;&gt;21</title>\n",
       "<path fill=\"none\" stroke=\"black\" d=\"M1275.72,-222.91C1293.87,-210.77 1313.73,-197.49 1331.72,-185.46\"/>\n",
       "<polygon fill=\"black\" stroke=\"black\" points=\"1334.02,-188.13 1340.39,-179.67 1330.13,-182.32 1334.02,-188.13\"/>\n",
       "</g>\n",
       "</g>\n",
       "</svg>\n"
      ],
      "text/plain": [
       "<graphviz.sources.Source at 0x7f913b648eb0>"
      ]
     },
     "execution_count": 12,
     "metadata": {},
     "output_type": "execute_result"
    }
   ],
   "source": [
    "bins = discretization_model.bin_edges_[0].tolist()\n",
    "data1= pd.cut(x=y_train.reshape(-1), bins = bins, labels=labels[0:val.shape[0]], include_lowest=True)\n",
    "knowledge_label = DecisionTreeClassifier(max_depth=n_bins, min_samples_leaf=5, ccp_alpha=best_alpha)\n",
    "knowledge_label.fit(X_train, data1)\n",
    "\n",
    "dot_data = tree.export_graphviz(knowledge_label, \n",
    "                                feature_names = np.array(X_train.columns), \n",
    "                                class_names=knowledge_label.classes_, \n",
    "                                filled=True, \n",
    "                                rounded=True, \n",
    "                                out_file=None,\n",
    "                                precision=2,\n",
    "                                special_characters=True)\n",
    "\n",
    "graph = graphviz.Source(dot_data)\n",
    "graph.format='png'\n",
    "#graph.format='svg'\n",
    "filename = graph.render(filename='models/nokia_dataset/model1_livepage_dl')\n",
    "graph"
   ]
  },
  {
   "cell_type": "markdown",
   "id": "2960c9a1",
   "metadata": {},
   "source": [
    "## Feature Selection based on the miscoding metric"
   ]
  },
  {
   "cell_type": "markdown",
   "id": "937f07f5",
   "metadata": {},
   "source": [
    "### Vector of anomalous scenarios"
   ]
  },
  {
   "cell_type": "code",
   "execution_count": 13,
   "id": "b59160af",
   "metadata": {},
   "outputs": [],
   "source": [
    "y      = data[target_kpi].values.reshape(-1, 1)\n",
    "ydt    = discretization_model.transform(y)[:,0]\n",
    "y_pred = knowledge.predict(data[train_cols])\n",
    "y_diff = y_pred - ydt\n",
    "y_diff[y_diff > 0] = 0\n",
    "data[\"Diff_Pred\"] = y_diff\n",
    "val, count = np.unique(y_diff, return_counts=True)"
   ]
  },
  {
   "cell_type": "markdown",
   "id": "4cab69a1",
   "metadata": {},
   "source": [
    "#### Ploting the histogram of the differences (optional)"
   ]
  },
  {
   "cell_type": "code",
   "execution_count": 14,
   "id": "e0c1dcf6",
   "metadata": {},
   "outputs": [
    {
     "data": {
      "image/png": "[encoded data removed]",
      "text/plain": [
       "<Figure size 600x400 with 1 Axes>"
      ]
     },
     "metadata": {
      "needs_background": "light"
     },
     "output_type": "display_data"
    }
   ],
   "source": [
    "if (visualization == True):\n",
    "    xmlad_plt.hist_differences(val, count)\n",
    "    if (save_figures == True):\n",
    "        plt.savefig('images/nokia_dataset/LP_differences.png', \n",
    "                    format = 'svg',\n",
    "                    bbox_inches='tight', \n",
    "                    pad_inches=0)\n",
    "    plt.show()"
   ]
  },
  {
   "cell_type": "markdown",
   "id": "89519a68",
   "metadata": {},
   "source": [
    "### Miscoding"
   ]
  },
  {
   "cell_type": "code",
   "execution_count": 15,
   "id": "aaadf9d6",
   "metadata": {},
   "outputs": [
    {
     "name": "stdout",
     "output_type": "stream",
     "text": [
      "['rexmt.data.pkts.b2a' 'time.to.first.byte.s' 'rexmt.data.bytes.b2a'\n",
      " 'sack.pkts.sent.a2b' 'ack.pkts.sent.a2b' 'segs.cum.acked.a2b'\n",
      " 'dsack.pkts.sent.a2b' 'rtt.from.3whs.a2b' 'tcp.first.sec.volume.ul'\n",
      " 'min.win.adv.a2b' 'max.sack.blks.ack.a2b' 'tcp.first.sec.volume.dl'\n",
      " 'max.segm.size.b2a' 'avg.win.adv.a2b' 'truncated.packets.b2a'\n",
      " 'adv.wind.scale.a2b' 'max.win.adv.a2b' 'truncated.data.b2a'\n",
      " 'end.rssi.dbm' 'start.rssi.dbm' 'min.segm.size.b2a'\n",
      " 'service.access.rssi.start.dbm']\n"
     ]
    }
   ],
   "source": [
    "data_misc    = data.drop(columns =[target_kpi, \"Diff_Pred\"])\n",
    "column_names = np.array(data_misc.columns)\n",
    "n_clusters   = int(np.log2(len(data.index))/2)\n",
    "n_features   = min(n_clusters * n_clusters, len(data_misc.columns))\n",
    "miscoding    = Miscoding(redundancy=True).fit(data_misc, data[\"Diff_Pred\"])\n",
    "mscd         = miscoding.miscoding_features()\n",
    "best_mscd    = np.argsort(-mscd)[0:n_features]\n",
    "attributes   = column_names[best_mscd]\n",
    "print(attributes)"
   ]
  },
  {
   "cell_type": "markdown",
   "id": "bddbc286",
   "metadata": {},
   "source": [
    "#### Barplot of miscoding values"
   ]
  },
  {
   "cell_type": "code",
   "execution_count": 16,
   "id": "e4310a6a",
   "metadata": {},
   "outputs": [
    {
     "data": {
      "image/png": "[encoded data removed]",
      "text/plain": [
       "<Figure size 600x400 with 1 Axes>"
      ]
     },
     "metadata": {
      "needs_background": "light"
     },
     "output_type": "display_data"
    }
   ],
   "source": [
    "if (visualization == True):\n",
    "    xmlad_plt.barplot_miscoding(mscd, n_features)\n",
    "    if (save_figures == True):\n",
    "        plt.savefig('images/nokia_dataset/LP_miscoding.png', \n",
    "                    format = 'png',\n",
    "                    bbox_inches='tight', \n",
    "                    pad_inches=0)\n",
    "    plt.show()"
   ]
  },
  {
   "cell_type": "markdown",
   "id": "284c61ea",
   "metadata": {},
   "source": [
    "## Identification of problematic attributes and experiments"
   ]
  },
  {
   "cell_type": "code",
   "execution_count": 17,
   "id": "ff051d28",
   "metadata": {
    "scrolled": false
   },
   "outputs": [
    {
     "name": "stderr",
     "output_type": "stream",
     "text": [
      "/home/juan/anaconda3/lib/python3.9/site-packages/sklearn/mixture/_base.py:147: ConvergenceWarning: Number of distinct clusters (3) found smaller than n_clusters (4). Possibly due to duplicate points in X.\n",
      "  label = cluster.KMeans(n_clusters=self.n_components, n_init=1,\n",
      "/home/juan/anaconda3/lib/python3.9/site-packages/sklearn/mixture/_base.py:147: ConvergenceWarning: Number of distinct clusters (3) found smaller than n_clusters (5). Possibly due to duplicate points in X.\n",
      "  label = cluster.KMeans(n_clusters=self.n_components, n_init=1,\n",
      "/home/juan/anaconda3/lib/python3.9/site-packages/sklearn/mixture/_base.py:147: ConvergenceWarning: Number of distinct clusters (3) found smaller than n_clusters (4). Possibly due to duplicate points in X.\n",
      "  label = cluster.KMeans(n_clusters=self.n_components, n_init=1,\n",
      "/home/juan/anaconda3/lib/python3.9/site-packages/sklearn/mixture/_base.py:147: ConvergenceWarning: Number of distinct clusters (3) found smaller than n_clusters (5). Possibly due to duplicate points in X.\n",
      "  label = cluster.KMeans(n_clusters=self.n_components, n_init=1,\n"
     ]
    }
   ],
   "source": [
    "all_ratios = np.array([])\n",
    "for i in range(len(attributes)):\n",
    "    attr = data[attributes[i]]\n",
    "    scaler = StandardScaler()\n",
    "    scaler.fit(attr.values.reshape(-1, 1))\n",
    "    data2prc = scaler.transform(attr.values.reshape(-1, 1))\n",
    "    clustering, centroidsxx, covariances, _ = xmlad_mod.model_based_clustering(data2prc, 5, 1234, 'spherical')\n",
    "    classes = np.unique(clustering)\n",
    "    \n",
    "    if (classes.shape[0] > 1):\n",
    "        ratio = np.zeros(classes.shape[0])\n",
    "        for ii in range(classes.shape[0]):\n",
    "            ratio[ii] = y_diff[clustering==classes[ii]].mean()\n",
    "        all_ratios = np.append(all_ratios, ratio)\n",
    "all_ratios = all_ratios[np.argsort(-all_ratios)]\n",
    "num_prob_att = np.ceil(np.log2(np.log2(len(y_diff))/2)).astype(int)"
   ]
  },
  {
   "cell_type": "code",
   "execution_count": 18,
   "id": "6ca20e3a",
   "metadata": {
    "scrolled": true
   },
   "outputs": [
    {
     "name": "stdout",
     "output_type": "stream",
     "text": [
      "Threshold: 0.00\n"
     ]
    },
    {
     "name": "stderr",
     "output_type": "stream",
     "text": [
      "/home/juan/anaconda3/lib/python3.9/site-packages/sklearn/mixture/_base.py:147: ConvergenceWarning: Number of distinct clusters (3) found smaller than n_clusters (4). Possibly due to duplicate points in X.\n",
      "  label = cluster.KMeans(n_clusters=self.n_components, n_init=1,\n",
      "/home/juan/anaconda3/lib/python3.9/site-packages/sklearn/mixture/_base.py:147: ConvergenceWarning: Number of distinct clusters (3) found smaller than n_clusters (5). Possibly due to duplicate points in X.\n",
      "  label = cluster.KMeans(n_clusters=self.n_components, n_init=1,\n",
      "/home/juan/anaconda3/lib/python3.9/site-packages/sklearn/mixture/_base.py:147: ConvergenceWarning: Number of distinct clusters (3) found smaller than n_clusters (4). Possibly due to duplicate points in X.\n",
      "  label = cluster.KMeans(n_clusters=self.n_components, n_init=1,\n",
      "/home/juan/anaconda3/lib/python3.9/site-packages/sklearn/mixture/_base.py:147: ConvergenceWarning: Number of distinct clusters (3) found smaller than n_clusters (5). Possibly due to duplicate points in X.\n",
      "  label = cluster.KMeans(n_clusters=self.n_components, n_init=1,\n"
     ]
    },
    {
     "name": "stdout",
     "output_type": "stream",
     "text": [
      "Threshold: 0.00\n"
     ]
    },
    {
     "name": "stderr",
     "output_type": "stream",
     "text": [
      "/home/juan/anaconda3/lib/python3.9/site-packages/sklearn/mixture/_base.py:147: ConvergenceWarning: Number of distinct clusters (3) found smaller than n_clusters (4). Possibly due to duplicate points in X.\n",
      "  label = cluster.KMeans(n_clusters=self.n_components, n_init=1,\n",
      "/home/juan/anaconda3/lib/python3.9/site-packages/sklearn/mixture/_base.py:147: ConvergenceWarning: Number of distinct clusters (3) found smaller than n_clusters (5). Possibly due to duplicate points in X.\n",
      "  label = cluster.KMeans(n_clusters=self.n_components, n_init=1,\n",
      "/home/juan/anaconda3/lib/python3.9/site-packages/sklearn/mixture/_base.py:147: ConvergenceWarning: Number of distinct clusters (3) found smaller than n_clusters (4). Possibly due to duplicate points in X.\n",
      "  label = cluster.KMeans(n_clusters=self.n_components, n_init=1,\n",
      "/home/juan/anaconda3/lib/python3.9/site-packages/sklearn/mixture/_base.py:147: ConvergenceWarning: Number of distinct clusters (3) found smaller than n_clusters (5). Possibly due to duplicate points in X.\n",
      "  label = cluster.KMeans(n_clusters=self.n_components, n_init=1,\n"
     ]
    },
    {
     "name": "stdout",
     "output_type": "stream",
     "text": [
      "Threshold: 0.00\n"
     ]
    },
    {
     "name": "stderr",
     "output_type": "stream",
     "text": [
      "/home/juan/anaconda3/lib/python3.9/site-packages/sklearn/mixture/_base.py:147: ConvergenceWarning: Number of distinct clusters (3) found smaller than n_clusters (4). Possibly due to duplicate points in X.\n",
      "  label = cluster.KMeans(n_clusters=self.n_components, n_init=1,\n",
      "/home/juan/anaconda3/lib/python3.9/site-packages/sklearn/mixture/_base.py:147: ConvergenceWarning: Number of distinct clusters (3) found smaller than n_clusters (5). Possibly due to duplicate points in X.\n",
      "  label = cluster.KMeans(n_clusters=self.n_components, n_init=1,\n",
      "/home/juan/anaconda3/lib/python3.9/site-packages/sklearn/mixture/_base.py:147: ConvergenceWarning: Number of distinct clusters (3) found smaller than n_clusters (4). Possibly due to duplicate points in X.\n",
      "  label = cluster.KMeans(n_clusters=self.n_components, n_init=1,\n",
      "/home/juan/anaconda3/lib/python3.9/site-packages/sklearn/mixture/_base.py:147: ConvergenceWarning: Number of distinct clusters (3) found smaller than n_clusters (5). Possibly due to duplicate points in X.\n",
      "  label = cluster.KMeans(n_clusters=self.n_components, n_init=1,\n"
     ]
    },
    {
     "name": "stdout",
     "output_type": "stream",
     "text": [
      "Threshold: 0.00\n"
     ]
    },
    {
     "name": "stderr",
     "output_type": "stream",
     "text": [
      "/home/juan/anaconda3/lib/python3.9/site-packages/sklearn/mixture/_base.py:147: ConvergenceWarning: Number of distinct clusters (3) found smaller than n_clusters (4). Possibly due to duplicate points in X.\n",
      "  label = cluster.KMeans(n_clusters=self.n_components, n_init=1,\n",
      "/home/juan/anaconda3/lib/python3.9/site-packages/sklearn/mixture/_base.py:147: ConvergenceWarning: Number of distinct clusters (3) found smaller than n_clusters (5). Possibly due to duplicate points in X.\n",
      "  label = cluster.KMeans(n_clusters=self.n_components, n_init=1,\n",
      "/home/juan/anaconda3/lib/python3.9/site-packages/sklearn/mixture/_base.py:147: ConvergenceWarning: Number of distinct clusters (3) found smaller than n_clusters (4). Possibly due to duplicate points in X.\n",
      "  label = cluster.KMeans(n_clusters=self.n_components, n_init=1,\n",
      "/home/juan/anaconda3/lib/python3.9/site-packages/sklearn/mixture/_base.py:147: ConvergenceWarning: Number of distinct clusters (3) found smaller than n_clusters (5). Possibly due to duplicate points in X.\n",
      "  label = cluster.KMeans(n_clusters=self.n_components, n_init=1,\n"
     ]
    },
    {
     "name": "stdout",
     "output_type": "stream",
     "text": [
      "Threshold: -0.15\n"
     ]
    },
    {
     "name": "stderr",
     "output_type": "stream",
     "text": [
      "/home/juan/anaconda3/lib/python3.9/site-packages/sklearn/mixture/_base.py:147: ConvergenceWarning: Number of distinct clusters (3) found smaller than n_clusters (4). Possibly due to duplicate points in X.\n",
      "  label = cluster.KMeans(n_clusters=self.n_components, n_init=1,\n",
      "/home/juan/anaconda3/lib/python3.9/site-packages/sklearn/mixture/_base.py:147: ConvergenceWarning: Number of distinct clusters (3) found smaller than n_clusters (5). Possibly due to duplicate points in X.\n",
      "  label = cluster.KMeans(n_clusters=self.n_components, n_init=1,\n",
      "/home/juan/anaconda3/lib/python3.9/site-packages/sklearn/mixture/_base.py:147: ConvergenceWarning: Number of distinct clusters (3) found smaller than n_clusters (4). Possibly due to duplicate points in X.\n",
      "  label = cluster.KMeans(n_clusters=self.n_components, n_init=1,\n",
      "/home/juan/anaconda3/lib/python3.9/site-packages/sklearn/mixture/_base.py:147: ConvergenceWarning: Number of distinct clusters (3) found smaller than n_clusters (5). Possibly due to duplicate points in X.\n",
      "  label = cluster.KMeans(n_clusters=self.n_components, n_init=1,\n"
     ]
    },
    {
     "name": "stdout",
     "output_type": "stream",
     "text": [
      "Threshold: -0.16\n"
     ]
    },
    {
     "name": "stderr",
     "output_type": "stream",
     "text": [
      "/home/juan/anaconda3/lib/python3.9/site-packages/sklearn/mixture/_base.py:147: ConvergenceWarning: Number of distinct clusters (3) found smaller than n_clusters (4). Possibly due to duplicate points in X.\n",
      "  label = cluster.KMeans(n_clusters=self.n_components, n_init=1,\n",
      "/home/juan/anaconda3/lib/python3.9/site-packages/sklearn/mixture/_base.py:147: ConvergenceWarning: Number of distinct clusters (3) found smaller than n_clusters (5). Possibly due to duplicate points in X.\n",
      "  label = cluster.KMeans(n_clusters=self.n_components, n_init=1,\n",
      "/home/juan/anaconda3/lib/python3.9/site-packages/sklearn/mixture/_base.py:147: ConvergenceWarning: Number of distinct clusters (3) found smaller than n_clusters (4). Possibly due to duplicate points in X.\n",
      "  label = cluster.KMeans(n_clusters=self.n_components, n_init=1,\n",
      "/home/juan/anaconda3/lib/python3.9/site-packages/sklearn/mixture/_base.py:147: ConvergenceWarning: Number of distinct clusters (3) found smaller than n_clusters (5). Possibly due to duplicate points in X.\n",
      "  label = cluster.KMeans(n_clusters=self.n_components, n_init=1,\n"
     ]
    },
    {
     "name": "stdout",
     "output_type": "stream",
     "text": [
      "Threshold: -0.16\n"
     ]
    },
    {
     "name": "stderr",
     "output_type": "stream",
     "text": [
      "/home/juan/anaconda3/lib/python3.9/site-packages/sklearn/mixture/_base.py:147: ConvergenceWarning: Number of distinct clusters (3) found smaller than n_clusters (4). Possibly due to duplicate points in X.\n",
      "  label = cluster.KMeans(n_clusters=self.n_components, n_init=1,\n",
      "/home/juan/anaconda3/lib/python3.9/site-packages/sklearn/mixture/_base.py:147: ConvergenceWarning: Number of distinct clusters (3) found smaller than n_clusters (5). Possibly due to duplicate points in X.\n",
      "  label = cluster.KMeans(n_clusters=self.n_components, n_init=1,\n",
      "/home/juan/anaconda3/lib/python3.9/site-packages/sklearn/mixture/_base.py:147: ConvergenceWarning: Number of distinct clusters (3) found smaller than n_clusters (4). Possibly due to duplicate points in X.\n",
      "  label = cluster.KMeans(n_clusters=self.n_components, n_init=1,\n",
      "/home/juan/anaconda3/lib/python3.9/site-packages/sklearn/mixture/_base.py:147: ConvergenceWarning: Number of distinct clusters (3) found smaller than n_clusters (5). Possibly due to duplicate points in X.\n",
      "  label = cluster.KMeans(n_clusters=self.n_components, n_init=1,\n"
     ]
    },
    {
     "name": "stdout",
     "output_type": "stream",
     "text": [
      "Threshold: -0.17\n"
     ]
    },
    {
     "name": "stderr",
     "output_type": "stream",
     "text": [
      "/home/juan/anaconda3/lib/python3.9/site-packages/sklearn/mixture/_base.py:147: ConvergenceWarning: Number of distinct clusters (3) found smaller than n_clusters (4). Possibly due to duplicate points in X.\n",
      "  label = cluster.KMeans(n_clusters=self.n_components, n_init=1,\n",
      "/home/juan/anaconda3/lib/python3.9/site-packages/sklearn/mixture/_base.py:147: ConvergenceWarning: Number of distinct clusters (3) found smaller than n_clusters (5). Possibly due to duplicate points in X.\n",
      "  label = cluster.KMeans(n_clusters=self.n_components, n_init=1,\n",
      "/home/juan/anaconda3/lib/python3.9/site-packages/sklearn/mixture/_base.py:147: ConvergenceWarning: Number of distinct clusters (3) found smaller than n_clusters (4). Possibly due to duplicate points in X.\n",
      "  label = cluster.KMeans(n_clusters=self.n_components, n_init=1,\n",
      "/home/juan/anaconda3/lib/python3.9/site-packages/sklearn/mixture/_base.py:147: ConvergenceWarning: Number of distinct clusters (3) found smaller than n_clusters (5). Possibly due to duplicate points in X.\n",
      "  label = cluster.KMeans(n_clusters=self.n_components, n_init=1,\n"
     ]
    },
    {
     "name": "stdout",
     "output_type": "stream",
     "text": [
      "Threshold: -0.17\n"
     ]
    },
    {
     "name": "stderr",
     "output_type": "stream",
     "text": [
      "/home/juan/anaconda3/lib/python3.9/site-packages/sklearn/mixture/_base.py:147: ConvergenceWarning: Number of distinct clusters (3) found smaller than n_clusters (4). Possibly due to duplicate points in X.\n",
      "  label = cluster.KMeans(n_clusters=self.n_components, n_init=1,\n",
      "/home/juan/anaconda3/lib/python3.9/site-packages/sklearn/mixture/_base.py:147: ConvergenceWarning: Number of distinct clusters (3) found smaller than n_clusters (5). Possibly due to duplicate points in X.\n",
      "  label = cluster.KMeans(n_clusters=self.n_components, n_init=1,\n",
      "/home/juan/anaconda3/lib/python3.9/site-packages/sklearn/mixture/_base.py:147: ConvergenceWarning: Number of distinct clusters (3) found smaller than n_clusters (4). Possibly due to duplicate points in X.\n",
      "  label = cluster.KMeans(n_clusters=self.n_components, n_init=1,\n",
      "/home/juan/anaconda3/lib/python3.9/site-packages/sklearn/mixture/_base.py:147: ConvergenceWarning: Number of distinct clusters (3) found smaller than n_clusters (5). Possibly due to duplicate points in X.\n",
      "  label = cluster.KMeans(n_clusters=self.n_components, n_init=1,\n"
     ]
    },
    {
     "name": "stdout",
     "output_type": "stream",
     "text": [
      "Threshold: -0.17\n"
     ]
    },
    {
     "name": "stderr",
     "output_type": "stream",
     "text": [
      "/home/juan/anaconda3/lib/python3.9/site-packages/sklearn/mixture/_base.py:147: ConvergenceWarning: Number of distinct clusters (3) found smaller than n_clusters (4). Possibly due to duplicate points in X.\n",
      "  label = cluster.KMeans(n_clusters=self.n_components, n_init=1,\n",
      "/home/juan/anaconda3/lib/python3.9/site-packages/sklearn/mixture/_base.py:147: ConvergenceWarning: Number of distinct clusters (3) found smaller than n_clusters (5). Possibly due to duplicate points in X.\n",
      "  label = cluster.KMeans(n_clusters=self.n_components, n_init=1,\n",
      "/home/juan/anaconda3/lib/python3.9/site-packages/sklearn/mixture/_base.py:147: ConvergenceWarning: Number of distinct clusters (3) found smaller than n_clusters (4). Possibly due to duplicate points in X.\n",
      "  label = cluster.KMeans(n_clusters=self.n_components, n_init=1,\n",
      "/home/juan/anaconda3/lib/python3.9/site-packages/sklearn/mixture/_base.py:147: ConvergenceWarning: Number of distinct clusters (3) found smaller than n_clusters (5). Possibly due to duplicate points in X.\n",
      "  label = cluster.KMeans(n_clusters=self.n_components, n_init=1,\n"
     ]
    },
    {
     "name": "stdout",
     "output_type": "stream",
     "text": [
      "Threshold: -0.18\n"
     ]
    },
    {
     "name": "stderr",
     "output_type": "stream",
     "text": [
      "/home/juan/anaconda3/lib/python3.9/site-packages/sklearn/mixture/_base.py:147: ConvergenceWarning: Number of distinct clusters (3) found smaller than n_clusters (4). Possibly due to duplicate points in X.\n",
      "  label = cluster.KMeans(n_clusters=self.n_components, n_init=1,\n",
      "/home/juan/anaconda3/lib/python3.9/site-packages/sklearn/mixture/_base.py:147: ConvergenceWarning: Number of distinct clusters (3) found smaller than n_clusters (5). Possibly due to duplicate points in X.\n",
      "  label = cluster.KMeans(n_clusters=self.n_components, n_init=1,\n",
      "/home/juan/anaconda3/lib/python3.9/site-packages/sklearn/mixture/_base.py:147: ConvergenceWarning: Number of distinct clusters (3) found smaller than n_clusters (4). Possibly due to duplicate points in X.\n",
      "  label = cluster.KMeans(n_clusters=self.n_components, n_init=1,\n",
      "/home/juan/anaconda3/lib/python3.9/site-packages/sklearn/mixture/_base.py:147: ConvergenceWarning: Number of distinct clusters (3) found smaller than n_clusters (5). Possibly due to duplicate points in X.\n",
      "  label = cluster.KMeans(n_clusters=self.n_components, n_init=1,\n"
     ]
    },
    {
     "name": "stdout",
     "output_type": "stream",
     "text": [
      "Threshold: -0.18\n"
     ]
    },
    {
     "name": "stderr",
     "output_type": "stream",
     "text": [
      "/home/juan/anaconda3/lib/python3.9/site-packages/sklearn/mixture/_base.py:147: ConvergenceWarning: Number of distinct clusters (3) found smaller than n_clusters (4). Possibly due to duplicate points in X.\n",
      "  label = cluster.KMeans(n_clusters=self.n_components, n_init=1,\n",
      "/home/juan/anaconda3/lib/python3.9/site-packages/sklearn/mixture/_base.py:147: ConvergenceWarning: Number of distinct clusters (3) found smaller than n_clusters (5). Possibly due to duplicate points in X.\n",
      "  label = cluster.KMeans(n_clusters=self.n_components, n_init=1,\n",
      "/home/juan/anaconda3/lib/python3.9/site-packages/sklearn/mixture/_base.py:147: ConvergenceWarning: Number of distinct clusters (3) found smaller than n_clusters (4). Possibly due to duplicate points in X.\n",
      "  label = cluster.KMeans(n_clusters=self.n_components, n_init=1,\n",
      "/home/juan/anaconda3/lib/python3.9/site-packages/sklearn/mixture/_base.py:147: ConvergenceWarning: Number of distinct clusters (3) found smaller than n_clusters (5). Possibly due to duplicate points in X.\n",
      "  label = cluster.KMeans(n_clusters=self.n_components, n_init=1,\n"
     ]
    },
    {
     "name": "stdout",
     "output_type": "stream",
     "text": [
      "Threshold: -0.18\n"
     ]
    },
    {
     "name": "stderr",
     "output_type": "stream",
     "text": [
      "/home/juan/anaconda3/lib/python3.9/site-packages/sklearn/mixture/_base.py:147: ConvergenceWarning: Number of distinct clusters (3) found smaller than n_clusters (4). Possibly due to duplicate points in X.\n",
      "  label = cluster.KMeans(n_clusters=self.n_components, n_init=1,\n",
      "/home/juan/anaconda3/lib/python3.9/site-packages/sklearn/mixture/_base.py:147: ConvergenceWarning: Number of distinct clusters (3) found smaller than n_clusters (5). Possibly due to duplicate points in X.\n",
      "  label = cluster.KMeans(n_clusters=self.n_components, n_init=1,\n",
      "/home/juan/anaconda3/lib/python3.9/site-packages/sklearn/mixture/_base.py:147: ConvergenceWarning: Number of distinct clusters (3) found smaller than n_clusters (4). Possibly due to duplicate points in X.\n",
      "  label = cluster.KMeans(n_clusters=self.n_components, n_init=1,\n",
      "/home/juan/anaconda3/lib/python3.9/site-packages/sklearn/mixture/_base.py:147: ConvergenceWarning: Number of distinct clusters (3) found smaller than n_clusters (5). Possibly due to duplicate points in X.\n",
      "  label = cluster.KMeans(n_clusters=self.n_components, n_init=1,\n"
     ]
    },
    {
     "name": "stdout",
     "output_type": "stream",
     "text": [
      "Threshold: -0.18\n"
     ]
    },
    {
     "name": "stderr",
     "output_type": "stream",
     "text": [
      "/home/juan/anaconda3/lib/python3.9/site-packages/sklearn/mixture/_base.py:147: ConvergenceWarning: Number of distinct clusters (3) found smaller than n_clusters (4). Possibly due to duplicate points in X.\n",
      "  label = cluster.KMeans(n_clusters=self.n_components, n_init=1,\n",
      "/home/juan/anaconda3/lib/python3.9/site-packages/sklearn/mixture/_base.py:147: ConvergenceWarning: Number of distinct clusters (3) found smaller than n_clusters (5). Possibly due to duplicate points in X.\n",
      "  label = cluster.KMeans(n_clusters=self.n_components, n_init=1,\n",
      "/home/juan/anaconda3/lib/python3.9/site-packages/sklearn/mixture/_base.py:147: ConvergenceWarning: Number of distinct clusters (3) found smaller than n_clusters (4). Possibly due to duplicate points in X.\n",
      "  label = cluster.KMeans(n_clusters=self.n_components, n_init=1,\n",
      "/home/juan/anaconda3/lib/python3.9/site-packages/sklearn/mixture/_base.py:147: ConvergenceWarning: Number of distinct clusters (3) found smaller than n_clusters (5). Possibly due to duplicate points in X.\n",
      "  label = cluster.KMeans(n_clusters=self.n_components, n_init=1,\n"
     ]
    },
    {
     "name": "stdout",
     "output_type": "stream",
     "text": [
      "Threshold: -0.18\n"
     ]
    },
    {
     "name": "stderr",
     "output_type": "stream",
     "text": [
      "/home/juan/anaconda3/lib/python3.9/site-packages/sklearn/mixture/_base.py:147: ConvergenceWarning: Number of distinct clusters (3) found smaller than n_clusters (4). Possibly due to duplicate points in X.\n",
      "  label = cluster.KMeans(n_clusters=self.n_components, n_init=1,\n",
      "/home/juan/anaconda3/lib/python3.9/site-packages/sklearn/mixture/_base.py:147: ConvergenceWarning: Number of distinct clusters (3) found smaller than n_clusters (5). Possibly due to duplicate points in X.\n",
      "  label = cluster.KMeans(n_clusters=self.n_components, n_init=1,\n",
      "/home/juan/anaconda3/lib/python3.9/site-packages/sklearn/mixture/_base.py:147: ConvergenceWarning: Number of distinct clusters (3) found smaller than n_clusters (4). Possibly due to duplicate points in X.\n",
      "  label = cluster.KMeans(n_clusters=self.n_components, n_init=1,\n",
      "/home/juan/anaconda3/lib/python3.9/site-packages/sklearn/mixture/_base.py:147: ConvergenceWarning: Number of distinct clusters (3) found smaller than n_clusters (5). Possibly due to duplicate points in X.\n",
      "  label = cluster.KMeans(n_clusters=self.n_components, n_init=1,\n"
     ]
    },
    {
     "name": "stdout",
     "output_type": "stream",
     "text": [
      "Threshold: -0.18\n"
     ]
    },
    {
     "name": "stderr",
     "output_type": "stream",
     "text": [
      "/home/juan/anaconda3/lib/python3.9/site-packages/sklearn/mixture/_base.py:147: ConvergenceWarning: Number of distinct clusters (3) found smaller than n_clusters (4). Possibly due to duplicate points in X.\n",
      "  label = cluster.KMeans(n_clusters=self.n_components, n_init=1,\n",
      "/home/juan/anaconda3/lib/python3.9/site-packages/sklearn/mixture/_base.py:147: ConvergenceWarning: Number of distinct clusters (3) found smaller than n_clusters (5). Possibly due to duplicate points in X.\n",
      "  label = cluster.KMeans(n_clusters=self.n_components, n_init=1,\n",
      "/home/juan/anaconda3/lib/python3.9/site-packages/sklearn/mixture/_base.py:147: ConvergenceWarning: Number of distinct clusters (3) found smaller than n_clusters (4). Possibly due to duplicate points in X.\n",
      "  label = cluster.KMeans(n_clusters=self.n_components, n_init=1,\n",
      "/home/juan/anaconda3/lib/python3.9/site-packages/sklearn/mixture/_base.py:147: ConvergenceWarning: Number of distinct clusters (3) found smaller than n_clusters (5). Possibly due to duplicate points in X.\n",
      "  label = cluster.KMeans(n_clusters=self.n_components, n_init=1,\n"
     ]
    },
    {
     "name": "stdout",
     "output_type": "stream",
     "text": [
      "Threshold: -0.19\n"
     ]
    },
    {
     "name": "stderr",
     "output_type": "stream",
     "text": [
      "/home/juan/anaconda3/lib/python3.9/site-packages/sklearn/mixture/_base.py:147: ConvergenceWarning: Number of distinct clusters (3) found smaller than n_clusters (4). Possibly due to duplicate points in X.\n",
      "  label = cluster.KMeans(n_clusters=self.n_components, n_init=1,\n",
      "/home/juan/anaconda3/lib/python3.9/site-packages/sklearn/mixture/_base.py:147: ConvergenceWarning: Number of distinct clusters (3) found smaller than n_clusters (5). Possibly due to duplicate points in X.\n",
      "  label = cluster.KMeans(n_clusters=self.n_components, n_init=1,\n",
      "/home/juan/anaconda3/lib/python3.9/site-packages/sklearn/mixture/_base.py:147: ConvergenceWarning: Number of distinct clusters (3) found smaller than n_clusters (4). Possibly due to duplicate points in X.\n",
      "  label = cluster.KMeans(n_clusters=self.n_components, n_init=1,\n",
      "/home/juan/anaconda3/lib/python3.9/site-packages/sklearn/mixture/_base.py:147: ConvergenceWarning: Number of distinct clusters (3) found smaller than n_clusters (5). Possibly due to duplicate points in X.\n",
      "  label = cluster.KMeans(n_clusters=self.n_components, n_init=1,\n"
     ]
    },
    {
     "name": "stdout",
     "output_type": "stream",
     "text": [
      "Threshold: -0.19\n"
     ]
    },
    {
     "name": "stderr",
     "output_type": "stream",
     "text": [
      "/home/juan/anaconda3/lib/python3.9/site-packages/sklearn/mixture/_base.py:147: ConvergenceWarning: Number of distinct clusters (3) found smaller than n_clusters (4). Possibly due to duplicate points in X.\n",
      "  label = cluster.KMeans(n_clusters=self.n_components, n_init=1,\n",
      "/home/juan/anaconda3/lib/python3.9/site-packages/sklearn/mixture/_base.py:147: ConvergenceWarning: Number of distinct clusters (3) found smaller than n_clusters (5). Possibly due to duplicate points in X.\n",
      "  label = cluster.KMeans(n_clusters=self.n_components, n_init=1,\n",
      "/home/juan/anaconda3/lib/python3.9/site-packages/sklearn/mixture/_base.py:147: ConvergenceWarning: Number of distinct clusters (3) found smaller than n_clusters (4). Possibly due to duplicate points in X.\n",
      "  label = cluster.KMeans(n_clusters=self.n_components, n_init=1,\n",
      "/home/juan/anaconda3/lib/python3.9/site-packages/sklearn/mixture/_base.py:147: ConvergenceWarning: Number of distinct clusters (3) found smaller than n_clusters (5). Possibly due to duplicate points in X.\n",
      "  label = cluster.KMeans(n_clusters=self.n_components, n_init=1,\n"
     ]
    },
    {
     "name": "stdout",
     "output_type": "stream",
     "text": [
      "Threshold: -0.19\n"
     ]
    },
    {
     "name": "stderr",
     "output_type": "stream",
     "text": [
      "/home/juan/anaconda3/lib/python3.9/site-packages/sklearn/mixture/_base.py:147: ConvergenceWarning: Number of distinct clusters (3) found smaller than n_clusters (4). Possibly due to duplicate points in X.\n",
      "  label = cluster.KMeans(n_clusters=self.n_components, n_init=1,\n",
      "/home/juan/anaconda3/lib/python3.9/site-packages/sklearn/mixture/_base.py:147: ConvergenceWarning: Number of distinct clusters (3) found smaller than n_clusters (5). Possibly due to duplicate points in X.\n",
      "  label = cluster.KMeans(n_clusters=self.n_components, n_init=1,\n",
      "/home/juan/anaconda3/lib/python3.9/site-packages/sklearn/mixture/_base.py:147: ConvergenceWarning: Number of distinct clusters (3) found smaller than n_clusters (4). Possibly due to duplicate points in X.\n",
      "  label = cluster.KMeans(n_clusters=self.n_components, n_init=1,\n",
      "/home/juan/anaconda3/lib/python3.9/site-packages/sklearn/mixture/_base.py:147: ConvergenceWarning: Number of distinct clusters (3) found smaller than n_clusters (5). Possibly due to duplicate points in X.\n",
      "  label = cluster.KMeans(n_clusters=self.n_components, n_init=1,\n"
     ]
    },
    {
     "name": "stdout",
     "output_type": "stream",
     "text": [
      "Threshold: -0.19\n"
     ]
    },
    {
     "name": "stderr",
     "output_type": "stream",
     "text": [
      "/home/juan/anaconda3/lib/python3.9/site-packages/sklearn/mixture/_base.py:147: ConvergenceWarning: Number of distinct clusters (3) found smaller than n_clusters (4). Possibly due to duplicate points in X.\n",
      "  label = cluster.KMeans(n_clusters=self.n_components, n_init=1,\n",
      "/home/juan/anaconda3/lib/python3.9/site-packages/sklearn/mixture/_base.py:147: ConvergenceWarning: Number of distinct clusters (3) found smaller than n_clusters (5). Possibly due to duplicate points in X.\n",
      "  label = cluster.KMeans(n_clusters=self.n_components, n_init=1,\n",
      "/home/juan/anaconda3/lib/python3.9/site-packages/sklearn/mixture/_base.py:147: ConvergenceWarning: Number of distinct clusters (3) found smaller than n_clusters (4). Possibly due to duplicate points in X.\n",
      "  label = cluster.KMeans(n_clusters=self.n_components, n_init=1,\n",
      "/home/juan/anaconda3/lib/python3.9/site-packages/sklearn/mixture/_base.py:147: ConvergenceWarning: Number of distinct clusters (3) found smaller than n_clusters (5). Possibly due to duplicate points in X.\n",
      "  label = cluster.KMeans(n_clusters=self.n_components, n_init=1,\n"
     ]
    },
    {
     "name": "stdout",
     "output_type": "stream",
     "text": [
      "Threshold: -0.19\n"
     ]
    },
    {
     "name": "stderr",
     "output_type": "stream",
     "text": [
      "/home/juan/anaconda3/lib/python3.9/site-packages/sklearn/mixture/_base.py:147: ConvergenceWarning: Number of distinct clusters (3) found smaller than n_clusters (4). Possibly due to duplicate points in X.\n",
      "  label = cluster.KMeans(n_clusters=self.n_components, n_init=1,\n",
      "/home/juan/anaconda3/lib/python3.9/site-packages/sklearn/mixture/_base.py:147: ConvergenceWarning: Number of distinct clusters (3) found smaller than n_clusters (5). Possibly due to duplicate points in X.\n",
      "  label = cluster.KMeans(n_clusters=self.n_components, n_init=1,\n",
      "/home/juan/anaconda3/lib/python3.9/site-packages/sklearn/mixture/_base.py:147: ConvergenceWarning: Number of distinct clusters (3) found smaller than n_clusters (4). Possibly due to duplicate points in X.\n",
      "  label = cluster.KMeans(n_clusters=self.n_components, n_init=1,\n",
      "/home/juan/anaconda3/lib/python3.9/site-packages/sklearn/mixture/_base.py:147: ConvergenceWarning: Number of distinct clusters (3) found smaller than n_clusters (5). Possibly due to duplicate points in X.\n",
      "  label = cluster.KMeans(n_clusters=self.n_components, n_init=1,\n"
     ]
    },
    {
     "name": "stdout",
     "output_type": "stream",
     "text": [
      "Threshold: -0.19\n"
     ]
    },
    {
     "name": "stderr",
     "output_type": "stream",
     "text": [
      "/home/juan/anaconda3/lib/python3.9/site-packages/sklearn/mixture/_base.py:147: ConvergenceWarning: Number of distinct clusters (3) found smaller than n_clusters (4). Possibly due to duplicate points in X.\n",
      "  label = cluster.KMeans(n_clusters=self.n_components, n_init=1,\n",
      "/home/juan/anaconda3/lib/python3.9/site-packages/sklearn/mixture/_base.py:147: ConvergenceWarning: Number of distinct clusters (3) found smaller than n_clusters (5). Possibly due to duplicate points in X.\n",
      "  label = cluster.KMeans(n_clusters=self.n_components, n_init=1,\n",
      "/home/juan/anaconda3/lib/python3.9/site-packages/sklearn/mixture/_base.py:147: ConvergenceWarning: Number of distinct clusters (3) found smaller than n_clusters (4). Possibly due to duplicate points in X.\n",
      "  label = cluster.KMeans(n_clusters=self.n_components, n_init=1,\n",
      "/home/juan/anaconda3/lib/python3.9/site-packages/sklearn/mixture/_base.py:147: ConvergenceWarning: Number of distinct clusters (3) found smaller than n_clusters (5). Possibly due to duplicate points in X.\n",
      "  label = cluster.KMeans(n_clusters=self.n_components, n_init=1,\n"
     ]
    },
    {
     "name": "stdout",
     "output_type": "stream",
     "text": [
      "Threshold: -0.20\n"
     ]
    },
    {
     "name": "stderr",
     "output_type": "stream",
     "text": [
      "/home/juan/anaconda3/lib/python3.9/site-packages/sklearn/mixture/_base.py:147: ConvergenceWarning: Number of distinct clusters (3) found smaller than n_clusters (4). Possibly due to duplicate points in X.\n",
      "  label = cluster.KMeans(n_clusters=self.n_components, n_init=1,\n",
      "/home/juan/anaconda3/lib/python3.9/site-packages/sklearn/mixture/_base.py:147: ConvergenceWarning: Number of distinct clusters (3) found smaller than n_clusters (5). Possibly due to duplicate points in X.\n",
      "  label = cluster.KMeans(n_clusters=self.n_components, n_init=1,\n",
      "/home/juan/anaconda3/lib/python3.9/site-packages/sklearn/mixture/_base.py:147: ConvergenceWarning: Number of distinct clusters (3) found smaller than n_clusters (4). Possibly due to duplicate points in X.\n",
      "  label = cluster.KMeans(n_clusters=self.n_components, n_init=1,\n",
      "/home/juan/anaconda3/lib/python3.9/site-packages/sklearn/mixture/_base.py:147: ConvergenceWarning: Number of distinct clusters (3) found smaller than n_clusters (5). Possibly due to duplicate points in X.\n",
      "  label = cluster.KMeans(n_clusters=self.n_components, n_init=1,\n"
     ]
    },
    {
     "name": "stdout",
     "output_type": "stream",
     "text": [
      "Threshold: -0.20\n"
     ]
    },
    {
     "name": "stderr",
     "output_type": "stream",
     "text": [
      "/home/juan/anaconda3/lib/python3.9/site-packages/sklearn/mixture/_base.py:147: ConvergenceWarning: Number of distinct clusters (3) found smaller than n_clusters (4). Possibly due to duplicate points in X.\n",
      "  label = cluster.KMeans(n_clusters=self.n_components, n_init=1,\n",
      "/home/juan/anaconda3/lib/python3.9/site-packages/sklearn/mixture/_base.py:147: ConvergenceWarning: Number of distinct clusters (3) found smaller than n_clusters (5). Possibly due to duplicate points in X.\n",
      "  label = cluster.KMeans(n_clusters=self.n_components, n_init=1,\n",
      "/home/juan/anaconda3/lib/python3.9/site-packages/sklearn/mixture/_base.py:147: ConvergenceWarning: Number of distinct clusters (3) found smaller than n_clusters (4). Possibly due to duplicate points in X.\n",
      "  label = cluster.KMeans(n_clusters=self.n_components, n_init=1,\n",
      "/home/juan/anaconda3/lib/python3.9/site-packages/sklearn/mixture/_base.py:147: ConvergenceWarning: Number of distinct clusters (3) found smaller than n_clusters (5). Possibly due to duplicate points in X.\n",
      "  label = cluster.KMeans(n_clusters=self.n_components, n_init=1,\n"
     ]
    },
    {
     "name": "stdout",
     "output_type": "stream",
     "text": [
      "Threshold: -0.20\n"
     ]
    },
    {
     "name": "stderr",
     "output_type": "stream",
     "text": [
      "/home/juan/anaconda3/lib/python3.9/site-packages/sklearn/mixture/_base.py:147: ConvergenceWarning: Number of distinct clusters (3) found smaller than n_clusters (4). Possibly due to duplicate points in X.\n",
      "  label = cluster.KMeans(n_clusters=self.n_components, n_init=1,\n",
      "/home/juan/anaconda3/lib/python3.9/site-packages/sklearn/mixture/_base.py:147: ConvergenceWarning: Number of distinct clusters (3) found smaller than n_clusters (5). Possibly due to duplicate points in X.\n",
      "  label = cluster.KMeans(n_clusters=self.n_components, n_init=1,\n",
      "/home/juan/anaconda3/lib/python3.9/site-packages/sklearn/mixture/_base.py:147: ConvergenceWarning: Number of distinct clusters (3) found smaller than n_clusters (4). Possibly due to duplicate points in X.\n",
      "  label = cluster.KMeans(n_clusters=self.n_components, n_init=1,\n",
      "/home/juan/anaconda3/lib/python3.9/site-packages/sklearn/mixture/_base.py:147: ConvergenceWarning: Number of distinct clusters (3) found smaller than n_clusters (5). Possibly due to duplicate points in X.\n",
      "  label = cluster.KMeans(n_clusters=self.n_components, n_init=1,\n"
     ]
    },
    {
     "name": "stdout",
     "output_type": "stream",
     "text": [
      "Threshold: -0.20\n"
     ]
    },
    {
     "name": "stderr",
     "output_type": "stream",
     "text": [
      "/home/juan/anaconda3/lib/python3.9/site-packages/sklearn/mixture/_base.py:147: ConvergenceWarning: Number of distinct clusters (3) found smaller than n_clusters (4). Possibly due to duplicate points in X.\n",
      "  label = cluster.KMeans(n_clusters=self.n_components, n_init=1,\n",
      "/home/juan/anaconda3/lib/python3.9/site-packages/sklearn/mixture/_base.py:147: ConvergenceWarning: Number of distinct clusters (3) found smaller than n_clusters (5). Possibly due to duplicate points in X.\n",
      "  label = cluster.KMeans(n_clusters=self.n_components, n_init=1,\n",
      "/home/juan/anaconda3/lib/python3.9/site-packages/sklearn/mixture/_base.py:147: ConvergenceWarning: Number of distinct clusters (3) found smaller than n_clusters (4). Possibly due to duplicate points in X.\n",
      "  label = cluster.KMeans(n_clusters=self.n_components, n_init=1,\n",
      "/home/juan/anaconda3/lib/python3.9/site-packages/sklearn/mixture/_base.py:147: ConvergenceWarning: Number of distinct clusters (3) found smaller than n_clusters (5). Possibly due to duplicate points in X.\n",
      "  label = cluster.KMeans(n_clusters=self.n_components, n_init=1,\n"
     ]
    },
    {
     "name": "stdout",
     "output_type": "stream",
     "text": [
      "Threshold: -0.20\n"
     ]
    },
    {
     "name": "stderr",
     "output_type": "stream",
     "text": [
      "/home/juan/anaconda3/lib/python3.9/site-packages/sklearn/mixture/_base.py:147: ConvergenceWarning: Number of distinct clusters (3) found smaller than n_clusters (4). Possibly due to duplicate points in X.\n",
      "  label = cluster.KMeans(n_clusters=self.n_components, n_init=1,\n",
      "/home/juan/anaconda3/lib/python3.9/site-packages/sklearn/mixture/_base.py:147: ConvergenceWarning: Number of distinct clusters (3) found smaller than n_clusters (5). Possibly due to duplicate points in X.\n",
      "  label = cluster.KMeans(n_clusters=self.n_components, n_init=1,\n",
      "/home/juan/anaconda3/lib/python3.9/site-packages/sklearn/mixture/_base.py:147: ConvergenceWarning: Number of distinct clusters (3) found smaller than n_clusters (4). Possibly due to duplicate points in X.\n",
      "  label = cluster.KMeans(n_clusters=self.n_components, n_init=1,\n",
      "/home/juan/anaconda3/lib/python3.9/site-packages/sklearn/mixture/_base.py:147: ConvergenceWarning: Number of distinct clusters (3) found smaller than n_clusters (5). Possibly due to duplicate points in X.\n",
      "  label = cluster.KMeans(n_clusters=self.n_components, n_init=1,\n"
     ]
    },
    {
     "name": "stdout",
     "output_type": "stream",
     "text": [
      "Threshold: -0.21\n"
     ]
    },
    {
     "name": "stderr",
     "output_type": "stream",
     "text": [
      "/home/juan/anaconda3/lib/python3.9/site-packages/sklearn/mixture/_base.py:147: ConvergenceWarning: Number of distinct clusters (3) found smaller than n_clusters (4). Possibly due to duplicate points in X.\n",
      "  label = cluster.KMeans(n_clusters=self.n_components, n_init=1,\n",
      "/home/juan/anaconda3/lib/python3.9/site-packages/sklearn/mixture/_base.py:147: ConvergenceWarning: Number of distinct clusters (3) found smaller than n_clusters (5). Possibly due to duplicate points in X.\n",
      "  label = cluster.KMeans(n_clusters=self.n_components, n_init=1,\n",
      "/home/juan/anaconda3/lib/python3.9/site-packages/sklearn/mixture/_base.py:147: ConvergenceWarning: Number of distinct clusters (3) found smaller than n_clusters (4). Possibly due to duplicate points in X.\n",
      "  label = cluster.KMeans(n_clusters=self.n_components, n_init=1,\n",
      "/home/juan/anaconda3/lib/python3.9/site-packages/sklearn/mixture/_base.py:147: ConvergenceWarning: Number of distinct clusters (3) found smaller than n_clusters (5). Possibly due to duplicate points in X.\n",
      "  label = cluster.KMeans(n_clusters=self.n_components, n_init=1,\n"
     ]
    },
    {
     "name": "stdout",
     "output_type": "stream",
     "text": [
      "Threshold: -0.21\n"
     ]
    },
    {
     "name": "stderr",
     "output_type": "stream",
     "text": [
      "/home/juan/anaconda3/lib/python3.9/site-packages/sklearn/mixture/_base.py:147: ConvergenceWarning: Number of distinct clusters (3) found smaller than n_clusters (4). Possibly due to duplicate points in X.\n",
      "  label = cluster.KMeans(n_clusters=self.n_components, n_init=1,\n",
      "/home/juan/anaconda3/lib/python3.9/site-packages/sklearn/mixture/_base.py:147: ConvergenceWarning: Number of distinct clusters (3) found smaller than n_clusters (5). Possibly due to duplicate points in X.\n",
      "  label = cluster.KMeans(n_clusters=self.n_components, n_init=1,\n",
      "/home/juan/anaconda3/lib/python3.9/site-packages/sklearn/mixture/_base.py:147: ConvergenceWarning: Number of distinct clusters (3) found smaller than n_clusters (4). Possibly due to duplicate points in X.\n",
      "  label = cluster.KMeans(n_clusters=self.n_components, n_init=1,\n",
      "/home/juan/anaconda3/lib/python3.9/site-packages/sklearn/mixture/_base.py:147: ConvergenceWarning: Number of distinct clusters (3) found smaller than n_clusters (5). Possibly due to duplicate points in X.\n",
      "  label = cluster.KMeans(n_clusters=self.n_components, n_init=1,\n"
     ]
    },
    {
     "name": "stdout",
     "output_type": "stream",
     "text": [
      "Threshold: -0.21\n"
     ]
    },
    {
     "name": "stderr",
     "output_type": "stream",
     "text": [
      "/home/juan/anaconda3/lib/python3.9/site-packages/sklearn/mixture/_base.py:147: ConvergenceWarning: Number of distinct clusters (3) found smaller than n_clusters (4). Possibly due to duplicate points in X.\n",
      "  label = cluster.KMeans(n_clusters=self.n_components, n_init=1,\n",
      "/home/juan/anaconda3/lib/python3.9/site-packages/sklearn/mixture/_base.py:147: ConvergenceWarning: Number of distinct clusters (3) found smaller than n_clusters (5). Possibly due to duplicate points in X.\n",
      "  label = cluster.KMeans(n_clusters=self.n_components, n_init=1,\n",
      "/home/juan/anaconda3/lib/python3.9/site-packages/sklearn/mixture/_base.py:147: ConvergenceWarning: Number of distinct clusters (3) found smaller than n_clusters (4). Possibly due to duplicate points in X.\n",
      "  label = cluster.KMeans(n_clusters=self.n_components, n_init=1,\n",
      "/home/juan/anaconda3/lib/python3.9/site-packages/sklearn/mixture/_base.py:147: ConvergenceWarning: Number of distinct clusters (3) found smaller than n_clusters (5). Possibly due to duplicate points in X.\n",
      "  label = cluster.KMeans(n_clusters=self.n_components, n_init=1,\n"
     ]
    },
    {
     "name": "stdout",
     "output_type": "stream",
     "text": [
      "Threshold: -0.21\n"
     ]
    },
    {
     "name": "stderr",
     "output_type": "stream",
     "text": [
      "/home/juan/anaconda3/lib/python3.9/site-packages/sklearn/mixture/_base.py:147: ConvergenceWarning: Number of distinct clusters (3) found smaller than n_clusters (4). Possibly due to duplicate points in X.\n",
      "  label = cluster.KMeans(n_clusters=self.n_components, n_init=1,\n",
      "/home/juan/anaconda3/lib/python3.9/site-packages/sklearn/mixture/_base.py:147: ConvergenceWarning: Number of distinct clusters (3) found smaller than n_clusters (5). Possibly due to duplicate points in X.\n",
      "  label = cluster.KMeans(n_clusters=self.n_components, n_init=1,\n",
      "/home/juan/anaconda3/lib/python3.9/site-packages/sklearn/mixture/_base.py:147: ConvergenceWarning: Number of distinct clusters (3) found smaller than n_clusters (4). Possibly due to duplicate points in X.\n",
      "  label = cluster.KMeans(n_clusters=self.n_components, n_init=1,\n",
      "/home/juan/anaconda3/lib/python3.9/site-packages/sklearn/mixture/_base.py:147: ConvergenceWarning: Number of distinct clusters (3) found smaller than n_clusters (5). Possibly due to duplicate points in X.\n",
      "  label = cluster.KMeans(n_clusters=self.n_components, n_init=1,\n"
     ]
    },
    {
     "name": "stdout",
     "output_type": "stream",
     "text": [
      "Threshold: -0.21\n"
     ]
    },
    {
     "name": "stderr",
     "output_type": "stream",
     "text": [
      "/home/juan/anaconda3/lib/python3.9/site-packages/sklearn/mixture/_base.py:147: ConvergenceWarning: Number of distinct clusters (3) found smaller than n_clusters (4). Possibly due to duplicate points in X.\n",
      "  label = cluster.KMeans(n_clusters=self.n_components, n_init=1,\n",
      "/home/juan/anaconda3/lib/python3.9/site-packages/sklearn/mixture/_base.py:147: ConvergenceWarning: Number of distinct clusters (3) found smaller than n_clusters (5). Possibly due to duplicate points in X.\n",
      "  label = cluster.KMeans(n_clusters=self.n_components, n_init=1,\n",
      "/home/juan/anaconda3/lib/python3.9/site-packages/sklearn/mixture/_base.py:147: ConvergenceWarning: Number of distinct clusters (3) found smaller than n_clusters (4). Possibly due to duplicate points in X.\n",
      "  label = cluster.KMeans(n_clusters=self.n_components, n_init=1,\n",
      "/home/juan/anaconda3/lib/python3.9/site-packages/sklearn/mixture/_base.py:147: ConvergenceWarning: Number of distinct clusters (3) found smaller than n_clusters (5). Possibly due to duplicate points in X.\n",
      "  label = cluster.KMeans(n_clusters=self.n_components, n_init=1,\n"
     ]
    },
    {
     "name": "stdout",
     "output_type": "stream",
     "text": [
      "Threshold: -0.21\n"
     ]
    },
    {
     "name": "stderr",
     "output_type": "stream",
     "text": [
      "/home/juan/anaconda3/lib/python3.9/site-packages/sklearn/mixture/_base.py:147: ConvergenceWarning: Number of distinct clusters (3) found smaller than n_clusters (4). Possibly due to duplicate points in X.\n",
      "  label = cluster.KMeans(n_clusters=self.n_components, n_init=1,\n",
      "/home/juan/anaconda3/lib/python3.9/site-packages/sklearn/mixture/_base.py:147: ConvergenceWarning: Number of distinct clusters (3) found smaller than n_clusters (5). Possibly due to duplicate points in X.\n",
      "  label = cluster.KMeans(n_clusters=self.n_components, n_init=1,\n",
      "/home/juan/anaconda3/lib/python3.9/site-packages/sklearn/mixture/_base.py:147: ConvergenceWarning: Number of distinct clusters (3) found smaller than n_clusters (4). Possibly due to duplicate points in X.\n",
      "  label = cluster.KMeans(n_clusters=self.n_components, n_init=1,\n",
      "/home/juan/anaconda3/lib/python3.9/site-packages/sklearn/mixture/_base.py:147: ConvergenceWarning: Number of distinct clusters (3) found smaller than n_clusters (5). Possibly due to duplicate points in X.\n",
      "  label = cluster.KMeans(n_clusters=self.n_components, n_init=1,\n"
     ]
    },
    {
     "name": "stdout",
     "output_type": "stream",
     "text": [
      "Threshold: -0.21\n"
     ]
    },
    {
     "name": "stderr",
     "output_type": "stream",
     "text": [
      "/home/juan/anaconda3/lib/python3.9/site-packages/sklearn/mixture/_base.py:147: ConvergenceWarning: Number of distinct clusters (3) found smaller than n_clusters (4). Possibly due to duplicate points in X.\n",
      "  label = cluster.KMeans(n_clusters=self.n_components, n_init=1,\n",
      "/home/juan/anaconda3/lib/python3.9/site-packages/sklearn/mixture/_base.py:147: ConvergenceWarning: Number of distinct clusters (3) found smaller than n_clusters (5). Possibly due to duplicate points in X.\n",
      "  label = cluster.KMeans(n_clusters=self.n_components, n_init=1,\n",
      "/home/juan/anaconda3/lib/python3.9/site-packages/sklearn/mixture/_base.py:147: ConvergenceWarning: Number of distinct clusters (3) found smaller than n_clusters (4). Possibly due to duplicate points in X.\n",
      "  label = cluster.KMeans(n_clusters=self.n_components, n_init=1,\n",
      "/home/juan/anaconda3/lib/python3.9/site-packages/sklearn/mixture/_base.py:147: ConvergenceWarning: Number of distinct clusters (3) found smaller than n_clusters (5). Possibly due to duplicate points in X.\n",
      "  label = cluster.KMeans(n_clusters=self.n_components, n_init=1,\n"
     ]
    },
    {
     "name": "stdout",
     "output_type": "stream",
     "text": [
      "Threshold: -0.21\n"
     ]
    },
    {
     "name": "stderr",
     "output_type": "stream",
     "text": [
      "/home/juan/anaconda3/lib/python3.9/site-packages/sklearn/mixture/_base.py:147: ConvergenceWarning: Number of distinct clusters (3) found smaller than n_clusters (4). Possibly due to duplicate points in X.\n",
      "  label = cluster.KMeans(n_clusters=self.n_components, n_init=1,\n",
      "/home/juan/anaconda3/lib/python3.9/site-packages/sklearn/mixture/_base.py:147: ConvergenceWarning: Number of distinct clusters (3) found smaller than n_clusters (5). Possibly due to duplicate points in X.\n",
      "  label = cluster.KMeans(n_clusters=self.n_components, n_init=1,\n",
      "/home/juan/anaconda3/lib/python3.9/site-packages/sklearn/mixture/_base.py:147: ConvergenceWarning: Number of distinct clusters (3) found smaller than n_clusters (4). Possibly due to duplicate points in X.\n",
      "  label = cluster.KMeans(n_clusters=self.n_components, n_init=1,\n",
      "/home/juan/anaconda3/lib/python3.9/site-packages/sklearn/mixture/_base.py:147: ConvergenceWarning: Number of distinct clusters (3) found smaller than n_clusters (5). Possibly due to duplicate points in X.\n",
      "  label = cluster.KMeans(n_clusters=self.n_components, n_init=1,\n"
     ]
    },
    {
     "name": "stdout",
     "output_type": "stream",
     "text": [
      "Threshold: -0.21\n"
     ]
    },
    {
     "name": "stderr",
     "output_type": "stream",
     "text": [
      "/home/juan/anaconda3/lib/python3.9/site-packages/sklearn/mixture/_base.py:147: ConvergenceWarning: Number of distinct clusters (3) found smaller than n_clusters (4). Possibly due to duplicate points in X.\n",
      "  label = cluster.KMeans(n_clusters=self.n_components, n_init=1,\n",
      "/home/juan/anaconda3/lib/python3.9/site-packages/sklearn/mixture/_base.py:147: ConvergenceWarning: Number of distinct clusters (3) found smaller than n_clusters (5). Possibly due to duplicate points in X.\n",
      "  label = cluster.KMeans(n_clusters=self.n_components, n_init=1,\n",
      "/home/juan/anaconda3/lib/python3.9/site-packages/sklearn/mixture/_base.py:147: ConvergenceWarning: Number of distinct clusters (3) found smaller than n_clusters (4). Possibly due to duplicate points in X.\n",
      "  label = cluster.KMeans(n_clusters=self.n_components, n_init=1,\n",
      "/home/juan/anaconda3/lib/python3.9/site-packages/sklearn/mixture/_base.py:147: ConvergenceWarning: Number of distinct clusters (3) found smaller than n_clusters (5). Possibly due to duplicate points in X.\n",
      "  label = cluster.KMeans(n_clusters=self.n_components, n_init=1,\n"
     ]
    },
    {
     "name": "stdout",
     "output_type": "stream",
     "text": [
      "Threshold: -0.22\n"
     ]
    },
    {
     "name": "stderr",
     "output_type": "stream",
     "text": [
      "/home/juan/anaconda3/lib/python3.9/site-packages/sklearn/mixture/_base.py:147: ConvergenceWarning: Number of distinct clusters (3) found smaller than n_clusters (4). Possibly due to duplicate points in X.\n",
      "  label = cluster.KMeans(n_clusters=self.n_components, n_init=1,\n",
      "/home/juan/anaconda3/lib/python3.9/site-packages/sklearn/mixture/_base.py:147: ConvergenceWarning: Number of distinct clusters (3) found smaller than n_clusters (5). Possibly due to duplicate points in X.\n",
      "  label = cluster.KMeans(n_clusters=self.n_components, n_init=1,\n",
      "/home/juan/anaconda3/lib/python3.9/site-packages/sklearn/mixture/_base.py:147: ConvergenceWarning: Number of distinct clusters (3) found smaller than n_clusters (4). Possibly due to duplicate points in X.\n",
      "  label = cluster.KMeans(n_clusters=self.n_components, n_init=1,\n",
      "/home/juan/anaconda3/lib/python3.9/site-packages/sklearn/mixture/_base.py:147: ConvergenceWarning: Number of distinct clusters (3) found smaller than n_clusters (5). Possibly due to duplicate points in X.\n",
      "  label = cluster.KMeans(n_clusters=self.n_components, n_init=1,\n"
     ]
    },
    {
     "name": "stdout",
     "output_type": "stream",
     "text": [
      "Threshold: -0.22\n"
     ]
    },
    {
     "name": "stderr",
     "output_type": "stream",
     "text": [
      "/home/juan/anaconda3/lib/python3.9/site-packages/sklearn/mixture/_base.py:147: ConvergenceWarning: Number of distinct clusters (3) found smaller than n_clusters (4). Possibly due to duplicate points in X.\n",
      "  label = cluster.KMeans(n_clusters=self.n_components, n_init=1,\n",
      "/home/juan/anaconda3/lib/python3.9/site-packages/sklearn/mixture/_base.py:147: ConvergenceWarning: Number of distinct clusters (3) found smaller than n_clusters (5). Possibly due to duplicate points in X.\n",
      "  label = cluster.KMeans(n_clusters=self.n_components, n_init=1,\n",
      "/home/juan/anaconda3/lib/python3.9/site-packages/sklearn/mixture/_base.py:147: ConvergenceWarning: Number of distinct clusters (3) found smaller than n_clusters (4). Possibly due to duplicate points in X.\n",
      "  label = cluster.KMeans(n_clusters=self.n_components, n_init=1,\n",
      "/home/juan/anaconda3/lib/python3.9/site-packages/sklearn/mixture/_base.py:147: ConvergenceWarning: Number of distinct clusters (3) found smaller than n_clusters (5). Possibly due to duplicate points in X.\n",
      "  label = cluster.KMeans(n_clusters=self.n_components, n_init=1,\n"
     ]
    },
    {
     "name": "stdout",
     "output_type": "stream",
     "text": [
      "Threshold: -0.23\n"
     ]
    },
    {
     "name": "stderr",
     "output_type": "stream",
     "text": [
      "/home/juan/anaconda3/lib/python3.9/site-packages/sklearn/mixture/_base.py:147: ConvergenceWarning: Number of distinct clusters (3) found smaller than n_clusters (4). Possibly due to duplicate points in X.\n",
      "  label = cluster.KMeans(n_clusters=self.n_components, n_init=1,\n",
      "/home/juan/anaconda3/lib/python3.9/site-packages/sklearn/mixture/_base.py:147: ConvergenceWarning: Number of distinct clusters (3) found smaller than n_clusters (5). Possibly due to duplicate points in X.\n",
      "  label = cluster.KMeans(n_clusters=self.n_components, n_init=1,\n",
      "/home/juan/anaconda3/lib/python3.9/site-packages/sklearn/mixture/_base.py:147: ConvergenceWarning: Number of distinct clusters (3) found smaller than n_clusters (4). Possibly due to duplicate points in X.\n",
      "  label = cluster.KMeans(n_clusters=self.n_components, n_init=1,\n",
      "/home/juan/anaconda3/lib/python3.9/site-packages/sklearn/mixture/_base.py:147: ConvergenceWarning: Number of distinct clusters (3) found smaller than n_clusters (5). Possibly due to duplicate points in X.\n",
      "  label = cluster.KMeans(n_clusters=self.n_components, n_init=1,\n"
     ]
    },
    {
     "name": "stdout",
     "output_type": "stream",
     "text": [
      "Threshold: -0.23\n"
     ]
    },
    {
     "name": "stderr",
     "output_type": "stream",
     "text": [
      "/home/juan/anaconda3/lib/python3.9/site-packages/sklearn/mixture/_base.py:147: ConvergenceWarning: Number of distinct clusters (3) found smaller than n_clusters (4). Possibly due to duplicate points in X.\n",
      "  label = cluster.KMeans(n_clusters=self.n_components, n_init=1,\n",
      "/home/juan/anaconda3/lib/python3.9/site-packages/sklearn/mixture/_base.py:147: ConvergenceWarning: Number of distinct clusters (3) found smaller than n_clusters (5). Possibly due to duplicate points in X.\n",
      "  label = cluster.KMeans(n_clusters=self.n_components, n_init=1,\n",
      "/home/juan/anaconda3/lib/python3.9/site-packages/sklearn/mixture/_base.py:147: ConvergenceWarning: Number of distinct clusters (3) found smaller than n_clusters (4). Possibly due to duplicate points in X.\n",
      "  label = cluster.KMeans(n_clusters=self.n_components, n_init=1,\n",
      "/home/juan/anaconda3/lib/python3.9/site-packages/sklearn/mixture/_base.py:147: ConvergenceWarning: Number of distinct clusters (3) found smaller than n_clusters (5). Possibly due to duplicate points in X.\n",
      "  label = cluster.KMeans(n_clusters=self.n_components, n_init=1,\n"
     ]
    },
    {
     "name": "stdout",
     "output_type": "stream",
     "text": [
      "Threshold: -0.23\n"
     ]
    },
    {
     "name": "stderr",
     "output_type": "stream",
     "text": [
      "/home/juan/anaconda3/lib/python3.9/site-packages/sklearn/mixture/_base.py:147: ConvergenceWarning: Number of distinct clusters (3) found smaller than n_clusters (4). Possibly due to duplicate points in X.\n",
      "  label = cluster.KMeans(n_clusters=self.n_components, n_init=1,\n",
      "/home/juan/anaconda3/lib/python3.9/site-packages/sklearn/mixture/_base.py:147: ConvergenceWarning: Number of distinct clusters (3) found smaller than n_clusters (5). Possibly due to duplicate points in X.\n",
      "  label = cluster.KMeans(n_clusters=self.n_components, n_init=1,\n",
      "/home/juan/anaconda3/lib/python3.9/site-packages/sklearn/mixture/_base.py:147: ConvergenceWarning: Number of distinct clusters (3) found smaller than n_clusters (4). Possibly due to duplicate points in X.\n",
      "  label = cluster.KMeans(n_clusters=self.n_components, n_init=1,\n",
      "/home/juan/anaconda3/lib/python3.9/site-packages/sklearn/mixture/_base.py:147: ConvergenceWarning: Number of distinct clusters (3) found smaller than n_clusters (5). Possibly due to duplicate points in X.\n",
      "  label = cluster.KMeans(n_clusters=self.n_components, n_init=1,\n"
     ]
    },
    {
     "name": "stdout",
     "output_type": "stream",
     "text": [
      "Threshold: -0.24\n"
     ]
    },
    {
     "name": "stderr",
     "output_type": "stream",
     "text": [
      "/home/juan/anaconda3/lib/python3.9/site-packages/sklearn/mixture/_base.py:147: ConvergenceWarning: Number of distinct clusters (3) found smaller than n_clusters (4). Possibly due to duplicate points in X.\n",
      "  label = cluster.KMeans(n_clusters=self.n_components, n_init=1,\n",
      "/home/juan/anaconda3/lib/python3.9/site-packages/sklearn/mixture/_base.py:147: ConvergenceWarning: Number of distinct clusters (3) found smaller than n_clusters (5). Possibly due to duplicate points in X.\n",
      "  label = cluster.KMeans(n_clusters=self.n_components, n_init=1,\n",
      "/home/juan/anaconda3/lib/python3.9/site-packages/sklearn/mixture/_base.py:147: ConvergenceWarning: Number of distinct clusters (3) found smaller than n_clusters (4). Possibly due to duplicate points in X.\n",
      "  label = cluster.KMeans(n_clusters=self.n_components, n_init=1,\n",
      "/home/juan/anaconda3/lib/python3.9/site-packages/sklearn/mixture/_base.py:147: ConvergenceWarning: Number of distinct clusters (3) found smaller than n_clusters (5). Possibly due to duplicate points in X.\n",
      "  label = cluster.KMeans(n_clusters=self.n_components, n_init=1,\n"
     ]
    },
    {
     "name": "stdout",
     "output_type": "stream",
     "text": [
      "Threshold: -0.24\n"
     ]
    },
    {
     "name": "stderr",
     "output_type": "stream",
     "text": [
      "/home/juan/anaconda3/lib/python3.9/site-packages/sklearn/mixture/_base.py:147: ConvergenceWarning: Number of distinct clusters (3) found smaller than n_clusters (4). Possibly due to duplicate points in X.\n",
      "  label = cluster.KMeans(n_clusters=self.n_components, n_init=1,\n",
      "/home/juan/anaconda3/lib/python3.9/site-packages/sklearn/mixture/_base.py:147: ConvergenceWarning: Number of distinct clusters (3) found smaller than n_clusters (5). Possibly due to duplicate points in X.\n",
      "  label = cluster.KMeans(n_clusters=self.n_components, n_init=1,\n",
      "/home/juan/anaconda3/lib/python3.9/site-packages/sklearn/mixture/_base.py:147: ConvergenceWarning: Number of distinct clusters (3) found smaller than n_clusters (4). Possibly due to duplicate points in X.\n",
      "  label = cluster.KMeans(n_clusters=self.n_components, n_init=1,\n",
      "/home/juan/anaconda3/lib/python3.9/site-packages/sklearn/mixture/_base.py:147: ConvergenceWarning: Number of distinct clusters (3) found smaller than n_clusters (5). Possibly due to duplicate points in X.\n",
      "  label = cluster.KMeans(n_clusters=self.n_components, n_init=1,\n"
     ]
    },
    {
     "name": "stdout",
     "output_type": "stream",
     "text": [
      "Threshold: -0.26\n"
     ]
    },
    {
     "name": "stderr",
     "output_type": "stream",
     "text": [
      "/home/juan/anaconda3/lib/python3.9/site-packages/sklearn/mixture/_base.py:147: ConvergenceWarning: Number of distinct clusters (3) found smaller than n_clusters (4). Possibly due to duplicate points in X.\n",
      "  label = cluster.KMeans(n_clusters=self.n_components, n_init=1,\n",
      "/home/juan/anaconda3/lib/python3.9/site-packages/sklearn/mixture/_base.py:147: ConvergenceWarning: Number of distinct clusters (3) found smaller than n_clusters (5). Possibly due to duplicate points in X.\n",
      "  label = cluster.KMeans(n_clusters=self.n_components, n_init=1,\n",
      "/home/juan/anaconda3/lib/python3.9/site-packages/sklearn/mixture/_base.py:147: ConvergenceWarning: Number of distinct clusters (3) found smaller than n_clusters (4). Possibly due to duplicate points in X.\n",
      "  label = cluster.KMeans(n_clusters=self.n_components, n_init=1,\n",
      "/home/juan/anaconda3/lib/python3.9/site-packages/sklearn/mixture/_base.py:147: ConvergenceWarning: Number of distinct clusters (3) found smaller than n_clusters (5). Possibly due to duplicate points in X.\n",
      "  label = cluster.KMeans(n_clusters=self.n_components, n_init=1,\n"
     ]
    },
    {
     "name": "stdout",
     "output_type": "stream",
     "text": [
      "Threshold: -0.26\n"
     ]
    },
    {
     "name": "stderr",
     "output_type": "stream",
     "text": [
      "/home/juan/anaconda3/lib/python3.9/site-packages/sklearn/mixture/_base.py:147: ConvergenceWarning: Number of distinct clusters (3) found smaller than n_clusters (4). Possibly due to duplicate points in X.\n",
      "  label = cluster.KMeans(n_clusters=self.n_components, n_init=1,\n",
      "/home/juan/anaconda3/lib/python3.9/site-packages/sklearn/mixture/_base.py:147: ConvergenceWarning: Number of distinct clusters (3) found smaller than n_clusters (5). Possibly due to duplicate points in X.\n",
      "  label = cluster.KMeans(n_clusters=self.n_components, n_init=1,\n",
      "/home/juan/anaconda3/lib/python3.9/site-packages/sklearn/mixture/_base.py:147: ConvergenceWarning: Number of distinct clusters (3) found smaller than n_clusters (4). Possibly due to duplicate points in X.\n",
      "  label = cluster.KMeans(n_clusters=self.n_components, n_init=1,\n",
      "/home/juan/anaconda3/lib/python3.9/site-packages/sklearn/mixture/_base.py:147: ConvergenceWarning: Number of distinct clusters (3) found smaller than n_clusters (5). Possibly due to duplicate points in X.\n",
      "  label = cluster.KMeans(n_clusters=self.n_components, n_init=1,\n"
     ]
    },
    {
     "name": "stdout",
     "output_type": "stream",
     "text": [
      "Threshold: -0.26\n"
     ]
    },
    {
     "name": "stderr",
     "output_type": "stream",
     "text": [
      "/home/juan/anaconda3/lib/python3.9/site-packages/sklearn/mixture/_base.py:147: ConvergenceWarning: Number of distinct clusters (3) found smaller than n_clusters (4). Possibly due to duplicate points in X.\n",
      "  label = cluster.KMeans(n_clusters=self.n_components, n_init=1,\n",
      "/home/juan/anaconda3/lib/python3.9/site-packages/sklearn/mixture/_base.py:147: ConvergenceWarning: Number of distinct clusters (3) found smaller than n_clusters (5). Possibly due to duplicate points in X.\n",
      "  label = cluster.KMeans(n_clusters=self.n_components, n_init=1,\n",
      "/home/juan/anaconda3/lib/python3.9/site-packages/sklearn/mixture/_base.py:147: ConvergenceWarning: Number of distinct clusters (3) found smaller than n_clusters (4). Possibly due to duplicate points in X.\n",
      "  label = cluster.KMeans(n_clusters=self.n_components, n_init=1,\n",
      "/home/juan/anaconda3/lib/python3.9/site-packages/sklearn/mixture/_base.py:147: ConvergenceWarning: Number of distinct clusters (3) found smaller than n_clusters (5). Possibly due to duplicate points in X.\n",
      "  label = cluster.KMeans(n_clusters=self.n_components, n_init=1,\n"
     ]
    },
    {
     "name": "stdout",
     "output_type": "stream",
     "text": [
      "Threshold: -0.26\n"
     ]
    },
    {
     "name": "stderr",
     "output_type": "stream",
     "text": [
      "/home/juan/anaconda3/lib/python3.9/site-packages/sklearn/mixture/_base.py:147: ConvergenceWarning: Number of distinct clusters (3) found smaller than n_clusters (4). Possibly due to duplicate points in X.\n",
      "  label = cluster.KMeans(n_clusters=self.n_components, n_init=1,\n",
      "/home/juan/anaconda3/lib/python3.9/site-packages/sklearn/mixture/_base.py:147: ConvergenceWarning: Number of distinct clusters (3) found smaller than n_clusters (5). Possibly due to duplicate points in X.\n",
      "  label = cluster.KMeans(n_clusters=self.n_components, n_init=1,\n",
      "/home/juan/anaconda3/lib/python3.9/site-packages/sklearn/mixture/_base.py:147: ConvergenceWarning: Number of distinct clusters (3) found smaller than n_clusters (4). Possibly due to duplicate points in X.\n",
      "  label = cluster.KMeans(n_clusters=self.n_components, n_init=1,\n",
      "/home/juan/anaconda3/lib/python3.9/site-packages/sklearn/mixture/_base.py:147: ConvergenceWarning: Number of distinct clusters (3) found smaller than n_clusters (5). Possibly due to duplicate points in X.\n",
      "  label = cluster.KMeans(n_clusters=self.n_components, n_init=1,\n"
     ]
    },
    {
     "name": "stdout",
     "output_type": "stream",
     "text": [
      "Threshold: -0.27\n"
     ]
    },
    {
     "name": "stderr",
     "output_type": "stream",
     "text": [
      "/home/juan/anaconda3/lib/python3.9/site-packages/sklearn/mixture/_base.py:147: ConvergenceWarning: Number of distinct clusters (3) found smaller than n_clusters (4). Possibly due to duplicate points in X.\n",
      "  label = cluster.KMeans(n_clusters=self.n_components, n_init=1,\n",
      "/home/juan/anaconda3/lib/python3.9/site-packages/sklearn/mixture/_base.py:147: ConvergenceWarning: Number of distinct clusters (3) found smaller than n_clusters (5). Possibly due to duplicate points in X.\n",
      "  label = cluster.KMeans(n_clusters=self.n_components, n_init=1,\n",
      "/home/juan/anaconda3/lib/python3.9/site-packages/sklearn/mixture/_base.py:147: ConvergenceWarning: Number of distinct clusters (3) found smaller than n_clusters (4). Possibly due to duplicate points in X.\n",
      "  label = cluster.KMeans(n_clusters=self.n_components, n_init=1,\n",
      "/home/juan/anaconda3/lib/python3.9/site-packages/sklearn/mixture/_base.py:147: ConvergenceWarning: Number of distinct clusters (3) found smaller than n_clusters (5). Possibly due to duplicate points in X.\n",
      "  label = cluster.KMeans(n_clusters=self.n_components, n_init=1,\n"
     ]
    },
    {
     "name": "stdout",
     "output_type": "stream",
     "text": [
      "Threshold: -0.28\n"
     ]
    },
    {
     "name": "stderr",
     "output_type": "stream",
     "text": [
      "/home/juan/anaconda3/lib/python3.9/site-packages/sklearn/mixture/_base.py:147: ConvergenceWarning: Number of distinct clusters (3) found smaller than n_clusters (4). Possibly due to duplicate points in X.\n",
      "  label = cluster.KMeans(n_clusters=self.n_components, n_init=1,\n",
      "/home/juan/anaconda3/lib/python3.9/site-packages/sklearn/mixture/_base.py:147: ConvergenceWarning: Number of distinct clusters (3) found smaller than n_clusters (5). Possibly due to duplicate points in X.\n",
      "  label = cluster.KMeans(n_clusters=self.n_components, n_init=1,\n",
      "/home/juan/anaconda3/lib/python3.9/site-packages/sklearn/mixture/_base.py:147: ConvergenceWarning: Number of distinct clusters (3) found smaller than n_clusters (4). Possibly due to duplicate points in X.\n",
      "  label = cluster.KMeans(n_clusters=self.n_components, n_init=1,\n",
      "/home/juan/anaconda3/lib/python3.9/site-packages/sklearn/mixture/_base.py:147: ConvergenceWarning: Number of distinct clusters (3) found smaller than n_clusters (5). Possibly due to duplicate points in X.\n",
      "  label = cluster.KMeans(n_clusters=self.n_components, n_init=1,\n"
     ]
    },
    {
     "name": "stdout",
     "output_type": "stream",
     "text": [
      "Threshold: -0.28\n"
     ]
    },
    {
     "name": "stderr",
     "output_type": "stream",
     "text": [
      "/home/juan/anaconda3/lib/python3.9/site-packages/sklearn/mixture/_base.py:147: ConvergenceWarning: Number of distinct clusters (3) found smaller than n_clusters (4). Possibly due to duplicate points in X.\n",
      "  label = cluster.KMeans(n_clusters=self.n_components, n_init=1,\n",
      "/home/juan/anaconda3/lib/python3.9/site-packages/sklearn/mixture/_base.py:147: ConvergenceWarning: Number of distinct clusters (3) found smaller than n_clusters (5). Possibly due to duplicate points in X.\n",
      "  label = cluster.KMeans(n_clusters=self.n_components, n_init=1,\n",
      "/home/juan/anaconda3/lib/python3.9/site-packages/sklearn/mixture/_base.py:147: ConvergenceWarning: Number of distinct clusters (3) found smaller than n_clusters (4). Possibly due to duplicate points in X.\n",
      "  label = cluster.KMeans(n_clusters=self.n_components, n_init=1,\n",
      "/home/juan/anaconda3/lib/python3.9/site-packages/sklearn/mixture/_base.py:147: ConvergenceWarning: Number of distinct clusters (3) found smaller than n_clusters (5). Possibly due to duplicate points in X.\n",
      "  label = cluster.KMeans(n_clusters=self.n_components, n_init=1,\n"
     ]
    },
    {
     "name": "stdout",
     "output_type": "stream",
     "text": [
      "Threshold: -0.28\n"
     ]
    },
    {
     "name": "stderr",
     "output_type": "stream",
     "text": [
      "/home/juan/anaconda3/lib/python3.9/site-packages/sklearn/mixture/_base.py:147: ConvergenceWarning: Number of distinct clusters (3) found smaller than n_clusters (4). Possibly due to duplicate points in X.\n",
      "  label = cluster.KMeans(n_clusters=self.n_components, n_init=1,\n",
      "/home/juan/anaconda3/lib/python3.9/site-packages/sklearn/mixture/_base.py:147: ConvergenceWarning: Number of distinct clusters (3) found smaller than n_clusters (5). Possibly due to duplicate points in X.\n",
      "  label = cluster.KMeans(n_clusters=self.n_components, n_init=1,\n",
      "/home/juan/anaconda3/lib/python3.9/site-packages/sklearn/mixture/_base.py:147: ConvergenceWarning: Number of distinct clusters (3) found smaller than n_clusters (4). Possibly due to duplicate points in X.\n",
      "  label = cluster.KMeans(n_clusters=self.n_components, n_init=1,\n",
      "/home/juan/anaconda3/lib/python3.9/site-packages/sklearn/mixture/_base.py:147: ConvergenceWarning: Number of distinct clusters (3) found smaller than n_clusters (5). Possibly due to duplicate points in X.\n",
      "  label = cluster.KMeans(n_clusters=self.n_components, n_init=1,\n"
     ]
    },
    {
     "name": "stdout",
     "output_type": "stream",
     "text": [
      "Threshold: -0.29\n"
     ]
    },
    {
     "name": "stderr",
     "output_type": "stream",
     "text": [
      "/home/juan/anaconda3/lib/python3.9/site-packages/sklearn/mixture/_base.py:147: ConvergenceWarning: Number of distinct clusters (3) found smaller than n_clusters (4). Possibly due to duplicate points in X.\n",
      "  label = cluster.KMeans(n_clusters=self.n_components, n_init=1,\n",
      "/home/juan/anaconda3/lib/python3.9/site-packages/sklearn/mixture/_base.py:147: ConvergenceWarning: Number of distinct clusters (3) found smaller than n_clusters (5). Possibly due to duplicate points in X.\n",
      "  label = cluster.KMeans(n_clusters=self.n_components, n_init=1,\n",
      "/home/juan/anaconda3/lib/python3.9/site-packages/sklearn/mixture/_base.py:147: ConvergenceWarning: Number of distinct clusters (3) found smaller than n_clusters (4). Possibly due to duplicate points in X.\n",
      "  label = cluster.KMeans(n_clusters=self.n_components, n_init=1,\n",
      "/home/juan/anaconda3/lib/python3.9/site-packages/sklearn/mixture/_base.py:147: ConvergenceWarning: Number of distinct clusters (3) found smaller than n_clusters (5). Possibly due to duplicate points in X.\n",
      "  label = cluster.KMeans(n_clusters=self.n_components, n_init=1,\n"
     ]
    },
    {
     "name": "stdout",
     "output_type": "stream",
     "text": [
      "Threshold: -0.29\n"
     ]
    },
    {
     "name": "stderr",
     "output_type": "stream",
     "text": [
      "/home/juan/anaconda3/lib/python3.9/site-packages/sklearn/mixture/_base.py:147: ConvergenceWarning: Number of distinct clusters (3) found smaller than n_clusters (4). Possibly due to duplicate points in X.\n",
      "  label = cluster.KMeans(n_clusters=self.n_components, n_init=1,\n",
      "/home/juan/anaconda3/lib/python3.9/site-packages/sklearn/mixture/_base.py:147: ConvergenceWarning: Number of distinct clusters (3) found smaller than n_clusters (5). Possibly due to duplicate points in X.\n",
      "  label = cluster.KMeans(n_clusters=self.n_components, n_init=1,\n",
      "/home/juan/anaconda3/lib/python3.9/site-packages/sklearn/mixture/_base.py:147: ConvergenceWarning: Number of distinct clusters (3) found smaller than n_clusters (4). Possibly due to duplicate points in X.\n",
      "  label = cluster.KMeans(n_clusters=self.n_components, n_init=1,\n",
      "/home/juan/anaconda3/lib/python3.9/site-packages/sklearn/mixture/_base.py:147: ConvergenceWarning: Number of distinct clusters (3) found smaller than n_clusters (5). Possibly due to duplicate points in X.\n",
      "  label = cluster.KMeans(n_clusters=self.n_components, n_init=1,\n"
     ]
    },
    {
     "name": "stdout",
     "output_type": "stream",
     "text": [
      "Threshold: -0.29\n"
     ]
    },
    {
     "name": "stderr",
     "output_type": "stream",
     "text": [
      "/home/juan/anaconda3/lib/python3.9/site-packages/sklearn/mixture/_base.py:147: ConvergenceWarning: Number of distinct clusters (3) found smaller than n_clusters (4). Possibly due to duplicate points in X.\n",
      "  label = cluster.KMeans(n_clusters=self.n_components, n_init=1,\n",
      "/home/juan/anaconda3/lib/python3.9/site-packages/sklearn/mixture/_base.py:147: ConvergenceWarning: Number of distinct clusters (3) found smaller than n_clusters (5). Possibly due to duplicate points in X.\n",
      "  label = cluster.KMeans(n_clusters=self.n_components, n_init=1,\n",
      "/home/juan/anaconda3/lib/python3.9/site-packages/sklearn/mixture/_base.py:147: ConvergenceWarning: Number of distinct clusters (3) found smaller than n_clusters (4). Possibly due to duplicate points in X.\n",
      "  label = cluster.KMeans(n_clusters=self.n_components, n_init=1,\n",
      "/home/juan/anaconda3/lib/python3.9/site-packages/sklearn/mixture/_base.py:147: ConvergenceWarning: Number of distinct clusters (3) found smaller than n_clusters (5). Possibly due to duplicate points in X.\n",
      "  label = cluster.KMeans(n_clusters=self.n_components, n_init=1,\n"
     ]
    },
    {
     "name": "stdout",
     "output_type": "stream",
     "text": [
      "Threshold: -0.30\n"
     ]
    },
    {
     "name": "stderr",
     "output_type": "stream",
     "text": [
      "/home/juan/anaconda3/lib/python3.9/site-packages/sklearn/mixture/_base.py:147: ConvergenceWarning: Number of distinct clusters (3) found smaller than n_clusters (4). Possibly due to duplicate points in X.\n",
      "  label = cluster.KMeans(n_clusters=self.n_components, n_init=1,\n",
      "/home/juan/anaconda3/lib/python3.9/site-packages/sklearn/mixture/_base.py:147: ConvergenceWarning: Number of distinct clusters (3) found smaller than n_clusters (5). Possibly due to duplicate points in X.\n",
      "  label = cluster.KMeans(n_clusters=self.n_components, n_init=1,\n",
      "/home/juan/anaconda3/lib/python3.9/site-packages/sklearn/mixture/_base.py:147: ConvergenceWarning: Number of distinct clusters (3) found smaller than n_clusters (4). Possibly due to duplicate points in X.\n",
      "  label = cluster.KMeans(n_clusters=self.n_components, n_init=1,\n",
      "/home/juan/anaconda3/lib/python3.9/site-packages/sklearn/mixture/_base.py:147: ConvergenceWarning: Number of distinct clusters (3) found smaller than n_clusters (5). Possibly due to duplicate points in X.\n",
      "  label = cluster.KMeans(n_clusters=self.n_components, n_init=1,\n"
     ]
    },
    {
     "name": "stdout",
     "output_type": "stream",
     "text": [
      "                 Attribute  best_model   Class_1   Class_2\n",
      "0     time.to.first.byte.s  best_model  0.101266  0.898734\n",
      "1        rtt.from.3whs.a2b  best_model  0.117300  0.882700\n",
      "2  tcp.first.sec.volume.ul  best_model  0.125738  0.874262\n"
     ]
    }
   ],
   "source": [
    "k = 0\n",
    "kk = 0\n",
    "while (k != num_prob_att):\n",
    "    models = pd.DataFrame({\"Attribute\":pd.Series(dtype='str'),\n",
    "                          \"best_model\":pd.Series(dtype='str'),\n",
    "                          \"Class_1\":pd.Series(dtype='float'),\n",
    "                          \"Class_2\":pd.Series(dtype='float')})\n",
    "    threshold = all_ratios[kk]\n",
    "    print('Threshold: %.2f'%(threshold))\n",
    "    k=0\n",
    "    kk += 1\n",
    "    for i in range(len(attributes)):\n",
    "        attr = data[attributes[i]]\n",
    "        scaler = StandardScaler()\n",
    "        scaler.fit(attr.values.reshape(-1, 1))\n",
    "        data2prc = scaler.transform(attr.values.reshape(-1, 1))\n",
    "        clustering, _, _, _= xmlad_mod.model_based_clustering(data2prc, 5, 1234, 'spherical')\n",
    "        classes = np.unique(clustering) \n",
    "        class_problem = np.zeros(clustering.shape)\n",
    "   \n",
    "        if (classes.shape[0] > 1):\n",
    "            for ii in range(classes.shape[0]):\n",
    "                ratio = y_diff[clustering==classes[ii]].mean()\n",
    "                if ((ratio <= threshold) & (clustering[clustering==classes[ii]].shape[0] > 0.1*clustering.shape[0])):\n",
    "                    class_problem[clustering==classes[ii]]=1\n",
    "                else:\n",
    "                    class_problem[clustering==classes[ii]]=2\n",
    "            problem_classes = np.unique(class_problem)\n",
    "            if (problem_classes.shape[0] > 1):\n",
    "                if (k==0):\n",
    "                    cls_mat = class_problem.reshape(-1,1)\n",
    "                else:\n",
    "                    cls_mat= np.hstack((cls_mat, class_problem.reshape(-1,1)))\n",
    "                k=k+1            \n",
    "                counts = np.array([class_problem[class_problem==1].shape[0], class_problem[class_problem==2].shape[0]])\n",
    "                total  = np.sum(counts)\n",
    "                models = models.append({'Attribute':attributes[i],\n",
    "                                          'best_model':'best_model',\n",
    "                                          'Class_1':counts[0]/total,\n",
    "                                          'Class_2':counts[1]/total},ignore_index=True)\n",
    "print(models)"
   ]
  },
  {
   "cell_type": "code",
   "execution_count": 19,
   "id": "7e2c6328",
   "metadata": {},
   "outputs": [],
   "source": [
    "attributes = models[\"Attribute\"].values\n",
    "attributes, att_ind = np.unique(attributes, return_index=True)\n",
    "cls_mat = cls_mat[:,att_ind]"
   ]
  },
  {
   "cell_type": "code",
   "execution_count": 20,
   "id": "761b3022",
   "metadata": {
    "scrolled": false
   },
   "outputs": [
    {
     "data": {
      "image/png": "[encoded data removed]",
      "text/plain": [
       "<Figure size 600x400 with 1 Axes>"
      ]
     },
     "metadata": {
      "needs_background": "light"
     },
     "output_type": "display_data"
    },
    {
     "data": {
      "image/png": "[encoded data removed]",
      "text/plain": [
       "<Figure size 600x400 with 1 Axes>"
      ]
     },
     "metadata": {
      "needs_background": "light"
     },
     "output_type": "display_data"
    },
    {
     "data": {
      "image/png": "[encoded data removed]",
      "text/plain": [
       "<Figure size 600x400 with 1 Axes>"
      ]
     },
     "metadata": {
      "needs_background": "light"
     },
     "output_type": "display_data"
    }
   ],
   "source": [
    "if (visualization == True):\n",
    "    k = 0;\n",
    "    for attr in attributes:\n",
    "        cls_vec = cls_mat[:,k]\n",
    "        bl_vec1 = (cls_vec==1)\n",
    "        bl_vec2 = (cls_vec==2)\n",
    "    \n",
    "        fig = plt.figure(dpi=100) #Paper figure\n",
    "        ax = fig.add_subplot()\n",
    "        plt.scatter(data[attr][bl_vec2], data[\"Diff_Pred\"][bl_vec2], label='T%dN'%(k+1), marker='^',color='tab:orange',s=125, facecolors='none')\n",
    "        plt.scatter(data[attr][bl_vec1], data[\"Diff_Pred\"][bl_vec1], label='T%dP'%(k+1), marker='o',color='tab:blue',s=125, facecolors='none')\n",
    "        plt.legend(fontsize=20, loc='lower left' )\n",
    "\n",
    "        if (k==0):\n",
    "            plt.xlim((-5,200))\n",
    "        if (k==2):\n",
    "            plt.xlim((0,1))\n",
    "        if (k==1):\n",
    "            plt.xlim((-1000,50000))\n",
    "        plt.xlabel(attr.replace('_','\\_'), fontsize=20)\n",
    "        plt.ylabel(\"Differences\", fontsize=20)\n",
    "        plt.yticks([-4, -3,-2, -1, 0], fontsize=16)\n",
    "        plt.xticks(fontsize=16)\n",
    "        for axis in ['top', 'bottom', 'left', 'right']:\n",
    "            ax.spines[axis].set_linewidth(2.0)  # change width\n",
    "        k = k+1\n",
    "        if (save_figures == True):  \n",
    "            plt.savefig('images/nokia_dataset/LP_problematic_features_%02d.png'%(k),\n",
    "                        format = 'png',\n",
    "                        bbox_inches='tight', \n",
    "                        pad_inches=0)\n",
    "        plt.show()    "
   ]
  },
  {
   "cell_type": "markdown",
   "id": "1d35af4e",
   "metadata": {},
   "source": [
    "## Generation of anomaly classification labels "
   ]
  },
  {
   "cell_type": "code",
   "execution_count": 21,
   "id": "7e684911",
   "metadata": {},
   "outputs": [],
   "source": [
    "problem = np.empty(cls_mat.shape[0], dtype=object)\n",
    "separator = ';'\n",
    "for ii in range(cls_mat.shape[0]):    \n",
    "    strings = []\n",
    "    for jj in range(cls_mat.shape[1]):\n",
    "        if (cls_mat[ii,jj] == 1):\n",
    "            strings = strings + ['T%dP'%(jj+1)]\n",
    "        if (cls_mat[ii,jj] == 2):\n",
    "            strings = strings + ['T%dN'%(jj+1)]\n",
    "    problem[ii] = separator.join(strings)    "
   ]
  },
  {
   "cell_type": "markdown",
   "id": "1c1c4328",
   "metadata": {},
   "source": [
    "## Building the anomaly classification engine"
   ]
  },
  {
   "cell_type": "code",
   "execution_count": 22,
   "id": "b5dac6dc",
   "metadata": {},
   "outputs": [],
   "source": [
    "X            = data.copy()\n",
    "X['Problem'] = problem\n",
    "X.loc[X.Problem.str.contains('^[^P]+$'), \"Problem\"] = \"Compliant\"    \n",
    "fX           = X.copy()\n",
    "fy           = fX[\"Problem\"]\n",
    "fX           = fX.drop([\"Problem\", \"Diff_Pred\", target_kpi], axis=1)\n",
    "depth = np.ceil(np.log2(np.sum(fy != \"Compliant\"))/2)\n",
    "\n",
    "classifier, scores, ccp_alphas, best_alpha = xmlad_mod.build_decision_tree(depth, 5, fX, fy, None)"
   ]
  },
  {
   "cell_type": "code",
   "execution_count": 23,
   "id": "4da3c308",
   "metadata": {},
   "outputs": [
    {
     "data": {
      "image/png": "[encoded data removed]",
      "text/plain": [
       "<Figure size 600x400 with 1 Axes>"
      ]
     },
     "metadata": {
      "needs_background": "light"
     },
     "output_type": "display_data"
    }
   ],
   "source": [
    "if (visualization == True):\n",
    "    xmlad_plt.plot_pruning(ccp_alphas, scores)\n",
    "    if (save_figures == True):  \n",
    "        plt.savefig('images/nokia_dataset/LP_model2_optimization.png', \n",
    "                    format = 'png',\n",
    "                    bbox_inches='tight', \n",
    "                    pad_inches=0)\n",
    "    plt.show()"
   ]
  },
  {
   "cell_type": "code",
   "execution_count": 24,
   "id": "681a2722",
   "metadata": {},
   "outputs": [
    {
     "data": {
      "image/svg+xml": [
       "<?xml version=\"1.0\" encoding=\"UTF-8\" standalone=\"no\"?>\n",
       "<!DOCTYPE svg PUBLIC \"-//W3C//DTD SVG 1.1//EN\"\n",
       " \"http://www.w3.org/Graphics/SVG/1.1/DTD/svg11.dtd\">\n",
       "<!-- Generated by graphviz version 2.43.0 (0)\n",
       " -->\n",
       "<!-- Title: Tree Pages: 1 -->\n",
       "<svg width=\"2220pt\" height=\"671pt\"\n",
       " viewBox=\"0.00 0.00 2220.00 671.00\" xmlns=\"http://www.w3.org/2000/svg\" xmlns:xlink=\"http://www.w3.org/1999/xlink\">\n",
       "<g id=\"graph0\" class=\"graph\" transform=\"scale(1 1) rotate(0) translate(4 667)\">\n",
       "<title>Tree</title>\n",
       "<polygon fill=\"white\" stroke=\"transparent\" points=\"-4,4 -4,-667 2216,-667 2216,4 -4,4\"/>\n",
       "<!-- 0 -->\n",
       "<g id=\"node1\" class=\"node\">\n",
       "<title>0</title>\n",
       "<path fill=\"#eda978\" stroke=\"black\" d=\"M1107.5,-663C1107.5,-663 829.5,-663 829.5,-663 823.5,-663 817.5,-657 817.5,-651 817.5,-651 817.5,-592 817.5,-592 817.5,-586 823.5,-580 829.5,-580 829.5,-580 1107.5,-580 1107.5,-580 1113.5,-580 1119.5,-586 1119.5,-592 1119.5,-592 1119.5,-651 1119.5,-651 1119.5,-657 1113.5,-663 1107.5,-663\"/>\n",
       "<text text-anchor=\"start\" x=\"860\" y=\"-647.8\" font-family=\"Helvetica,sans-Serif\" font-size=\"14.00\">tcp.first.sec.volume.ul ≤ 582.5</text>\n",
       "<text text-anchor=\"start\" x=\"911\" y=\"-632.8\" font-family=\"Helvetica,sans-Serif\" font-size=\"14.00\">gini = 0.471091</text>\n",
       "<text text-anchor=\"start\" x=\"911\" y=\"-617.8\" font-family=\"Helvetica,sans-Serif\" font-size=\"14.00\">samples = 1185</text>\n",
       "<text text-anchor=\"start\" x=\"825.5\" y=\"-602.8\" font-family=\"Helvetica,sans-Serif\" font-size=\"14.00\">value = [845, 69, 121, 11, 89, 33, 10, 7]</text>\n",
       "<text text-anchor=\"start\" x=\"905\" y=\"-587.8\" font-family=\"Helvetica,sans-Serif\" font-size=\"14.00\">class = Compliant</text>\n",
       "</g>\n",
       "<!-- 1 -->\n",
       "<g id=\"node2\" class=\"node\">\n",
       "<title>1</title>\n",
       "<path fill=\"#6cea61\" stroke=\"black\" d=\"M843,-544C843,-544 610,-544 610,-544 604,-544 598,-538 598,-532 598,-532 598,-473 598,-473 598,-467 604,-461 610,-461 610,-461 843,-461 843,-461 849,-461 855,-467 855,-473 855,-473 855,-532 855,-532 855,-538 849,-544 843,-544\"/>\n",
       "<text text-anchor=\"start\" x=\"627\" y=\"-528.8\" font-family=\"Helvetica,sans-Serif\" font-size=\"14.00\">time.to.first.byte.s ≤ 0.4705</text>\n",
       "<text text-anchor=\"start\" x=\"669\" y=\"-513.8\" font-family=\"Helvetica,sans-Serif\" font-size=\"14.00\">gini = 0.328364</text>\n",
       "<text text-anchor=\"start\" x=\"673.5\" y=\"-498.8\" font-family=\"Helvetica,sans-Serif\" font-size=\"14.00\">samples = 149</text>\n",
       "<text text-anchor=\"start\" x=\"606\" y=\"-483.8\" font-family=\"Helvetica,sans-Serif\" font-size=\"14.00\">value = [0, 0, 121, 11, 0, 0, 10, 7]</text>\n",
       "<text text-anchor=\"start\" x=\"653.5\" y=\"-468.8\" font-family=\"Helvetica,sans-Serif\" font-size=\"14.00\">class = T1N;T2P;T3N</text>\n",
       "</g>\n",
       "<!-- 0&#45;&gt;1 -->\n",
       "<g id=\"edge1\" class=\"edge\">\n",
       "<title>0&#45;&gt;1</title>\n",
       "<path fill=\"none\" stroke=\"black\" d=\"M884.54,-579.91C863.52,-569.74 840.84,-558.78 819.41,-548.42\"/>\n",
       "<polygon fill=\"black\" stroke=\"black\" points=\"820.84,-545.22 810.31,-544.02 817.79,-551.52 820.84,-545.22\"/>\n",
       "<text text-anchor=\"middle\" x=\"818.53\" y=\"-563.93\" font-family=\"Helvetica,sans-Serif\" font-size=\"14.00\">True</text>\n",
       "</g>\n",
       "<!-- 8 -->\n",
       "<g id=\"node9\" class=\"node\">\n",
       "<title>8</title>\n",
       "<path fill=\"#ea9a61\" stroke=\"black\" d=\"M1348.5,-544C1348.5,-544 1106.5,-544 1106.5,-544 1100.5,-544 1094.5,-538 1094.5,-532 1094.5,-532 1094.5,-473 1094.5,-473 1094.5,-467 1100.5,-461 1106.5,-461 1106.5,-461 1348.5,-461 1348.5,-461 1354.5,-461 1360.5,-467 1360.5,-473 1360.5,-473 1360.5,-532 1360.5,-532 1360.5,-538 1354.5,-544 1348.5,-544\"/>\n",
       "<text text-anchor=\"start\" x=\"1138.5\" y=\"-528.8\" font-family=\"Helvetica,sans-Serif\" font-size=\"14.00\">rtt.from.3whs.a2b ≤ 54.5</text>\n",
       "<text text-anchor=\"start\" x=\"1170\" y=\"-513.8\" font-family=\"Helvetica,sans-Serif\" font-size=\"14.00\">gini = 0.321906</text>\n",
       "<text text-anchor=\"start\" x=\"1170\" y=\"-498.8\" font-family=\"Helvetica,sans-Serif\" font-size=\"14.00\">samples = 1036</text>\n",
       "<text text-anchor=\"start\" x=\"1102.5\" y=\"-483.8\" font-family=\"Helvetica,sans-Serif\" font-size=\"14.00\">value = [845, 69, 0, 0, 89, 33, 0, 0]</text>\n",
       "<text text-anchor=\"start\" x=\"1164\" y=\"-468.8\" font-family=\"Helvetica,sans-Serif\" font-size=\"14.00\">class = Compliant</text>\n",
       "</g>\n",
       "<!-- 0&#45;&gt;8 -->\n",
       "<g id=\"edge8\" class=\"edge\">\n",
       "<title>0&#45;&gt;8</title>\n",
       "<path fill=\"none\" stroke=\"black\" d=\"M1058.36,-579.91C1081.06,-569.65 1105.56,-558.59 1128.68,-548.14\"/>\n",
       "<polygon fill=\"black\" stroke=\"black\" points=\"1130.13,-551.33 1137.8,-544.02 1127.25,-544.95 1130.13,-551.33\"/>\n",
       "<text text-anchor=\"middle\" x=\"1128.97\" y=\"-563.71\" font-family=\"Helvetica,sans-Serif\" font-size=\"14.00\">False</text>\n",
       "</g>\n",
       "<!-- 2 -->\n",
       "<g id=\"node3\" class=\"node\">\n",
       "<title>2</title>\n",
       "<path fill=\"#57e74a\" stroke=\"black\" d=\"M479.5,-425C479.5,-425 255.5,-425 255.5,-425 249.5,-425 243.5,-419 243.5,-413 243.5,-413 243.5,-354 243.5,-354 243.5,-348 249.5,-342 255.5,-342 255.5,-342 479.5,-342 479.5,-342 485.5,-342 491.5,-348 491.5,-354 491.5,-354 491.5,-413 491.5,-413 491.5,-419 485.5,-425 479.5,-425\"/>\n",
       "<text text-anchor=\"start\" x=\"278.5\" y=\"-409.8\" font-family=\"Helvetica,sans-Serif\" font-size=\"14.00\">rtt.from.3whs.a2b ≤ 55.0</text>\n",
       "<text text-anchor=\"start\" x=\"314.5\" y=\"-394.8\" font-family=\"Helvetica,sans-Serif\" font-size=\"14.00\">gini = 0.14508</text>\n",
       "<text text-anchor=\"start\" x=\"314.5\" y=\"-379.8\" font-family=\"Helvetica,sans-Serif\" font-size=\"14.00\">samples = 127</text>\n",
       "<text text-anchor=\"start\" x=\"251.5\" y=\"-364.8\" font-family=\"Helvetica,sans-Serif\" font-size=\"14.00\">value = [0, 0, 117, 0, 0, 0, 10, 0]</text>\n",
       "<text text-anchor=\"start\" x=\"294.5\" y=\"-349.8\" font-family=\"Helvetica,sans-Serif\" font-size=\"14.00\">class = T1N;T2P;T3N</text>\n",
       "</g>\n",
       "<!-- 1&#45;&gt;2 -->\n",
       "<g id=\"edge2\" class=\"edge\">\n",
       "<title>1&#45;&gt;2</title>\n",
       "<path fill=\"none\" stroke=\"black\" d=\"M602.2,-460.99C569.65,-450.38 534.43,-438.9 501.4,-428.14\"/>\n",
       "<polygon fill=\"black\" stroke=\"black\" points=\"502.29,-424.75 491.69,-424.98 500.12,-431.4 502.29,-424.75\"/>\n",
       "</g>\n",
       "<!-- 5 -->\n",
       "<g id=\"node6\" class=\"node\">\n",
       "<title>5</title>\n",
       "<path fill=\"#caf8e9\" stroke=\"black\" d=\"M829.5,-425C829.5,-425 623.5,-425 623.5,-425 617.5,-425 611.5,-419 611.5,-413 611.5,-413 611.5,-354 611.5,-354 611.5,-348 617.5,-342 623.5,-342 623.5,-342 829.5,-342 829.5,-342 835.5,-342 841.5,-348 841.5,-354 841.5,-354 841.5,-413 841.5,-413 841.5,-419 835.5,-425 829.5,-425\"/>\n",
       "<text text-anchor=\"start\" x=\"637.5\" y=\"-409.8\" font-family=\"Helvetica,sans-Serif\" font-size=\"14.00\">rtt.from.3whs.a2b ≤ 51.5</text>\n",
       "<text text-anchor=\"start\" x=\"669\" y=\"-394.8\" font-family=\"Helvetica,sans-Serif\" font-size=\"14.00\">gini = 0.615702</text>\n",
       "<text text-anchor=\"start\" x=\"678\" y=\"-379.8\" font-family=\"Helvetica,sans-Serif\" font-size=\"14.00\">samples = 22</text>\n",
       "<text text-anchor=\"start\" x=\"619.5\" y=\"-364.8\" font-family=\"Helvetica,sans-Serif\" font-size=\"14.00\">value = [0, 0, 4, 11, 0, 0, 0, 7]</text>\n",
       "<text text-anchor=\"start\" x=\"654.5\" y=\"-349.8\" font-family=\"Helvetica,sans-Serif\" font-size=\"14.00\">class = T1N;T2P;T3P</text>\n",
       "</g>\n",
       "<!-- 1&#45;&gt;5 -->\n",
       "<g id=\"edge5\" class=\"edge\">\n",
       "<title>1&#45;&gt;5</title>\n",
       "<path fill=\"none\" stroke=\"black\" d=\"M726.5,-460.91C726.5,-452.65 726.5,-443.86 726.5,-435.3\"/>\n",
       "<polygon fill=\"black\" stroke=\"black\" points=\"730,-435.02 726.5,-425.02 723,-435.02 730,-435.02\"/>\n",
       "</g>\n",
       "<!-- 3 -->\n",
       "<g id=\"node4\" class=\"node\">\n",
       "<title>3</title>\n",
       "<path fill=\"#4de640\" stroke=\"black\" d=\"M227,-298.5C227,-298.5 12,-298.5 12,-298.5 6,-298.5 0,-292.5 0,-286.5 0,-286.5 0,-242.5 0,-242.5 0,-236.5 6,-230.5 12,-230.5 12,-230.5 227,-230.5 227,-230.5 233,-230.5 239,-236.5 239,-242.5 239,-242.5 239,-286.5 239,-286.5 239,-292.5 233,-298.5 227,-298.5\"/>\n",
       "<text text-anchor=\"start\" x=\"66.5\" y=\"-283.3\" font-family=\"Helvetica,sans-Serif\" font-size=\"14.00\">gini = 0.06393</text>\n",
       "<text text-anchor=\"start\" x=\"66.5\" y=\"-268.3\" font-family=\"Helvetica,sans-Serif\" font-size=\"14.00\">samples = 121</text>\n",
       "<text text-anchor=\"start\" x=\"8\" y=\"-253.3\" font-family=\"Helvetica,sans-Serif\" font-size=\"14.00\">value = [0, 0, 117, 0, 0, 0, 4, 0]</text>\n",
       "<text text-anchor=\"start\" x=\"46.5\" y=\"-238.3\" font-family=\"Helvetica,sans-Serif\" font-size=\"14.00\">class = T1N;T2P;T3N</text>\n",
       "</g>\n",
       "<!-- 2&#45;&gt;3 -->\n",
       "<g id=\"edge3\" class=\"edge\">\n",
       "<title>2&#45;&gt;3</title>\n",
       "<path fill=\"none\" stroke=\"black\" d=\"M281.46,-341.91C254.68,-329.27 225.28,-315.41 198.97,-302.99\"/>\n",
       "<polygon fill=\"black\" stroke=\"black\" points=\"200.34,-299.77 189.8,-298.67 197.35,-306.1 200.34,-299.77\"/>\n",
       "</g>\n",
       "<!-- 4 -->\n",
       "<g id=\"node5\" class=\"node\">\n",
       "<title>4</title>\n",
       "<path fill=\"#d739e5\" stroke=\"black\" d=\"M466,-298.5C466,-298.5 269,-298.5 269,-298.5 263,-298.5 257,-292.5 257,-286.5 257,-286.5 257,-242.5 257,-242.5 257,-236.5 263,-230.5 269,-230.5 269,-230.5 466,-230.5 466,-230.5 472,-230.5 478,-236.5 478,-242.5 478,-242.5 478,-286.5 478,-286.5 478,-292.5 472,-298.5 466,-298.5\"/>\n",
       "<text text-anchor=\"start\" x=\"332.5\" y=\"-283.3\" font-family=\"Helvetica,sans-Serif\" font-size=\"14.00\">gini = 0.0</text>\n",
       "<text text-anchor=\"start\" x=\"323.5\" y=\"-268.3\" font-family=\"Helvetica,sans-Serif\" font-size=\"14.00\">samples = 6</text>\n",
       "<text text-anchor=\"start\" x=\"265\" y=\"-253.3\" font-family=\"Helvetica,sans-Serif\" font-size=\"14.00\">value = [0, 0, 0, 0, 0, 0, 6, 0]</text>\n",
       "<text text-anchor=\"start\" x=\"295.5\" y=\"-238.3\" font-family=\"Helvetica,sans-Serif\" font-size=\"14.00\">class = T1P;T2P;T3N</text>\n",
       "</g>\n",
       "<!-- 2&#45;&gt;4 -->\n",
       "<g id=\"edge4\" class=\"edge\">\n",
       "<title>2&#45;&gt;4</title>\n",
       "<path fill=\"none\" stroke=\"black\" d=\"M367.5,-341.91C367.5,-331.2 367.5,-319.62 367.5,-308.78\"/>\n",
       "<polygon fill=\"black\" stroke=\"black\" points=\"371,-308.67 367.5,-298.67 364,-308.67 371,-308.67\"/>\n",
       "</g>\n",
       "<!-- 6 -->\n",
       "<g id=\"node7\" class=\"node\">\n",
       "<title>6</title>\n",
       "<path fill=\"#81eeca\" stroke=\"black\" d=\"M714.5,-298.5C714.5,-298.5 508.5,-298.5 508.5,-298.5 502.5,-298.5 496.5,-292.5 496.5,-286.5 496.5,-286.5 496.5,-242.5 496.5,-242.5 496.5,-236.5 502.5,-230.5 508.5,-230.5 508.5,-230.5 714.5,-230.5 714.5,-230.5 720.5,-230.5 726.5,-236.5 726.5,-242.5 726.5,-242.5 726.5,-286.5 726.5,-286.5 726.5,-292.5 720.5,-298.5 714.5,-298.5\"/>\n",
       "<text text-anchor=\"start\" x=\"554\" y=\"-283.3\" font-family=\"Helvetica,sans-Serif\" font-size=\"14.00\">gini = 0.391111</text>\n",
       "<text text-anchor=\"start\" x=\"563\" y=\"-268.3\" font-family=\"Helvetica,sans-Serif\" font-size=\"14.00\">samples = 15</text>\n",
       "<text text-anchor=\"start\" x=\"504.5\" y=\"-253.3\" font-family=\"Helvetica,sans-Serif\" font-size=\"14.00\">value = [0, 0, 4, 11, 0, 0, 0, 0]</text>\n",
       "<text text-anchor=\"start\" x=\"539.5\" y=\"-238.3\" font-family=\"Helvetica,sans-Serif\" font-size=\"14.00\">class = T1N;T2P;T3P</text>\n",
       "</g>\n",
       "<!-- 5&#45;&gt;6 -->\n",
       "<g id=\"edge6\" class=\"edge\">\n",
       "<title>5&#45;&gt;6</title>\n",
       "<path fill=\"none\" stroke=\"black\" d=\"M686.6,-341.91C675.21,-330.32 662.81,-317.7 651.42,-306.11\"/>\n",
       "<polygon fill=\"black\" stroke=\"black\" points=\"653.61,-303.35 644.1,-298.67 648.61,-308.25 653.61,-303.35\"/>\n",
       "</g>\n",
       "<!-- 7 -->\n",
       "<g id=\"node8\" class=\"node\">\n",
       "<title>7</title>\n",
       "<path fill=\"#e53972\" stroke=\"black\" d=\"M954,-298.5C954,-298.5 757,-298.5 757,-298.5 751,-298.5 745,-292.5 745,-286.5 745,-286.5 745,-242.5 745,-242.5 745,-236.5 751,-230.5 757,-230.5 757,-230.5 954,-230.5 954,-230.5 960,-230.5 966,-236.5 966,-242.5 966,-242.5 966,-286.5 966,-286.5 966,-292.5 960,-298.5 954,-298.5\"/>\n",
       "<text text-anchor=\"start\" x=\"820.5\" y=\"-283.3\" font-family=\"Helvetica,sans-Serif\" font-size=\"14.00\">gini = 0.0</text>\n",
       "<text text-anchor=\"start\" x=\"811.5\" y=\"-268.3\" font-family=\"Helvetica,sans-Serif\" font-size=\"14.00\">samples = 7</text>\n",
       "<text text-anchor=\"start\" x=\"753\" y=\"-253.3\" font-family=\"Helvetica,sans-Serif\" font-size=\"14.00\">value = [0, 0, 0, 0, 0, 0, 0, 7]</text>\n",
       "<text text-anchor=\"start\" x=\"784.5\" y=\"-238.3\" font-family=\"Helvetica,sans-Serif\" font-size=\"14.00\">class = T1P;T2P;T3P</text>\n",
       "</g>\n",
       "<!-- 5&#45;&gt;7 -->\n",
       "<g id=\"edge7\" class=\"edge\">\n",
       "<title>5&#45;&gt;7</title>\n",
       "<path fill=\"none\" stroke=\"black\" d=\"M771.26,-341.91C784.27,-330.1 798.48,-317.22 811.45,-305.45\"/>\n",
       "<polygon fill=\"black\" stroke=\"black\" points=\"813.88,-307.98 818.93,-298.67 809.17,-302.79 813.88,-307.98\"/>\n",
       "</g>\n",
       "<!-- 9 -->\n",
       "<g id=\"node10\" class=\"node\">\n",
       "<title>9</title>\n",
       "<path fill=\"#e78c4a\" stroke=\"black\" d=\"M1344,-425C1344,-425 1111,-425 1111,-425 1105,-425 1099,-419 1099,-413 1099,-413 1099,-354 1099,-354 1099,-348 1105,-342 1111,-342 1111,-342 1344,-342 1344,-342 1350,-342 1356,-348 1356,-354 1356,-354 1356,-413 1356,-413 1356,-419 1350,-425 1344,-425\"/>\n",
       "<text text-anchor=\"start\" x=\"1128\" y=\"-409.8\" font-family=\"Helvetica,sans-Serif\" font-size=\"14.00\">time.to.first.byte.s ≤ 0.4735</text>\n",
       "<text text-anchor=\"start\" x=\"1170\" y=\"-394.8\" font-family=\"Helvetica,sans-Serif\" font-size=\"14.00\">gini = 0.152115</text>\n",
       "<text text-anchor=\"start\" x=\"1174.5\" y=\"-379.8\" font-family=\"Helvetica,sans-Serif\" font-size=\"14.00\">samples = 917</text>\n",
       "<text text-anchor=\"start\" x=\"1107\" y=\"-364.8\" font-family=\"Helvetica,sans-Serif\" font-size=\"14.00\">value = [842, 62, 0, 0, 13, 0, 0, 0]</text>\n",
       "<text text-anchor=\"start\" x=\"1164\" y=\"-349.8\" font-family=\"Helvetica,sans-Serif\" font-size=\"14.00\">class = Compliant</text>\n",
       "</g>\n",
       "<!-- 8&#45;&gt;9 -->\n",
       "<g id=\"edge9\" class=\"edge\">\n",
       "<title>8&#45;&gt;9</title>\n",
       "<path fill=\"none\" stroke=\"black\" d=\"M1227.5,-460.91C1227.5,-452.65 1227.5,-443.86 1227.5,-435.3\"/>\n",
       "<polygon fill=\"black\" stroke=\"black\" points=\"1231,-435.02 1227.5,-425.02 1224,-435.02 1231,-435.02\"/>\n",
       "</g>\n",
       "<!-- 16 -->\n",
       "<g id=\"node17\" class=\"node\">\n",
       "<title>16</title>\n",
       "<path fill=\"#9ccef2\" stroke=\"black\" d=\"M1721,-425C1721,-425 1506,-425 1506,-425 1500,-425 1494,-419 1494,-413 1494,-413 1494,-354 1494,-354 1494,-348 1500,-342 1506,-342 1506,-342 1721,-342 1721,-342 1727,-342 1733,-348 1733,-354 1733,-354 1733,-413 1733,-413 1733,-419 1727,-425 1721,-425\"/>\n",
       "<text text-anchor=\"start\" x=\"1514\" y=\"-409.8\" font-family=\"Helvetica,sans-Serif\" font-size=\"14.00\">time.to.first.byte.s ≤ 0.4765</text>\n",
       "<text text-anchor=\"start\" x=\"1556\" y=\"-394.8\" font-family=\"Helvetica,sans-Serif\" font-size=\"14.00\">gini = 0.511122</text>\n",
       "<text text-anchor=\"start\" x=\"1560.5\" y=\"-379.8\" font-family=\"Helvetica,sans-Serif\" font-size=\"14.00\">samples = 119</text>\n",
       "<text text-anchor=\"start\" x=\"1502\" y=\"-364.8\" font-family=\"Helvetica,sans-Serif\" font-size=\"14.00\">value = [3, 7, 0, 0, 76, 33, 0, 0]</text>\n",
       "<text text-anchor=\"start\" x=\"1540.5\" y=\"-349.8\" font-family=\"Helvetica,sans-Serif\" font-size=\"14.00\">class = T1P;T2N;T3N</text>\n",
       "</g>\n",
       "<!-- 8&#45;&gt;16 -->\n",
       "<g id=\"edge16\" class=\"edge\">\n",
       "<title>8&#45;&gt;16</title>\n",
       "<path fill=\"none\" stroke=\"black\" d=\"M1360.61,-461.15C1400.59,-449.04 1444.37,-435.77 1484.1,-423.72\"/>\n",
       "<polygon fill=\"black\" stroke=\"black\" points=\"1485.29,-427.02 1493.84,-420.77 1483.26,-420.32 1485.29,-427.02\"/>\n",
       "</g>\n",
       "<!-- 10 -->\n",
       "<g id=\"node11\" class=\"node\">\n",
       "<title>10</title>\n",
       "<path fill=\"#e5833c\" stroke=\"black\" d=\"M1220.5,-306C1220.5,-306 996.5,-306 996.5,-306 990.5,-306 984.5,-300 984.5,-294 984.5,-294 984.5,-235 984.5,-235 984.5,-229 990.5,-223 996.5,-223 996.5,-223 1220.5,-223 1220.5,-223 1226.5,-223 1232.5,-229 1232.5,-235 1232.5,-235 1232.5,-294 1232.5,-294 1232.5,-300 1226.5,-306 1220.5,-306\"/>\n",
       "<text text-anchor=\"start\" x=\"1020\" y=\"-290.8\" font-family=\"Helvetica,sans-Serif\" font-size=\"14.00\">ack.pkts.sent.a2b ≤ 12.0</text>\n",
       "<text text-anchor=\"start\" x=\"1051\" y=\"-275.8\" font-family=\"Helvetica,sans-Serif\" font-size=\"14.00\">gini = 0.025637</text>\n",
       "<text text-anchor=\"start\" x=\"1055.5\" y=\"-260.8\" font-family=\"Helvetica,sans-Serif\" font-size=\"14.00\">samples = 847</text>\n",
       "<text text-anchor=\"start\" x=\"992.5\" y=\"-245.8\" font-family=\"Helvetica,sans-Serif\" font-size=\"14.00\">value = [836, 0, 0, 0, 11, 0, 0, 0]</text>\n",
       "<text text-anchor=\"start\" x=\"1045\" y=\"-230.8\" font-family=\"Helvetica,sans-Serif\" font-size=\"14.00\">class = Compliant</text>\n",
       "</g>\n",
       "<!-- 9&#45;&gt;10 -->\n",
       "<g id=\"edge10\" class=\"edge\">\n",
       "<title>9&#45;&gt;10</title>\n",
       "<path fill=\"none\" stroke=\"black\" d=\"M1186.21,-341.91C1176.8,-332.65 1166.71,-322.73 1157.02,-313.21\"/>\n",
       "<polygon fill=\"black\" stroke=\"black\" points=\"1159.3,-310.54 1149.71,-306.02 1154.39,-315.53 1159.3,-310.54\"/>\n",
       "</g>\n",
       "<!-- 13 -->\n",
       "<g id=\"node14\" class=\"node\">\n",
       "<title>13</title>\n",
       "<path fill=\"#cfe852\" stroke=\"black\" d=\"M1468.5,-306C1468.5,-306 1262.5,-306 1262.5,-306 1256.5,-306 1250.5,-300 1250.5,-294 1250.5,-294 1250.5,-235 1250.5,-235 1250.5,-229 1256.5,-223 1262.5,-223 1262.5,-223 1468.5,-223 1468.5,-223 1474.5,-223 1480.5,-229 1480.5,-235 1480.5,-235 1480.5,-294 1480.5,-294 1480.5,-300 1474.5,-306 1468.5,-306\"/>\n",
       "<text text-anchor=\"start\" x=\"1270.5\" y=\"-290.8\" font-family=\"Helvetica,sans-Serif\" font-size=\"14.00\">time.to.first.byte.s ≤ 0.899</text>\n",
       "<text text-anchor=\"start\" x=\"1308\" y=\"-275.8\" font-family=\"Helvetica,sans-Serif\" font-size=\"14.00\">gini = 0.207347</text>\n",
       "<text text-anchor=\"start\" x=\"1317\" y=\"-260.8\" font-family=\"Helvetica,sans-Serif\" font-size=\"14.00\">samples = 70</text>\n",
       "<text text-anchor=\"start\" x=\"1258.5\" y=\"-245.8\" font-family=\"Helvetica,sans-Serif\" font-size=\"14.00\">value = [6, 62, 0, 0, 2, 0, 0, 0]</text>\n",
       "<text text-anchor=\"start\" x=\"1292.5\" y=\"-230.8\" font-family=\"Helvetica,sans-Serif\" font-size=\"14.00\">class = T1N;T2N;T3P</text>\n",
       "</g>\n",
       "<!-- 9&#45;&gt;13 -->\n",
       "<g id=\"edge13\" class=\"edge\">\n",
       "<title>9&#45;&gt;13</title>\n",
       "<path fill=\"none\" stroke=\"black\" d=\"M1275.38,-341.91C1286.51,-332.47 1298.45,-322.34 1309.89,-312.65\"/>\n",
       "<polygon fill=\"black\" stroke=\"black\" points=\"1312.34,-315.16 1317.71,-306.02 1307.82,-309.82 1312.34,-315.16\"/>\n",
       "</g>\n",
       "<!-- 11 -->\n",
       "<g id=\"node12\" class=\"node\">\n",
       "<title>11</title>\n",
       "<path fill=\"#399de5\" stroke=\"black\" d=\"M959.5,-179.5C959.5,-179.5 753.5,-179.5 753.5,-179.5 747.5,-179.5 741.5,-173.5 741.5,-167.5 741.5,-167.5 741.5,-123.5 741.5,-123.5 741.5,-117.5 747.5,-111.5 753.5,-111.5 753.5,-111.5 959.5,-111.5 959.5,-111.5 965.5,-111.5 971.5,-117.5 971.5,-123.5 971.5,-123.5 971.5,-167.5 971.5,-167.5 971.5,-173.5 965.5,-179.5 959.5,-179.5\"/>\n",
       "<text text-anchor=\"start\" x=\"821.5\" y=\"-164.3\" font-family=\"Helvetica,sans-Serif\" font-size=\"14.00\">gini = 0.0</text>\n",
       "<text text-anchor=\"start\" x=\"808\" y=\"-149.3\" font-family=\"Helvetica,sans-Serif\" font-size=\"14.00\">samples = 11</text>\n",
       "<text text-anchor=\"start\" x=\"749.5\" y=\"-134.3\" font-family=\"Helvetica,sans-Serif\" font-size=\"14.00\">value = [0, 0, 0, 0, 11, 0, 0, 0]</text>\n",
       "<text text-anchor=\"start\" x=\"783.5\" y=\"-119.3\" font-family=\"Helvetica,sans-Serif\" font-size=\"14.00\">class = T1P;T2N;T3N</text>\n",
       "</g>\n",
       "<!-- 10&#45;&gt;11 -->\n",
       "<g id=\"edge11\" class=\"edge\">\n",
       "<title>10&#45;&gt;11</title>\n",
       "<path fill=\"none\" stroke=\"black\" d=\"M1021.07,-222.91C993.86,-210.27 963.99,-196.41 937.25,-183.99\"/>\n",
       "<polygon fill=\"black\" stroke=\"black\" points=\"938.48,-180.7 927.94,-179.67 935.53,-187.05 938.48,-180.7\"/>\n",
       "</g>\n",
       "<!-- 12 -->\n",
       "<g id=\"node13\" class=\"node\">\n",
       "<title>12</title>\n",
       "<path fill=\"#e58139\" stroke=\"black\" d=\"M1217,-179.5C1217,-179.5 1002,-179.5 1002,-179.5 996,-179.5 990,-173.5 990,-167.5 990,-167.5 990,-123.5 990,-123.5 990,-117.5 996,-111.5 1002,-111.5 1002,-111.5 1217,-111.5 1217,-111.5 1223,-111.5 1229,-117.5 1229,-123.5 1229,-123.5 1229,-167.5 1229,-167.5 1229,-173.5 1223,-179.5 1217,-179.5\"/>\n",
       "<text text-anchor=\"start\" x=\"1074.5\" y=\"-164.3\" font-family=\"Helvetica,sans-Serif\" font-size=\"14.00\">gini = 0.0</text>\n",
       "<text text-anchor=\"start\" x=\"1056.5\" y=\"-149.3\" font-family=\"Helvetica,sans-Serif\" font-size=\"14.00\">samples = 836</text>\n",
       "<text text-anchor=\"start\" x=\"998\" y=\"-134.3\" font-family=\"Helvetica,sans-Serif\" font-size=\"14.00\">value = [836, 0, 0, 0, 0, 0, 0, 0]</text>\n",
       "<text text-anchor=\"start\" x=\"1046\" y=\"-119.3\" font-family=\"Helvetica,sans-Serif\" font-size=\"14.00\">class = Compliant</text>\n",
       "</g>\n",
       "<!-- 10&#45;&gt;12 -->\n",
       "<g id=\"edge12\" class=\"edge\">\n",
       "<title>10&#45;&gt;12</title>\n",
       "<path fill=\"none\" stroke=\"black\" d=\"M1108.85,-222.91C1108.94,-212.2 1109.04,-200.62 1109.13,-189.78\"/>\n",
       "<polygon fill=\"black\" stroke=\"black\" points=\"1112.63,-189.7 1109.22,-179.67 1105.63,-189.64 1112.63,-189.7\"/>\n",
       "</g>\n",
       "<!-- 14 -->\n",
       "<g id=\"node15\" class=\"node\">\n",
       "<title>14</title>\n",
       "<path fill=\"#c8e539\" stroke=\"black\" d=\"M1467.5,-179.5C1467.5,-179.5 1261.5,-179.5 1261.5,-179.5 1255.5,-179.5 1249.5,-173.5 1249.5,-167.5 1249.5,-167.5 1249.5,-123.5 1249.5,-123.5 1249.5,-117.5 1255.5,-111.5 1261.5,-111.5 1261.5,-111.5 1467.5,-111.5 1467.5,-111.5 1473.5,-111.5 1479.5,-117.5 1479.5,-123.5 1479.5,-123.5 1479.5,-167.5 1479.5,-167.5 1479.5,-173.5 1473.5,-179.5 1467.5,-179.5\"/>\n",
       "<text text-anchor=\"start\" x=\"1329.5\" y=\"-164.3\" font-family=\"Helvetica,sans-Serif\" font-size=\"14.00\">gini = 0.0</text>\n",
       "<text text-anchor=\"start\" x=\"1316\" y=\"-149.3\" font-family=\"Helvetica,sans-Serif\" font-size=\"14.00\">samples = 62</text>\n",
       "<text text-anchor=\"start\" x=\"1257.5\" y=\"-134.3\" font-family=\"Helvetica,sans-Serif\" font-size=\"14.00\">value = [0, 62, 0, 0, 0, 0, 0, 0]</text>\n",
       "<text text-anchor=\"start\" x=\"1291.5\" y=\"-119.3\" font-family=\"Helvetica,sans-Serif\" font-size=\"14.00\">class = T1N;T2N;T3P</text>\n",
       "</g>\n",
       "<!-- 13&#45;&gt;14 -->\n",
       "<g id=\"edge14\" class=\"edge\">\n",
       "<title>13&#45;&gt;14</title>\n",
       "<path fill=\"none\" stroke=\"black\" d=\"M1365.15,-222.91C1365.06,-212.2 1364.96,-200.62 1364.87,-189.78\"/>\n",
       "<polygon fill=\"black\" stroke=\"black\" points=\"1368.37,-189.64 1364.78,-179.67 1361.37,-189.7 1368.37,-189.64\"/>\n",
       "</g>\n",
       "<!-- 15 -->\n",
       "<g id=\"node16\" class=\"node\">\n",
       "<title>15</title>\n",
       "<path fill=\"#eeab7b\" stroke=\"black\" d=\"M1707,-179.5C1707,-179.5 1510,-179.5 1510,-179.5 1504,-179.5 1498,-173.5 1498,-167.5 1498,-167.5 1498,-123.5 1498,-123.5 1498,-117.5 1504,-111.5 1510,-111.5 1510,-111.5 1707,-111.5 1707,-111.5 1713,-111.5 1719,-117.5 1719,-123.5 1719,-123.5 1719,-167.5 1719,-167.5 1719,-173.5 1713,-179.5 1707,-179.5\"/>\n",
       "<text text-anchor=\"start\" x=\"1564.5\" y=\"-164.3\" font-family=\"Helvetica,sans-Serif\" font-size=\"14.00\">gini = 0.375</text>\n",
       "<text text-anchor=\"start\" x=\"1564.5\" y=\"-149.3\" font-family=\"Helvetica,sans-Serif\" font-size=\"14.00\">samples = 8</text>\n",
       "<text text-anchor=\"start\" x=\"1506\" y=\"-134.3\" font-family=\"Helvetica,sans-Serif\" font-size=\"14.00\">value = [6, 0, 0, 0, 2, 0, 0, 0]</text>\n",
       "<text text-anchor=\"start\" x=\"1545\" y=\"-119.3\" font-family=\"Helvetica,sans-Serif\" font-size=\"14.00\">class = Compliant</text>\n",
       "</g>\n",
       "<!-- 13&#45;&gt;15 -->\n",
       "<g id=\"edge15\" class=\"edge\">\n",
       "<title>13&#45;&gt;15</title>\n",
       "<path fill=\"none\" stroke=\"black\" d=\"M1449.81,-222.91C1475.93,-210.33 1504.6,-196.53 1530.29,-184.16\"/>\n",
       "<polygon fill=\"black\" stroke=\"black\" points=\"1532.12,-187.16 1539.61,-179.67 1529.09,-180.85 1532.12,-187.16\"/>\n",
       "</g>\n",
       "<!-- 17 -->\n",
       "<g id=\"node18\" class=\"node\">\n",
       "<title>17</title>\n",
       "<path fill=\"#3c9ee5\" stroke=\"black\" d=\"M1716.5,-298.5C1716.5,-298.5 1510.5,-298.5 1510.5,-298.5 1504.5,-298.5 1498.5,-292.5 1498.5,-286.5 1498.5,-286.5 1498.5,-242.5 1498.5,-242.5 1498.5,-236.5 1504.5,-230.5 1510.5,-230.5 1510.5,-230.5 1716.5,-230.5 1716.5,-230.5 1722.5,-230.5 1728.5,-236.5 1728.5,-242.5 1728.5,-242.5 1728.5,-286.5 1728.5,-286.5 1728.5,-292.5 1722.5,-298.5 1716.5,-298.5\"/>\n",
       "<text text-anchor=\"start\" x=\"1556\" y=\"-283.3\" font-family=\"Helvetica,sans-Serif\" font-size=\"14.00\">gini = 0.028565</text>\n",
       "<text text-anchor=\"start\" x=\"1565\" y=\"-268.3\" font-family=\"Helvetica,sans-Serif\" font-size=\"14.00\">samples = 69</text>\n",
       "<text text-anchor=\"start\" x=\"1506.5\" y=\"-253.3\" font-family=\"Helvetica,sans-Serif\" font-size=\"14.00\">value = [1, 0, 0, 0, 68, 0, 0, 0]</text>\n",
       "<text text-anchor=\"start\" x=\"1540.5\" y=\"-238.3\" font-family=\"Helvetica,sans-Serif\" font-size=\"14.00\">class = T1P;T2N;T3N</text>\n",
       "</g>\n",
       "<!-- 16&#45;&gt;17 -->\n",
       "<g id=\"edge17\" class=\"edge\">\n",
       "<title>16&#45;&gt;17</title>\n",
       "<path fill=\"none\" stroke=\"black\" d=\"M1613.5,-341.91C1613.5,-331.2 1613.5,-319.62 1613.5,-308.78\"/>\n",
       "<polygon fill=\"black\" stroke=\"black\" points=\"1617,-308.67 1613.5,-298.67 1610,-308.67 1617,-308.67\"/>\n",
       "</g>\n",
       "<!-- 18 -->\n",
       "<g id=\"node19\" class=\"node\">\n",
       "<title>18</title>\n",
       "<path fill=\"#9a89f0\" stroke=\"black\" d=\"M1964.5,-306C1964.5,-306 1758.5,-306 1758.5,-306 1752.5,-306 1746.5,-300 1746.5,-294 1746.5,-294 1746.5,-235 1746.5,-235 1746.5,-229 1752.5,-223 1758.5,-223 1758.5,-223 1964.5,-223 1964.5,-223 1970.5,-223 1976.5,-229 1976.5,-235 1976.5,-235 1976.5,-294 1976.5,-294 1976.5,-300 1970.5,-306 1964.5,-306\"/>\n",
       "<text text-anchor=\"start\" x=\"1766.5\" y=\"-290.8\" font-family=\"Helvetica,sans-Serif\" font-size=\"14.00\">time.to.first.byte.s ≤ 0.831</text>\n",
       "<text text-anchor=\"start\" x=\"1813\" y=\"-275.8\" font-family=\"Helvetica,sans-Serif\" font-size=\"14.00\">gini = 0.5176</text>\n",
       "<text text-anchor=\"start\" x=\"1813\" y=\"-260.8\" font-family=\"Helvetica,sans-Serif\" font-size=\"14.00\">samples = 50</text>\n",
       "<text text-anchor=\"start\" x=\"1754.5\" y=\"-245.8\" font-family=\"Helvetica,sans-Serif\" font-size=\"14.00\">value = [2, 7, 0, 0, 8, 33, 0, 0]</text>\n",
       "<text text-anchor=\"start\" x=\"1789.5\" y=\"-230.8\" font-family=\"Helvetica,sans-Serif\" font-size=\"14.00\">class = T1P;T2N;T3P</text>\n",
       "</g>\n",
       "<!-- 16&#45;&gt;18 -->\n",
       "<g id=\"edge18\" class=\"edge\">\n",
       "<title>16&#45;&gt;18</title>\n",
       "<path fill=\"none\" stroke=\"black\" d=\"M1699.54,-341.91C1721.09,-331.74 1744.32,-320.78 1766.28,-310.42\"/>\n",
       "<polygon fill=\"black\" stroke=\"black\" points=\"1768.06,-313.45 1775.61,-306.02 1765.07,-307.12 1768.06,-313.45\"/>\n",
       "</g>\n",
       "<!-- 19 -->\n",
       "<g id=\"node20\" class=\"node\">\n",
       "<title>19</title>\n",
       "<path fill=\"#7a63eb\" stroke=\"black\" d=\"M1960.5,-187C1960.5,-187 1754.5,-187 1754.5,-187 1748.5,-187 1742.5,-181 1742.5,-175 1742.5,-175 1742.5,-116 1742.5,-116 1742.5,-110 1748.5,-104 1754.5,-104 1754.5,-104 1960.5,-104 1960.5,-104 1966.5,-104 1972.5,-110 1972.5,-116 1972.5,-116 1972.5,-175 1972.5,-175 1972.5,-181 1966.5,-187 1960.5,-187\"/>\n",
       "<text text-anchor=\"start\" x=\"1764\" y=\"-171.8\" font-family=\"Helvetica,sans-Serif\" font-size=\"14.00\">rtt.from.3whs.a2b ≤ 111.5</text>\n",
       "<text text-anchor=\"start\" x=\"1804.5\" y=\"-156.8\" font-family=\"Helvetica,sans-Serif\" font-size=\"14.00\">gini = 0.28875</text>\n",
       "<text text-anchor=\"start\" x=\"1809\" y=\"-141.8\" font-family=\"Helvetica,sans-Serif\" font-size=\"14.00\">samples = 40</text>\n",
       "<text text-anchor=\"start\" x=\"1750.5\" y=\"-126.8\" font-family=\"Helvetica,sans-Serif\" font-size=\"14.00\">value = [0, 7, 0, 0, 0, 33, 0, 0]</text>\n",
       "<text text-anchor=\"start\" x=\"1785.5\" y=\"-111.8\" font-family=\"Helvetica,sans-Serif\" font-size=\"14.00\">class = T1P;T2N;T3P</text>\n",
       "</g>\n",
       "<!-- 18&#45;&gt;19 -->\n",
       "<g id=\"edge19\" class=\"edge\">\n",
       "<title>18&#45;&gt;19</title>\n",
       "<path fill=\"none\" stroke=\"black\" d=\"M1860.11,-222.91C1859.83,-214.56 1859.52,-205.67 1859.23,-197.02\"/>\n",
       "<polygon fill=\"black\" stroke=\"black\" points=\"1862.73,-196.9 1858.89,-187.02 1855.73,-197.13 1862.73,-196.9\"/>\n",
       "</g>\n",
       "<!-- 22 -->\n",
       "<g id=\"node23\" class=\"node\">\n",
       "<title>22</title>\n",
       "<path fill=\"#6ab6ec\" stroke=\"black\" d=\"M2200,-179.5C2200,-179.5 2003,-179.5 2003,-179.5 1997,-179.5 1991,-173.5 1991,-167.5 1991,-167.5 1991,-123.5 1991,-123.5 1991,-117.5 1997,-111.5 2003,-111.5 2003,-111.5 2200,-111.5 2200,-111.5 2206,-111.5 2212,-117.5 2212,-123.5 2212,-123.5 2212,-167.5 2212,-167.5 2212,-173.5 2206,-179.5 2200,-179.5\"/>\n",
       "<text text-anchor=\"start\" x=\"2062\" y=\"-164.3\" font-family=\"Helvetica,sans-Serif\" font-size=\"14.00\">gini = 0.32</text>\n",
       "<text text-anchor=\"start\" x=\"2053\" y=\"-149.3\" font-family=\"Helvetica,sans-Serif\" font-size=\"14.00\">samples = 10</text>\n",
       "<text text-anchor=\"start\" x=\"1999\" y=\"-134.3\" font-family=\"Helvetica,sans-Serif\" font-size=\"14.00\">value = [2, 0, 0, 0, 8, 0, 0, 0]</text>\n",
       "<text text-anchor=\"start\" x=\"2028.5\" y=\"-119.3\" font-family=\"Helvetica,sans-Serif\" font-size=\"14.00\">class = T1P;T2N;T3N</text>\n",
       "</g>\n",
       "<!-- 18&#45;&gt;22 -->\n",
       "<g id=\"edge22\" class=\"edge\">\n",
       "<title>18&#45;&gt;22</title>\n",
       "<path fill=\"none\" stroke=\"black\" d=\"M1944.77,-222.91C1970.57,-210.33 1998.88,-196.53 2024.26,-184.16\"/>\n",
       "<polygon fill=\"black\" stroke=\"black\" points=\"2026.01,-187.2 2033.47,-179.67 2022.94,-180.9 2026.01,-187.2\"/>\n",
       "</g>\n",
       "<!-- 20 -->\n",
       "<g id=\"node21\" class=\"node\">\n",
       "<title>20</title>\n",
       "<path fill=\"#5639e5\" stroke=\"black\" d=\"M1838.5,-68C1838.5,-68 1632.5,-68 1632.5,-68 1626.5,-68 1620.5,-62 1620.5,-56 1620.5,-56 1620.5,-12 1620.5,-12 1620.5,-6 1626.5,0 1632.5,0 1632.5,0 1838.5,0 1838.5,0 1844.5,0 1850.5,-6 1850.5,-12 1850.5,-12 1850.5,-56 1850.5,-56 1850.5,-62 1844.5,-68 1838.5,-68\"/>\n",
       "<text text-anchor=\"start\" x=\"1700.5\" y=\"-52.8\" font-family=\"Helvetica,sans-Serif\" font-size=\"14.00\">gini = 0.0</text>\n",
       "<text text-anchor=\"start\" x=\"1687\" y=\"-37.8\" font-family=\"Helvetica,sans-Serif\" font-size=\"14.00\">samples = 33</text>\n",
       "<text text-anchor=\"start\" x=\"1628.5\" y=\"-22.8\" font-family=\"Helvetica,sans-Serif\" font-size=\"14.00\">value = [0, 0, 0, 0, 0, 33, 0, 0]</text>\n",
       "<text text-anchor=\"start\" x=\"1663.5\" y=\"-7.8\" font-family=\"Helvetica,sans-Serif\" font-size=\"14.00\">class = T1P;T2N;T3P</text>\n",
       "</g>\n",
       "<!-- 19&#45;&gt;20 -->\n",
       "<g id=\"edge20\" class=\"edge\">\n",
       "<title>19&#45;&gt;20</title>\n",
       "<path fill=\"none\" stroke=\"black\" d=\"M1812.07,-103.73C1801.6,-94.33 1790.48,-84.35 1780.05,-74.99\"/>\n",
       "<polygon fill=\"black\" stroke=\"black\" points=\"1782.38,-72.37 1772.6,-68.3 1777.71,-77.58 1782.38,-72.37\"/>\n",
       "</g>\n",
       "<!-- 21 -->\n",
       "<g id=\"node22\" class=\"node\">\n",
       "<title>21</title>\n",
       "<path fill=\"#c8e539\" stroke=\"black\" d=\"M2078,-68C2078,-68 1881,-68 1881,-68 1875,-68 1869,-62 1869,-56 1869,-56 1869,-12 1869,-12 1869,-6 1875,0 1881,0 1881,0 2078,0 2078,0 2084,0 2090,-6 2090,-12 2090,-12 2090,-56 2090,-56 2090,-62 2084,-68 2078,-68\"/>\n",
       "<text text-anchor=\"start\" x=\"1944.5\" y=\"-52.8\" font-family=\"Helvetica,sans-Serif\" font-size=\"14.00\">gini = 0.0</text>\n",
       "<text text-anchor=\"start\" x=\"1935.5\" y=\"-37.8\" font-family=\"Helvetica,sans-Serif\" font-size=\"14.00\">samples = 7</text>\n",
       "<text text-anchor=\"start\" x=\"1877\" y=\"-22.8\" font-family=\"Helvetica,sans-Serif\" font-size=\"14.00\">value = [0, 7, 0, 0, 0, 0, 0, 0]</text>\n",
       "<text text-anchor=\"start\" x=\"1906.5\" y=\"-7.8\" font-family=\"Helvetica,sans-Serif\" font-size=\"14.00\">class = T1N;T2N;T3P</text>\n",
       "</g>\n",
       "<!-- 19&#45;&gt;21 -->\n",
       "<g id=\"edge21\" class=\"edge\">\n",
       "<title>19&#45;&gt;21</title>\n",
       "<path fill=\"none\" stroke=\"black\" d=\"M1902.93,-103.73C1913.4,-94.33 1924.52,-84.35 1934.95,-74.99\"/>\n",
       "<polygon fill=\"black\" stroke=\"black\" points=\"1937.29,-77.58 1942.4,-68.3 1932.62,-72.37 1937.29,-77.58\"/>\n",
       "</g>\n",
       "</g>\n",
       "</svg>\n"
      ],
      "text/plain": [
       "<graphviz.sources.Source at 0x7f913c604310>"
      ]
     },
     "execution_count": 24,
     "metadata": {},
     "output_type": "execute_result"
    }
   ],
   "source": [
    "dot_data = tree.export_graphviz(classifier, \n",
    "                                feature_names = np.array(fX.columns), \n",
    "                                class_names=classifier.classes_, \n",
    "                                filled=True, \n",
    "                                rounded=True, \n",
    "                                out_file=None,\n",
    "                                precision=6,\n",
    "                                special_characters=True)\n",
    "\n",
    "graph = graphviz.Source(dot_data)\n",
    "#graph.format='svg'\n",
    "graph.format='png'\n",
    "filename = graph.render(filename='models/nokia_dataset/model2_livepage_dl')\n",
    "graph"
   ]
  }
 ],
 "metadata": {
  "kernelspec": {
   "display_name": "Python 3 (ipykernel)",
   "language": "python",
   "name": "python3"
  },
  "language_info": {
   "codemirror_mode": {
    "name": "ipython",
    "version": 3
   },
   "file_extension": ".py",
   "mimetype": "text/x-python",
   "name": "python",
   "nbconvert_exporter": "python",
   "pygments_lexer": "ipython3",
   "version": "3.9.7"
  }
 },
 "nbformat": 4,
 "nbformat_minor": 5
}
